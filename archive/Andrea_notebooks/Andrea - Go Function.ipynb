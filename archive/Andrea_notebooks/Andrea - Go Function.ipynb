{
 "cells": [
  {
   "cell_type": "code",
   "execution_count": 1,
   "metadata": {},
   "outputs": [
    {
     "name": "stdout",
     "output_type": "stream",
     "text": [
      "Using matplotlib backend: MacOSX\n"
     ]
    }
   ],
   "source": [
    "from twitterscraper import query_tweets\n",
    "from datetime import timedelta, date\n",
    "import pandas as pd\n",
    "import csv\n",
    "import pickle\n",
    "from sklearn.feature_extraction.text import TfidfVectorizer\n",
    "from sklearn.linear_model import LogisticRegression\n",
    "from scipy.sparse import hstack\n",
    "%matplotlib"
   ]
  },
  {
   "cell_type": "code",
   "execution_count": 5,
   "metadata": {},
   "outputs": [],
   "source": [
    "filename1 = \"classified/Andrea/wikileaks\"\n",
    "df1 = pd.read_csv(filename1, encoding = \"ISO-8859-1\")"
   ]
  },
  {
   "cell_type": "code",
   "execution_count": 6,
   "metadata": {},
   "outputs": [
    {
     "data": {
      "text/html": [
       "<div>\n",
       "<style>\n",
       "    .dataframe thead tr:only-child th {\n",
       "        text-align: right;\n",
       "    }\n",
       "\n",
       "    .dataframe thead th {\n",
       "        text-align: left;\n",
       "    }\n",
       "\n",
       "    .dataframe tbody tr th {\n",
       "        vertical-align: top;\n",
       "    }\n",
       "</style>\n",
       "<table border=\"1\" class=\"dataframe\">\n",
       "  <thead>\n",
       "    <tr style=\"text-align: right;\">\n",
       "      <th></th>\n",
       "      <th>Unnamed: 0</th>\n",
       "      <th>date</th>\n",
       "      <th>fullname</th>\n",
       "      <th>id</th>\n",
       "      <th>likes</th>\n",
       "      <th>replies</th>\n",
       "      <th>retweets</th>\n",
       "      <th>text</th>\n",
       "      <th>url</th>\n",
       "      <th>user</th>\n",
       "      <th>month</th>\n",
       "      <th>toxic</th>\n",
       "      <th>severe_toxic</th>\n",
       "      <th>obscene</th>\n",
       "      <th>threat</th>\n",
       "      <th>insult</th>\n",
       "      <th>identity_hate</th>\n",
       "      <th>classification</th>\n",
       "      <th>max_value</th>\n",
       "    </tr>\n",
       "  </thead>\n",
       "  <tbody>\n",
       "    <tr>\n",
       "      <th>0</th>\n",
       "      <td>0</td>\n",
       "      <td>2016-07-08 23:59:30</td>\n",
       "      <td>Liberty Sauce</td>\n",
       "      <td>751566409860255744</td>\n",
       "      <td>0.0</td>\n",
       "      <td>0.0</td>\n",
       "      <td>0.0</td>\n",
       "      <td>Could argue they were deliberately misplaced. ...</td>\n",
       "      <td>/disturbedsauce/status/751566409860255744</td>\n",
       "      <td>disturbedsauce</td>\n",
       "      <td>2016-07-01</td>\n",
       "      <td>0.005018</td>\n",
       "      <td>0.000607</td>\n",
       "      <td>0.000440</td>\n",
       "      <td>0.000061</td>\n",
       "      <td>0.000130</td>\n",
       "      <td>0.000037</td>\n",
       "      <td>toxic</td>\n",
       "      <td>0.005018</td>\n",
       "    </tr>\n",
       "    <tr>\n",
       "      <th>1</th>\n",
       "      <td>1</td>\n",
       "      <td>2016-07-08 23:58:35</td>\n",
       "      <td>Liberty Sauce</td>\n",
       "      <td>751566182289903616</td>\n",
       "      <td>0.0</td>\n",
       "      <td>1.0</td>\n",
       "      <td>0.0</td>\n",
       "      <td>No they were sent to archives and misplaced.\\n...</td>\n",
       "      <td>/disturbedsauce/status/751566182289903616</td>\n",
       "      <td>disturbedsauce</td>\n",
       "      <td>2016-07-01</td>\n",
       "      <td>0.012006</td>\n",
       "      <td>0.000215</td>\n",
       "      <td>0.000151</td>\n",
       "      <td>0.000064</td>\n",
       "      <td>0.000052</td>\n",
       "      <td>0.000017</td>\n",
       "      <td>toxic</td>\n",
       "      <td>0.012006</td>\n",
       "    </tr>\n",
       "    <tr>\n",
       "      <th>2</th>\n",
       "      <td>2</td>\n",
       "      <td>2016-07-08 23:57:20</td>\n",
       "      <td>The Startupper</td>\n",
       "      <td>751565864663736320</td>\n",
       "      <td>0.0</td>\n",
       "      <td>0.0</td>\n",
       "      <td>0.0</td>\n",
       "      <td>Twittosofia: Wikileaks Releases 1,258 Clinton ...</td>\n",
       "      <td>/TheStartupper/status/751565864663736320</td>\n",
       "      <td>TheStartupper</td>\n",
       "      <td>2016-07-01</td>\n",
       "      <td>0.007615</td>\n",
       "      <td>0.002113</td>\n",
       "      <td>0.000045</td>\n",
       "      <td>0.000071</td>\n",
       "      <td>0.000621</td>\n",
       "      <td>0.000049</td>\n",
       "      <td>toxic</td>\n",
       "      <td>0.007615</td>\n",
       "    </tr>\n",
       "    <tr>\n",
       "      <th>3</th>\n",
       "      <td>3</td>\n",
       "      <td>2016-07-08 23:56:49</td>\n",
       "      <td>The Baader Report</td>\n",
       "      <td>751565737219674112</td>\n",
       "      <td>0.0</td>\n",
       "      <td>0.0</td>\n",
       "      <td>1.0</td>\n",
       "      <td>You don't need #NewHillaryConspiracyTheories\\n...</td>\n",
       "      <td>/Lemmits92/status/751565737219674112</td>\n",
       "      <td>Lemmits92</td>\n",
       "      <td>2016-07-01</td>\n",
       "      <td>0.006067</td>\n",
       "      <td>0.000370</td>\n",
       "      <td>0.000220</td>\n",
       "      <td>0.000078</td>\n",
       "      <td>0.000046</td>\n",
       "      <td>0.000040</td>\n",
       "      <td>toxic</td>\n",
       "      <td>0.006067</td>\n",
       "    </tr>\n",
       "    <tr>\n",
       "      <th>4</th>\n",
       "      <td>6</td>\n",
       "      <td>2016-07-08 23:52:55</td>\n",
       "      <td>michael</td>\n",
       "      <td>751564756000116736</td>\n",
       "      <td>2.0</td>\n",
       "      <td>1.0</td>\n",
       "      <td>1.0</td>\n",
       "      <td>post as pic! @EMMA__732 @TrumpsGucciGirl @DHec...</td>\n",
       "      <td>/nyvetvote/status/751564756000116736</td>\n",
       "      <td>nyvetvote</td>\n",
       "      <td>2016-07-01</td>\n",
       "      <td>0.002070</td>\n",
       "      <td>0.000182</td>\n",
       "      <td>0.000037</td>\n",
       "      <td>0.000016</td>\n",
       "      <td>0.000017</td>\n",
       "      <td>0.000019</td>\n",
       "      <td>toxic</td>\n",
       "      <td>0.002070</td>\n",
       "    </tr>\n",
       "  </tbody>\n",
       "</table>\n",
       "</div>"
      ],
      "text/plain": [
       "   Unnamed: 0                 date           fullname                  id  \\\n",
       "0           0  2016-07-08 23:59:30      Liberty Sauce  751566409860255744   \n",
       "1           1  2016-07-08 23:58:35      Liberty Sauce  751566182289903616   \n",
       "2           2  2016-07-08 23:57:20     The Startupper  751565864663736320   \n",
       "3           3  2016-07-08 23:56:49  The Baader Report  751565737219674112   \n",
       "4           6  2016-07-08 23:52:55            michael  751564756000116736   \n",
       "\n",
       "   likes  replies  retweets  \\\n",
       "0    0.0      0.0       0.0   \n",
       "1    0.0      1.0       0.0   \n",
       "2    0.0      0.0       0.0   \n",
       "3    0.0      0.0       1.0   \n",
       "4    2.0      1.0       1.0   \n",
       "\n",
       "                                                text  \\\n",
       "0  Could argue they were deliberately misplaced. ...   \n",
       "1  No they were sent to archives and misplaced.\\n...   \n",
       "2  Twittosofia: Wikileaks Releases 1,258 Clinton ...   \n",
       "3  You don't need #NewHillaryConspiracyTheories\\n...   \n",
       "4  post as pic! @EMMA__732 @TrumpsGucciGirl @DHec...   \n",
       "\n",
       "                                         url            user       month  \\\n",
       "0  /disturbedsauce/status/751566409860255744  disturbedsauce  2016-07-01   \n",
       "1  /disturbedsauce/status/751566182289903616  disturbedsauce  2016-07-01   \n",
       "2   /TheStartupper/status/751565864663736320   TheStartupper  2016-07-01   \n",
       "3       /Lemmits92/status/751565737219674112       Lemmits92  2016-07-01   \n",
       "4       /nyvetvote/status/751564756000116736       nyvetvote  2016-07-01   \n",
       "\n",
       "      toxic  severe_toxic   obscene    threat    insult  identity_hate  \\\n",
       "0  0.005018      0.000607  0.000440  0.000061  0.000130       0.000037   \n",
       "1  0.012006      0.000215  0.000151  0.000064  0.000052       0.000017   \n",
       "2  0.007615      0.002113  0.000045  0.000071  0.000621       0.000049   \n",
       "3  0.006067      0.000370  0.000220  0.000078  0.000046       0.000040   \n",
       "4  0.002070      0.000182  0.000037  0.000016  0.000017       0.000019   \n",
       "\n",
       "  classification  max_value  \n",
       "0          toxic   0.005018  \n",
       "1          toxic   0.012006  \n",
       "2          toxic   0.007615  \n",
       "3          toxic   0.006067  \n",
       "4          toxic   0.002070  "
      ]
     },
     "execution_count": 6,
     "metadata": {},
     "output_type": "execute_result"
    }
   ],
   "source": [
    "df1.head()"
   ]
  },
  {
   "cell_type": "code",
   "execution_count": 7,
   "metadata": {},
   "outputs": [
    {
     "data": {
      "text/plain": [
       "'2018-02-28 23:58:57'"
      ]
     },
     "execution_count": 7,
     "metadata": {},
     "output_type": "execute_result"
    }
   ],
   "source": [
    "max(df1.date)"
   ]
  },
  {
   "cell_type": "code",
   "execution_count": 8,
   "metadata": {},
   "outputs": [
    {
     "data": {
      "text/plain": [
       "'2016-01-01 23:20:16'"
      ]
     },
     "execution_count": 8,
     "metadata": {},
     "output_type": "execute_result"
    }
   ],
   "source": [
    "min(df1.date)"
   ]
  },
  {
   "cell_type": "code",
   "execution_count": 10,
   "metadata": {},
   "outputs": [
    {
     "data": {
      "text/plain": [
       "3727     2016-01-01 23:20:16\n",
       "3726     2016-01-01 23:21:23\n",
       "3725     2016-01-01 23:24:50\n",
       "3724     2016-01-01 23:27:37\n",
       "3723     2016-01-01 23:30:34\n",
       "3722     2016-01-01 23:32:50\n",
       "3721     2016-01-01 23:33:19\n",
       "3720     2016-01-01 23:33:39\n",
       "3719     2016-01-01 23:33:48\n",
       "3718     2016-01-01 23:37:15\n",
       "3717     2016-01-01 23:40:13\n",
       "3716     2016-01-01 23:41:00\n",
       "3715     2016-01-01 23:45:53\n",
       "3714     2016-01-01 23:47:51\n",
       "3713     2016-01-01 23:51:19\n",
       "3712     2016-01-01 23:51:36\n",
       "3711     2016-01-01 23:51:54\n",
       "3710     2016-01-01 23:55:04\n",
       "3709     2016-01-01 23:55:12\n",
       "1906     2016-01-02 23:20:16\n",
       "1905     2016-01-02 23:28:11\n",
       "1904     2016-01-02 23:28:51\n",
       "1903     2016-01-02 23:29:01\n",
       "1902     2016-01-02 23:29:48\n",
       "1901     2016-01-02 23:30:53\n",
       "1900     2016-01-02 23:31:33\n",
       "1899     2016-01-02 23:34:39\n",
       "1898     2016-01-02 23:36:56\n",
       "1897     2016-01-02 23:42:11\n",
       "1896     2016-01-02 23:43:44\n",
       "                ...         \n",
       "14414    2018-02-27 23:58:24\n",
       "14413    2018-02-27 23:58:42\n",
       "14412    2018-02-27 23:58:45\n",
       "14411    2018-02-27 23:59:00\n",
       "14410    2018-02-27 23:59:00\n",
       "14409    2018-02-27 23:59:03\n",
       "14408    2018-02-27 23:59:04\n",
       "14407    2018-02-27 23:59:08\n",
       "14406    2018-02-27 23:59:10\n",
       "14405    2018-02-27 23:59:12\n",
       "13797    2018-02-28 23:48:32\n",
       "13796    2018-02-28 23:48:34\n",
       "13795    2018-02-28 23:48:37\n",
       "13794    2018-02-28 23:48:56\n",
       "13793    2018-02-28 23:49:02\n",
       "13792    2018-02-28 23:49:08\n",
       "13791    2018-02-28 23:50:29\n",
       "13790    2018-02-28 23:52:11\n",
       "13789    2018-02-28 23:52:30\n",
       "13788    2018-02-28 23:53:13\n",
       "13787    2018-02-28 23:54:37\n",
       "13786    2018-02-28 23:54:49\n",
       "13785    2018-02-28 23:55:12\n",
       "13784    2018-02-28 23:56:14\n",
       "13783    2018-02-28 23:56:24\n",
       "13782    2018-02-28 23:56:40\n",
       "13781    2018-02-28 23:57:22\n",
       "13780    2018-02-28 23:57:29\n",
       "13779    2018-02-28 23:58:53\n",
       "13778    2018-02-28 23:58:57\n",
       "Name: date, Length: 14425, dtype: object"
      ]
     },
     "execution_count": 10,
     "metadata": {},
     "output_type": "execute_result"
    }
   ],
   "source": [
    "df1.sort_values('date').date"
   ]
  },
  {
   "cell_type": "code",
   "execution_count": null,
   "metadata": {
    "collapsed": true
   },
   "outputs": [],
   "source": []
  }
 ],
 "metadata": {
  "kernelspec": {
   "display_name": "Python 3",
   "language": "python",
   "name": "python3"
  },
  "language_info": {
   "codemirror_mode": {
    "name": "ipython",
    "version": 3
   },
   "file_extension": ".py",
   "mimetype": "text/x-python",
   "name": "python",
   "nbconvert_exporter": "python",
   "pygments_lexer": "ipython3",
   "version": "3.6.2"
  }
 },
 "nbformat": 4,
 "nbformat_minor": 2
}
