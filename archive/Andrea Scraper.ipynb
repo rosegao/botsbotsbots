{
 "cells": [
  {
   "cell_type": "code",
   "execution_count": 1,
   "metadata": {
    "collapsed": true
   },
   "outputs": [],
   "source": [
    "from twitterscraper import query_tweets\n",
    "from datetime import timedelta, date\n",
    "import pandas as pd\n",
    "import csv"
   ]
  },
  {
   "cell_type": "code",
   "execution_count": 2,
   "metadata": {
    "collapsed": true
   },
   "outputs": [],
   "source": [
    "def scrape(query, limit_per_day, start_date, end_date):\n",
    "    queries = query_tweets(query = query, \n",
    "                            limit = limit_per_day, \n",
    "                            begindate = start_date,\n",
    "                            enddate = end_date, \n",
    "                            poolsize=20, lang='en')\n",
    "    tweets = []\n",
    "    for tweet in queries:\n",
    "        tweets.append({'date': tweet.timestamp, 'text': tweet.text, \n",
    "                        'fullname': tweet.fullname, 'id': tweet.id, \n",
    "                        'likes': tweet.likes, 'replies': tweet.replies,\n",
    "                        'retweets': tweet.retweets, 'url': tweet.url,\n",
    "                        'user': tweet.user})\n",
    "    df = pd.DataFrame(tweets)\n",
    "    df['month'] = df['date'].apply(lambda x : date(x.year, x.month, 1))\n",
    "    df = df.dropna()\n",
    "    df = df.drop_duplicates()\n",
    "    df = df[df['date'] >= start_date]\n",
    "    df = df[df['date'] <= end_date]\n",
    "    return df"
   ]
  },
  {
   "cell_type": "code",
   "execution_count": 3,
   "metadata": {
    "collapsed": true
   },
   "outputs": [],
   "source": [
    "def merge_and_clean(df_list):\n",
    "    df = pd.concat(df_list)\n",
    "    df = df.dropna()\n",
    "    df = df.drop_duplicates()\n",
    "    return df"
   ]
  },
  {
   "cell_type": "code",
   "execution_count": 4,
   "metadata": {},
   "outputs": [],
   "source": [
    "odd_2016 = [(date(2015, 12, 31), date(2016, 2, 1)),\n",
    "            (date(2016, 1, 31), date(2016, 3, 1)),\n",
    "           (date(2016, 2, 29), date(2016, 4, 1)),\n",
    "           (date(2016, 3, 31), date(2016, 5, 1)),\n",
    "           (date(2016, 4, 30), date(2016, 6, 1)),\n",
    "           (date(2016, 5, 31), date(2016, 7, 1)),\n",
    "           (date(2016, 6, 30), date(2016, 8, 1)),\n",
    "           (date(2016, 7, 31), date(2016, 9, 1)),\n",
    "           (date(2016, 8, 31), date(2016, 10, 1)),\n",
    "           (date(2016, 9, 30), date(2016, 11, 1)),\n",
    "           (date(2016, 10, 31), date(2016, 12, 1)),\n",
    "           (date(2016, 11, 30), date(2017, 1, 1))]\n",
    "\n",
    "odd_2017 = [(date(2016, 12, 31), date(2017, 2, 1)),\n",
    "            (date(2017, 1, 31), date(2017, 3, 1)),\n",
    "           (date(2017, 2, 28), date(2017, 4, 1)),\n",
    "           (date(2017, 3, 31), date(2017, 5, 1)),\n",
    "           (date(2017, 4, 30), date(2017, 6, 1)),\n",
    "           (date(2017, 5, 31), date(2017, 7, 1)),\n",
    "           (date(2017, 6, 30), date(2017, 8, 1)),\n",
    "           (date(2017, 7, 31), date(2017, 9, 1)),\n",
    "           (date(2017, 8, 31), date(2017, 10, 1)),\n",
    "           (date(2017, 9, 30), date(2017, 11, 1)),\n",
    "           (date(2017, 10, 31), date(2017, 12, 1)),\n",
    "           (date(2017, 11, 30), date(2018, 1, 1))]\n",
    "\n",
    "odd_2018 = [(date(2017, 12, 31), date(2018, 2, 1)),\n",
    "            (date(2018, 1, 31), date(2018, 3, 1))]"
   ]
  },
  {
   "cell_type": "code",
   "execution_count": 5,
   "metadata": {
    "collapsed": true
   },
   "outputs": [],
   "source": [
    "even_2016 = [(date(2016, 1, 1), date(2016, 2, 1)),\n",
    "            (date(2016, 2, 1), date(2016, 3, 1)),\n",
    "           (date(2016, 3, 1), date(2016, 4, 1)),\n",
    "           (date(2016, 4, 1), date(2016, 5, 1)),\n",
    "           (date(2016, 5, 1), date(2016, 6, 1)),\n",
    "           (date(2016, 6, 1), date(2016, 7, 1)),\n",
    "           (date(2016, 7, 1), date(2016, 8, 1)),\n",
    "           (date(2016, 8, 1), date(2016, 9, 1)),\n",
    "           (date(2016, 9, 1), date(2016, 10, 1)),\n",
    "           (date(2016, 10, 1), date(2016, 11, 1)),\n",
    "           (date(2016, 11, 1), date(2016, 12, 1)),\n",
    "           (date(2016, 12, 1), date(2017, 1, 1))]\n",
    "\n",
    "even_2017 = [(date(2017, 1, 1), date(2017, 2, 1)),\n",
    "            (date(2017, 2, 1), date(2017, 3, 1)),\n",
    "           (date(2017, 3, 1), date(2017, 4, 1)),\n",
    "           (date(2017, 4, 1), date(2017, 5, 1)),\n",
    "           (date(2017, 5, 1), date(2017, 6, 1)),\n",
    "           (date(2017, 6, 1), date(2017, 7, 1)),\n",
    "           (date(2017, 7, 1), date(2017, 8, 1)),\n",
    "           (date(2017, 8, 1), date(2017, 9, 1)),\n",
    "           (date(2017, 9, 1), date(2017, 10, 1)),\n",
    "           (date(2017, 10, 1), date(2017, 11, 1)),\n",
    "           (date(2017, 11, 1), date(2017, 12, 1)),\n",
    "           (date(2017, 12, 1), date(2018, 1, 1))]\n",
    "\n",
    "even_2018 = [(date(2018, 1, 1), date(2018, 2, 1)),\n",
    "            (date(2018, 2, 1), date(2018, 3, 1))]"
   ]
  },
  {
   "cell_type": "code",
   "execution_count": 6,
   "metadata": {},
   "outputs": [],
   "source": [
    "odd1 = odd_2016[:3]\n",
    "odd2 = odd_2016[3:6]\n",
    "odd3 = odd_2016[6:9]\n",
    "odd4 = odd_2016[9:]\n",
    "even1 = even_2016[:3]\n",
    "even2 = even_2016[3:6]\n",
    "even3 = even_2016[6:9]\n",
    "even4 = even_2016[9:]\n",
    "\n",
    "odd1_2017 = odd_2017[:3]\n",
    "odd2_2017 = odd_2017[3:6]\n",
    "odd3_2017 = odd_2017[6:9]\n",
    "odd4_2017 = odd_2017[9:]\n",
    "even1_2017 = even_2017[:3]\n",
    "even2_2017 = even_2017[3:6]\n",
    "even3_2017 = even_2017[6:9]\n",
    "even4_2017 = even_2017[9:]"
   ]
  },
  {
   "cell_type": "code",
   "execution_count": 7,
   "metadata": {
    "collapsed": true
   },
   "outputs": [],
   "source": [
    "def go(date_range, query_term):\n",
    "    df_list = []\n",
    "    query = query_term\n",
    "    limit_per_day = 50\n",
    "    for tup in date_range:\n",
    "        start_date = tup[0]\n",
    "        end_date = tup[1]\n",
    "        df = scrape(query, limit_per_day, start_date, end_date)\n",
    "        df_list.append(df)\n",
    "    bigdf = merge_and_clean(df_list)\n",
    "    return bigdf"
   ]
  },
  {
   "cell_type": "code",
   "execution_count": 8,
   "metadata": {
    "collapsed": true
   },
   "outputs": [],
   "source": [
    "query_term = 'prochoice'\n",
    "limit_per_day = 50"
   ]
  },
  {
   "cell_type": "code",
   "execution_count": 9,
   "metadata": {
    "collapsed": true
   },
   "outputs": [],
   "source": [
    "even_2018 = go(even_2018, query_term)"
   ]
  },
  {
   "cell_type": "code",
   "execution_count": 10,
   "metadata": {
    "collapsed": true
   },
   "outputs": [],
   "source": [
    "odd_2018 = go(odd_2018, query_term)"
   ]
  },
  {
   "cell_type": "code",
   "execution_count": 11,
   "metadata": {
    "collapsed": true
   },
   "outputs": [],
   "source": [
    "df = merge_and_clean([even_2018, odd_2018])"
   ]
  },
  {
   "cell_type": "code",
   "execution_count": 12,
   "metadata": {
    "collapsed": true
   },
   "outputs": [],
   "source": [
    "#for date in df.sort_values('date').date.unique():\n",
    "   #print(date)"
   ]
  },
  {
   "cell_type": "code",
   "execution_count": 13,
   "metadata": {},
   "outputs": [
    {
     "data": {
      "text/plain": [
       "Timestamp('2018-01-01 18:28:22')"
      ]
     },
     "execution_count": 13,
     "metadata": {},
     "output_type": "execute_result"
    }
   ],
   "source": [
    "min(df.date)"
   ]
  },
  {
   "cell_type": "code",
   "execution_count": 14,
   "metadata": {},
   "outputs": [
    {
     "data": {
      "text/plain": [
       "Timestamp('2018-02-28 23:53:59')"
      ]
     },
     "execution_count": 14,
     "metadata": {},
     "output_type": "execute_result"
    }
   ],
   "source": [
    "max(df.date)"
   ]
  },
  {
   "cell_type": "code",
   "execution_count": 15,
   "metadata": {
    "collapsed": true
   },
   "outputs": [],
   "source": [
    "df.to_csv('twitter_data/andrea_scraped/abortion2018', mode='a', header=False)"
   ]
  },
  {
   "cell_type": "code",
   "execution_count": 16,
   "metadata": {
    "collapsed": true
   },
   "outputs": [],
   "source": [
    "#len(df)"
   ]
  },
  {
   "cell_type": "code",
   "execution_count": 17,
   "metadata": {},
   "outputs": [
    {
     "data": {
      "text/plain": [
       "117   2018-01-01 18:28:22\n",
       "116   2018-01-01 18:58:17\n",
       "115   2018-01-01 19:04:23\n",
       "114   2018-01-01 19:08:38\n",
       "113   2018-01-01 19:48:19\n",
       "112   2018-01-01 20:27:52\n",
       "111   2018-01-01 20:30:19\n",
       "110   2018-01-01 20:32:26\n",
       "109   2018-01-01 21:38:06\n",
       "108   2018-01-01 21:41:23\n",
       "107   2018-01-01 22:02:02\n",
       "106   2018-01-01 22:08:19\n",
       "105   2018-01-01 22:19:11\n",
       "104   2018-01-01 23:16:20\n",
       "103   2018-01-01 23:35:18\n",
       "102   2018-01-01 23:36:45\n",
       "101   2018-01-01 23:49:18\n",
       "100   2018-01-01 23:55:00\n",
       "99    2018-01-01 23:55:52\n",
       "168   2018-01-02 21:12:39\n",
       "167   2018-01-02 21:15:55\n",
       "166   2018-01-02 21:23:09\n",
       "165   2018-01-02 21:53:59\n",
       "164   2018-01-02 21:55:04\n",
       "163   2018-01-02 21:56:58\n",
       "162   2018-01-02 21:58:30\n",
       "161   2018-01-02 22:00:44\n",
       "160   2018-01-02 22:06:52\n",
       "159   2018-01-02 22:09:31\n",
       "158   2018-01-02 22:09:58\n",
       "              ...        \n",
       "215   2018-02-27 22:46:01\n",
       "214   2018-02-27 22:46:55\n",
       "213   2018-02-27 22:53:02\n",
       "212   2018-02-27 23:09:14\n",
       "211   2018-02-27 23:37:35\n",
       "210   2018-02-27 23:38:25\n",
       "209   2018-02-27 23:49:58\n",
       "208   2018-02-27 23:51:18\n",
       "207   2018-02-27 23:55:41\n",
       "206   2018-02-27 23:58:59\n",
       "179   2018-02-28 22:10:57\n",
       "178   2018-02-28 22:12:08\n",
       "177   2018-02-28 22:12:33\n",
       "176   2018-02-28 22:22:53\n",
       "175   2018-02-28 22:24:22\n",
       "174   2018-02-28 22:33:25\n",
       "173   2018-02-28 22:37:23\n",
       "172   2018-02-28 22:50:56\n",
       "171   2018-02-28 22:54:04\n",
       "170   2018-02-28 22:59:21\n",
       "169   2018-02-28 23:01:14\n",
       "168   2018-02-28 23:10:29\n",
       "167   2018-02-28 23:24:14\n",
       "166   2018-02-28 23:28:10\n",
       "165   2018-02-28 23:36:22\n",
       "164   2018-02-28 23:36:58\n",
       "163   2018-02-28 23:40:28\n",
       "162   2018-02-28 23:41:06\n",
       "161   2018-02-28 23:48:02\n",
       "160   2018-02-28 23:53:59\n",
       "Name: date, Length: 1086, dtype: datetime64[ns]"
      ]
     },
     "execution_count": 17,
     "metadata": {},
     "output_type": "execute_result"
    }
   ],
   "source": [
    "df.sort_values('date').date"
   ]
  },
  {
   "cell_type": "code",
   "execution_count": 18,
   "metadata": {},
   "outputs": [
    {
     "data": {
      "text/plain": [
       "'Yeah well I can’t think of any cases where a “person” is both putting your health in jeopardy—against your will—and also you have an obligation to preserve their life—also against your will.\\nDare I ask… Can you?'"
      ]
     },
     "execution_count": 18,
     "metadata": {},
     "output_type": "execute_result"
    }
   ],
   "source": [
    "df['text'].head()[4]"
   ]
  },
  {
   "cell_type": "code",
   "execution_count": 19,
   "metadata": {},
   "outputs": [
    {
     "data": {
      "text/plain": [
       "1086"
      ]
     },
     "execution_count": 19,
     "metadata": {},
     "output_type": "execute_result"
    }
   ],
   "source": [
    "len(df)"
   ]
  },
  {
   "cell_type": "code",
   "execution_count": null,
   "metadata": {
    "collapsed": true
   },
   "outputs": [],
   "source": []
  }
 ],
 "metadata": {
  "kernelspec": {
   "display_name": "Python 3",
   "language": "python",
   "name": "python3"
  },
  "language_info": {
   "codemirror_mode": {
    "name": "ipython",
    "version": 3
   },
   "file_extension": ".py",
   "mimetype": "text/x-python",
   "name": "python",
   "nbconvert_exporter": "python",
   "pygments_lexer": "ipython3",
   "version": "3.6.2"
  }
 },
 "nbformat": 4,
 "nbformat_minor": 2
}
