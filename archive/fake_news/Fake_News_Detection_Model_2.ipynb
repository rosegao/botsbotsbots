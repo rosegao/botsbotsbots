{
 "cells": [
  {
   "cell_type": "code",
   "execution_count": 1,
   "metadata": {
    "collapsed": true
   },
   "outputs": [],
   "source": [
    "import re\n",
    "import pandas as pd\n",
    "import numpy as np\n",
    "\n",
    "# import machine learning libraries from sklearn\n",
    "from sklearn.model_selection import train_test_split\n",
    "from sklearn.feature_extraction.text import TfidfVectorizer\n",
    "from sklearn.naive_bayes import MultinomialNB\n",
    "from sklearn.metrics import accuracy_score\n",
    "\n",
    "# visualizations\n",
    "import seaborn as sns\n",
    "from matplotlib import pyplot as plt"
   ]
  },
  {
   "cell_type": "code",
   "execution_count": 2,
   "metadata": {
    "collapsed": true
   },
   "outputs": [],
   "source": [
    "# read in dataset\n",
    "df = pd.read_csv('data/all_news.csv', encoding = \"ISO-8859-1\", usecols=['user', 'text', 'veracity'], dtype=object)"
   ]
  },
  {
   "cell_type": "code",
   "execution_count": 3,
   "metadata": {},
   "outputs": [
    {
     "data": {
      "text/html": [
       "<div>\n",
       "<style>\n",
       "    .dataframe thead tr:only-child th {\n",
       "        text-align: right;\n",
       "    }\n",
       "\n",
       "    .dataframe thead th {\n",
       "        text-align: left;\n",
       "    }\n",
       "\n",
       "    .dataframe tbody tr th {\n",
       "        vertical-align: top;\n",
       "    }\n",
       "</style>\n",
       "<table border=\"1\" class=\"dataframe\">\n",
       "  <thead>\n",
       "    <tr style=\"text-align: right;\">\n",
       "      <th></th>\n",
       "      <th>user</th>\n",
       "      <th>text</th>\n",
       "      <th>veracity</th>\n",
       "    </tr>\n",
       "  </thead>\n",
       "  <tbody>\n",
       "    <tr>\n",
       "      <th>0</th>\n",
       "      <td>patriotraphael</td>\n",
       "      <td>RT @Conservatexian: News post: \"Liberals Call ...</td>\n",
       "      <td>False</td>\n",
       "    </tr>\n",
       "    <tr>\n",
       "      <th>1</th>\n",
       "      <td>CBSNews</td>\n",
       "      <td>North Korea poised to make unprecedented missi...</td>\n",
       "      <td>True</td>\n",
       "    </tr>\n",
       "    <tr>\n",
       "      <th>2</th>\n",
       "      <td>michellearry</td>\n",
       "      <td>RT @Midgespeaks: From your mouth to God's ears...</td>\n",
       "      <td>False</td>\n",
       "    </tr>\n",
       "    <tr>\n",
       "      <th>3</th>\n",
       "      <td>giselleevns</td>\n",
       "      <td>RT @cd3isme: What Does The Fox Say????? #MakeM...</td>\n",
       "      <td>False</td>\n",
       "    </tr>\n",
       "    <tr>\n",
       "      <th>4</th>\n",
       "      <td>tpartynews</td>\n",
       "      <td>'Stop trying to fix the police! Fix the ghetto...</td>\n",
       "      <td>False</td>\n",
       "    </tr>\n",
       "  </tbody>\n",
       "</table>\n",
       "</div>"
      ],
      "text/plain": [
       "             user                                               text veracity\n",
       "0  patriotraphael  RT @Conservatexian: News post: \"Liberals Call ...    False\n",
       "1         CBSNews  North Korea poised to make unprecedented missi...     True\n",
       "2    michellearry  RT @Midgespeaks: From your mouth to God's ears...    False\n",
       "3     giselleevns  RT @cd3isme: What Does The Fox Say????? #MakeM...    False\n",
       "4      tpartynews  'Stop trying to fix the police! Fix the ghetto...    False"
      ]
     },
     "execution_count": 3,
     "metadata": {},
     "output_type": "execute_result"
    }
   ],
   "source": [
    "df.head()"
   ]
  },
  {
   "cell_type": "code",
   "execution_count": 4,
   "metadata": {
    "scrolled": true
   },
   "outputs": [
    {
     "data": {
      "text/plain": [
       "276490"
      ]
     },
     "execution_count": 4,
     "metadata": {},
     "output_type": "execute_result"
    }
   ],
   "source": [
    "len(df)"
   ]
  },
  {
   "cell_type": "code",
   "execution_count": 6,
   "metadata": {},
   "outputs": [],
   "source": [
    "### Preprocessing\n",
    "\n",
    "# drop NAs\n",
    "df = df.dropna()\n",
    "\n",
    "# drop duplicates\n",
    "df = df.drop_duplicates()\n",
    "\n",
    "# convert all values to str\n",
    "df = df.applymap(str)"
   ]
  },
  {
   "cell_type": "code",
   "execution_count": 7,
   "metadata": {
    "collapsed": true
   },
   "outputs": [],
   "source": [
    "# split df into df_train and df_test\n",
    "df_train = df[:int(len(df)*0.7)]\n",
    "df_test = df[int(len(df)*0.7):]"
   ]
  },
  {
   "cell_type": "code",
   "execution_count": 8,
   "metadata": {
    "collapsed": true
   },
   "outputs": [],
   "source": [
    "# create y_train and y_test\n",
    "y_train = df_train['veracity']\n",
    "y_test = df_test['veracity']"
   ]
  },
  {
   "cell_type": "markdown",
   "metadata": {},
   "source": [
    "### TF-IDF Vectorizer"
   ]
  },
  {
   "cell_type": "code",
   "execution_count": 9,
   "metadata": {
    "collapsed": true
   },
   "outputs": [],
   "source": [
    "# TF-IDF Vectorizer with ngrams (1-3)\n",
    "vectorizer = TfidfVectorizer(sublinear_tf=True, max_df=0.5, stop_words='english', ngram_range=(1,3))\n",
    "X_train = vectorizer.fit_transform(df_train['text'])\n",
    "X_test = vectorizer.transform(df_test['text'])"
   ]
  },
  {
   "cell_type": "code",
   "execution_count": 10,
   "metadata": {},
   "outputs": [
    {
     "name": "stdout",
     "output_type": "stream",
     "text": [
      "(189396, 2420853) (189396,)\n",
      "(81170, 2420853) (81170,)\n"
     ]
    }
   ],
   "source": [
    "# check that dimensions match\n",
    "print(X_train.shape, y_train.shape)\n",
    "print(X_test.shape, y_test.shape)"
   ]
  },
  {
   "cell_type": "markdown",
   "metadata": {},
   "source": [
    "### Multinomial Naive Bayes Classifier"
   ]
  },
  {
   "cell_type": "code",
   "execution_count": 11,
   "metadata": {
    "collapsed": true
   },
   "outputs": [],
   "source": [
    "clf = MultinomialNB()\n",
    "clf.fit(X_train, y_train)\n",
    "preds = clf.predict(X_test)"
   ]
  },
  {
   "cell_type": "code",
   "execution_count": 12,
   "metadata": {},
   "outputs": [
    {
     "data": {
      "text/plain": [
       "True"
      ]
     },
     "execution_count": 12,
     "metadata": {},
     "output_type": "execute_result"
    }
   ],
   "source": [
    "# checking preds have the right dimension\n",
    "len(preds) == len(y_test)"
   ]
  },
  {
   "cell_type": "markdown",
   "metadata": {},
   "source": [
    "### Predicted Values"
   ]
  },
  {
   "cell_type": "code",
   "execution_count": 13,
   "metadata": {
    "collapsed": true
   },
   "outputs": [],
   "source": [
    "df_test = df_test.assign(prediction = preds)"
   ]
  },
  {
   "cell_type": "code",
   "execution_count": 14,
   "metadata": {
    "scrolled": true
   },
   "outputs": [
    {
     "data": {
      "text/html": [
       "<div>\n",
       "<style>\n",
       "    .dataframe thead tr:only-child th {\n",
       "        text-align: right;\n",
       "    }\n",
       "\n",
       "    .dataframe thead th {\n",
       "        text-align: left;\n",
       "    }\n",
       "\n",
       "    .dataframe tbody tr th {\n",
       "        vertical-align: top;\n",
       "    }\n",
       "</style>\n",
       "<table border=\"1\" class=\"dataframe\">\n",
       "  <thead>\n",
       "    <tr style=\"text-align: right;\">\n",
       "      <th></th>\n",
       "      <th>user</th>\n",
       "      <th>text</th>\n",
       "      <th>veracity</th>\n",
       "      <th>prediction</th>\n",
       "    </tr>\n",
       "  </thead>\n",
       "  <tbody>\n",
       "    <tr>\n",
       "      <th>192451</th>\n",
       "      <td>lazykstafford</td>\n",
       "      <td>babies and dogs(: http://t.co/S3zsklh2MO</td>\n",
       "      <td>False</td>\n",
       "      <td>False</td>\n",
       "    </tr>\n",
       "    <tr>\n",
       "      <th>192452</th>\n",
       "      <td>NBCNews</td>\n",
       "      <td>Georgia cops hunt for second suspect in basket...</td>\n",
       "      <td>True</td>\n",
       "      <td>True</td>\n",
       "    </tr>\n",
       "    <tr>\n",
       "      <th>192453</th>\n",
       "      <td>paulinett</td>\n",
       "      <td>RT @chinedudiokpa: people are really comparing...</td>\n",
       "      <td>False</td>\n",
       "      <td>False</td>\n",
       "    </tr>\n",
       "    <tr>\n",
       "      <th>192454</th>\n",
       "      <td>leroylovesusa</td>\n",
       "      <td>RT @TeamTrumpAZ: #RIP https://t.co/tT5dnYICCr</td>\n",
       "      <td>False</td>\n",
       "      <td>False</td>\n",
       "    </tr>\n",
       "    <tr>\n",
       "      <th>192455</th>\n",
       "      <td>BBCNews</td>\n",
       "      <td>Wednesday's Telegraph: \"Pension cap to cost bi...</td>\n",
       "      <td>True</td>\n",
       "      <td>True</td>\n",
       "    </tr>\n",
       "  </tbody>\n",
       "</table>\n",
       "</div>"
      ],
      "text/plain": [
       "                 user                                               text  \\\n",
       "192451  lazykstafford           babies and dogs(: http://t.co/S3zsklh2MO   \n",
       "192452        NBCNews  Georgia cops hunt for second suspect in basket...   \n",
       "192453      paulinett  RT @chinedudiokpa: people are really comparing...   \n",
       "192454  leroylovesusa      RT @TeamTrumpAZ: #RIP https://t.co/tT5dnYICCr   \n",
       "192455        BBCNews  Wednesday's Telegraph: \"Pension cap to cost bi...   \n",
       "\n",
       "       veracity prediction  \n",
       "192451    False      False  \n",
       "192452     True       True  \n",
       "192453    False      False  \n",
       "192454    False      False  \n",
       "192455     True       True  "
      ]
     },
     "execution_count": 14,
     "metadata": {},
     "output_type": "execute_result"
    }
   ],
   "source": [
    "df_test.head()"
   ]
  },
  {
   "cell_type": "code",
   "execution_count": 15,
   "metadata": {
    "scrolled": true
   },
   "outputs": [
    {
     "data": {
      "text/plain": [
       "0.8406554145620303"
      ]
     },
     "execution_count": 15,
     "metadata": {},
     "output_type": "execute_result"
    }
   ],
   "source": [
    "# model's accuracy score\n",
    "score = accuracy_score(y_test, preds)\n",
    "score"
   ]
  },
  {
   "cell_type": "code",
   "execution_count": 16,
   "metadata": {},
   "outputs": [
    {
     "data": {
      "text/html": [
       "<div>\n",
       "<style>\n",
       "    .dataframe thead tr:only-child th {\n",
       "        text-align: right;\n",
       "    }\n",
       "\n",
       "    .dataframe thead th {\n",
       "        text-align: left;\n",
       "    }\n",
       "\n",
       "    .dataframe tbody tr th {\n",
       "        vertical-align: top;\n",
       "    }\n",
       "</style>\n",
       "<table border=\"1\" class=\"dataframe\">\n",
       "  <thead>\n",
       "    <tr style=\"text-align: right;\">\n",
       "      <th></th>\n",
       "      <th>user</th>\n",
       "      <th>text</th>\n",
       "      <th>veracity</th>\n",
       "      <th>prediction</th>\n",
       "    </tr>\n",
       "  </thead>\n",
       "  <tbody>\n",
       "    <tr>\n",
       "      <th>192457</th>\n",
       "      <td>NBCNews</td>\n",
       "      <td>Drinking urine, eating twigs? Expert share fro...</td>\n",
       "      <td>True</td>\n",
       "      <td>False</td>\n",
       "    </tr>\n",
       "    <tr>\n",
       "      <th>192462</th>\n",
       "      <td>BBCNews</td>\n",
       "      <td>Poverty costs UK £78bn a year, Joseph Rowntree...</td>\n",
       "      <td>True</td>\n",
       "      <td>False</td>\n",
       "    </tr>\n",
       "    <tr>\n",
       "      <th>192464</th>\n",
       "      <td>NBCNews</td>\n",
       "      <td>Trump names billionaire Carl Icahn as special ...</td>\n",
       "      <td>True</td>\n",
       "      <td>False</td>\n",
       "    </tr>\n",
       "    <tr>\n",
       "      <th>192465</th>\n",
       "      <td>NPR</td>\n",
       "      <td>Baby Bison That Was Placed In A Van By Tourist...</td>\n",
       "      <td>True</td>\n",
       "      <td>False</td>\n",
       "    </tr>\n",
       "    <tr>\n",
       "      <th>192473</th>\n",
       "      <td>BBCNews</td>\n",
       "      <td>New badger culling trials given go ahead acros...</td>\n",
       "      <td>True</td>\n",
       "      <td>False</td>\n",
       "    </tr>\n",
       "    <tr>\n",
       "      <th>192487</th>\n",
       "      <td>NBCNews</td>\n",
       "      <td>Colossal report on Iraq war to finally be rele...</td>\n",
       "      <td>True</td>\n",
       "      <td>False</td>\n",
       "    </tr>\n",
       "    <tr>\n",
       "      <th>192490</th>\n",
       "      <td>WSJ</td>\n",
       "      <td>Shake-up in Trump transition team, social medi...</td>\n",
       "      <td>True</td>\n",
       "      <td>False</td>\n",
       "    </tr>\n",
       "    <tr>\n",
       "      <th>192491</th>\n",
       "      <td>PBS</td>\n",
       "      <td>@emilybethhill Monday morning.</td>\n",
       "      <td>True</td>\n",
       "      <td>False</td>\n",
       "    </tr>\n",
       "    <tr>\n",
       "      <th>192495</th>\n",
       "      <td>ABC</td>\n",
       "      <td>Giuliani on whether Trump will attack Bill Cli...</td>\n",
       "      <td>True</td>\n",
       "      <td>False</td>\n",
       "    </tr>\n",
       "    <tr>\n",
       "      <th>192502</th>\n",
       "      <td>CBSNews</td>\n",
       "      <td>Banned from Britain: From Martha Stewart to th...</td>\n",
       "      <td>True</td>\n",
       "      <td>False</td>\n",
       "    </tr>\n",
       "  </tbody>\n",
       "</table>\n",
       "</div>"
      ],
      "text/plain": [
       "           user                                               text veracity  \\\n",
       "192457  NBCNews  Drinking urine, eating twigs? Expert share fro...     True   \n",
       "192462  BBCNews  Poverty costs UK £78bn a year, Joseph Rowntree...     True   \n",
       "192464  NBCNews  Trump names billionaire Carl Icahn as special ...     True   \n",
       "192465      NPR  Baby Bison That Was Placed In A Van By Tourist...     True   \n",
       "192473  BBCNews  New badger culling trials given go ahead acros...     True   \n",
       "192487  NBCNews  Colossal report on Iraq war to finally be rele...     True   \n",
       "192490      WSJ  Shake-up in Trump transition team, social medi...     True   \n",
       "192491      PBS                     @emilybethhill Monday morning.     True   \n",
       "192495      ABC  Giuliani on whether Trump will attack Bill Cli...     True   \n",
       "192502  CBSNews  Banned from Britain: From Martha Stewart to th...     True   \n",
       "\n",
       "       prediction  \n",
       "192457      False  \n",
       "192462      False  \n",
       "192464      False  \n",
       "192465      False  \n",
       "192473      False  \n",
       "192487      False  \n",
       "192490      False  \n",
       "192491      False  \n",
       "192495      False  \n",
       "192502      False  "
      ]
     },
     "execution_count": 16,
     "metadata": {},
     "output_type": "execute_result"
    }
   ],
   "source": [
    "# incorrectly classified results\n",
    "df_test[df_test['prediction'] != df_test['veracity']].head(10)"
   ]
  },
  {
   "cell_type": "code",
   "execution_count": 17,
   "metadata": {
    "collapsed": true
   },
   "outputs": [],
   "source": [
    "def show_most_informative_features(vectorizer, clf, n=20):\n",
    "    feature_names = vectorizer.get_feature_names()\n",
    "    coefs_with_fns = sorted(zip(clf.coef_[0], feature_names))\n",
    "    top = zip(coefs_with_fns[:n], coefs_with_fns[:-(n + 1):-1])\n",
    "    for (coef_1, fn_1), (coef_2, fn_2) in top:\n",
    "        print(\"\\t%.4f\\t%-15s\\t\\t%.4f\\t%-15s\" % (coef_1, fn_1, coef_2, fn_2))"
   ]
  },
  {
   "cell_type": "code",
   "execution_count": 18,
   "metadata": {},
   "outputs": [
    {
     "name": "stdout",
     "output_type": "stream",
     "text": [
      "\t-14.7878\t00 00          \t\t-8.8146\tcom            \n",
      "\t-14.7878\t00 00 00       \t\t-8.9069\ttwitter        \n",
      "\t-14.7878\t00 00 000      \t\t-8.9091\ttwitter com    \n",
      "\t-14.7878\t00 000         \t\t-9.1895\tpic twitter com\n",
      "\t-14.7878\t00 000 honeymoon\t\t-9.1895\tpic twitter    \n",
      "\t-14.7878\t00 04          \t\t-9.1972\tpic            \n",
      "\t-14.7878\t00 04 08       \t\t-9.2796\ttrump          \n",
      "\t-14.7878\t00 16          \t\t-9.2922\thttp           \n",
      "\t-14.7878\t00 16 https    \t\t-9.3642\tnew            \n",
      "\t-14.7878\t00 21          \t\t-9.4702\tsays           \n",
      "\t-14.7878\t00 21 00       \t\t-9.6291\tpbs            \n",
      "\t-14.7878\t00 51          \t\t-9.6817\twatch          \n",
      "\t-14.7878\t00 51 cst      \t\t-9.8244\tpolice         \n",
      "\t-14.7878\t00 automobile  \t\t-9.8457\torg            \n",
      "\t-14.7878\t00 automobile executives\t\t-9.8514\tclinton        \n",
      "\t-14.7878\t00 biz         \t\t-9.8557\tpbs org        \n",
      "\t-14.7878\t00 biz https   \t\t-9.8632\thttp pbs org   \n",
      "\t-14.7878\t00 blacktwitter\t\t-9.8632\thttp pbs       \n",
      "\t-14.7878\t00 blacktwitter blackownedstores\t\t-9.8648\tyear           \n",
      "\t-14.7878\t00 christmas   \t\t-9.8658\tdonald         \n"
     ]
    }
   ],
   "source": [
    "show_most_informative_features(vectorizer, clf)"
   ]
  },
  {
   "cell_type": "code",
   "execution_count": 23,
   "metadata": {
    "collapsed": true
   },
   "outputs": [],
   "source": [
    "prop = pd.read_csv('nbc_dataset/tweets.csv')"
   ]
  },
  {
   "cell_type": "code",
   "execution_count": 51,
   "metadata": {},
   "outputs": [
    {
     "data": {
      "text/plain": [
       "\"When I remember it's #Friyay https://t.co/yjBTsaFaR2\""
      ]
     },
     "execution_count": 51,
     "metadata": {},
     "output_type": "execute_result"
    }
   ],
   "source": [
    "prop['text'][28]"
   ]
  },
  {
   "cell_type": "code",
   "execution_count": null,
   "metadata": {
    "collapsed": true
   },
   "outputs": [],
   "source": []
  }
 ],
 "metadata": {
  "kernelspec": {
   "display_name": "Python 3",
   "language": "python",
   "name": "python3"
  },
  "language_info": {
   "codemirror_mode": {
    "name": "ipython",
    "version": 3
   },
   "file_extension": ".py",
   "mimetype": "text/x-python",
   "name": "python",
   "nbconvert_exporter": "python",
   "pygments_lexer": "ipython3",
   "version": "3.6.2"
  }
 },
 "nbformat": 4,
 "nbformat_minor": 2
}
