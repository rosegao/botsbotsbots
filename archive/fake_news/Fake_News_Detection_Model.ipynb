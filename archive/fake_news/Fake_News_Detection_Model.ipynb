{
 "cells": [
  {
   "cell_type": "code",
   "execution_count": 76,
   "metadata": {
    "collapsed": true
   },
   "outputs": [],
   "source": [
    "import pandas as pd\n",
    "import numpy as np\n",
    "\n",
    "# import machine learning libraries from sklearn\n",
    "from sklearn.feature_extraction.text import TfidfVectorizer\n",
    "from sklearn.naive_bayes import MultinomialNB"
   ]
  },
  {
   "cell_type": "code",
   "execution_count": 77,
   "metadata": {
    "collapsed": true
   },
   "outputs": [],
   "source": [
    "cols = ['id', 'label', 'statement', 'subject', 'speaker', 'title', 'state', 'party']"
   ]
  },
  {
   "cell_type": "code",
   "execution_count": 78,
   "metadata": {
    "collapsed": true
   },
   "outputs": [],
   "source": [
    "# read in datasets\n",
    "liar_train = pd.read_csv(\"liar_dataset/train.tsv\", sep='\\t', header=None, names=cols, usecols=cols)\n",
    "liar_test = pd.read_csv(\"liar_dataset/test.tsv\", sep='\\t', header=None, names=cols, usecols=cols)\n",
    "liar_valid = pd.read_csv(\"liar_dataset/valid.tsv\", sep='\\t', header=None, names=cols, usecols=cols)"
   ]
  },
  {
   "cell_type": "code",
   "execution_count": 79,
   "metadata": {},
   "outputs": [
    {
     "data": {
      "text/html": [
       "<div>\n",
       "<style>\n",
       "    .dataframe thead tr:only-child th {\n",
       "        text-align: right;\n",
       "    }\n",
       "\n",
       "    .dataframe thead th {\n",
       "        text-align: left;\n",
       "    }\n",
       "\n",
       "    .dataframe tbody tr th {\n",
       "        vertical-align: top;\n",
       "    }\n",
       "</style>\n",
       "<table border=\"1\" class=\"dataframe\">\n",
       "  <thead>\n",
       "    <tr style=\"text-align: right;\">\n",
       "      <th></th>\n",
       "      <th>id</th>\n",
       "      <th>label</th>\n",
       "      <th>statement</th>\n",
       "      <th>subject</th>\n",
       "      <th>speaker</th>\n",
       "      <th>title</th>\n",
       "      <th>state</th>\n",
       "      <th>party</th>\n",
       "    </tr>\n",
       "  </thead>\n",
       "  <tbody>\n",
       "    <tr>\n",
       "      <th>0</th>\n",
       "      <td>2635.json</td>\n",
       "      <td>false</td>\n",
       "      <td>Says the Annies List political group supports ...</td>\n",
       "      <td>abortion</td>\n",
       "      <td>dwayne-bohac</td>\n",
       "      <td>State representative</td>\n",
       "      <td>Texas</td>\n",
       "      <td>republican</td>\n",
       "    </tr>\n",
       "    <tr>\n",
       "      <th>1</th>\n",
       "      <td>10540.json</td>\n",
       "      <td>half-true</td>\n",
       "      <td>When did the decline of coal start? It started...</td>\n",
       "      <td>energy,history,job-accomplishments</td>\n",
       "      <td>scott-surovell</td>\n",
       "      <td>State delegate</td>\n",
       "      <td>Virginia</td>\n",
       "      <td>democrat</td>\n",
       "    </tr>\n",
       "    <tr>\n",
       "      <th>2</th>\n",
       "      <td>324.json</td>\n",
       "      <td>mostly-true</td>\n",
       "      <td>Hillary Clinton agrees with John McCain \"by vo...</td>\n",
       "      <td>foreign-policy</td>\n",
       "      <td>barack-obama</td>\n",
       "      <td>President</td>\n",
       "      <td>Illinois</td>\n",
       "      <td>democrat</td>\n",
       "    </tr>\n",
       "    <tr>\n",
       "      <th>3</th>\n",
       "      <td>1123.json</td>\n",
       "      <td>false</td>\n",
       "      <td>Health care reform legislation is likely to ma...</td>\n",
       "      <td>health-care</td>\n",
       "      <td>blog-posting</td>\n",
       "      <td>NaN</td>\n",
       "      <td>NaN</td>\n",
       "      <td>none</td>\n",
       "    </tr>\n",
       "    <tr>\n",
       "      <th>4</th>\n",
       "      <td>9028.json</td>\n",
       "      <td>half-true</td>\n",
       "      <td>The economic turnaround started at the end of ...</td>\n",
       "      <td>economy,jobs</td>\n",
       "      <td>charlie-crist</td>\n",
       "      <td>NaN</td>\n",
       "      <td>Florida</td>\n",
       "      <td>democrat</td>\n",
       "    </tr>\n",
       "  </tbody>\n",
       "</table>\n",
       "</div>"
      ],
      "text/plain": [
       "           id        label                                          statement  \\\n",
       "0   2635.json        false  Says the Annies List political group supports ...   \n",
       "1  10540.json    half-true  When did the decline of coal start? It started...   \n",
       "2    324.json  mostly-true  Hillary Clinton agrees with John McCain \"by vo...   \n",
       "3   1123.json        false  Health care reform legislation is likely to ma...   \n",
       "4   9028.json    half-true  The economic turnaround started at the end of ...   \n",
       "\n",
       "                              subject         speaker                 title  \\\n",
       "0                            abortion    dwayne-bohac  State representative   \n",
       "1  energy,history,job-accomplishments  scott-surovell        State delegate   \n",
       "2                      foreign-policy    barack-obama             President   \n",
       "3                         health-care    blog-posting                   NaN   \n",
       "4                        economy,jobs   charlie-crist                   NaN   \n",
       "\n",
       "      state       party  \n",
       "0     Texas  republican  \n",
       "1  Virginia    democrat  \n",
       "2  Illinois    democrat  \n",
       "3       NaN        none  \n",
       "4   Florida    democrat  "
      ]
     },
     "execution_count": 79,
     "metadata": {},
     "output_type": "execute_result"
    }
   ],
   "source": [
    "liar_train.head()"
   ]
  },
  {
   "cell_type": "markdown",
   "metadata": {},
   "source": [
    "### TF-IDF Vectorizer"
   ]
  },
  {
   "cell_type": "code",
   "execution_count": 52,
   "metadata": {
    "collapsed": true
   },
   "outputs": [],
   "source": [
    "vectorizer = TfidfVectorizer(sublinear_tf=True, max_df=0.5,stop_words='english', ngram_range=(1,3))\n",
    "X_train = vectorizer.fit_transform(liar_train['statement'])\n",
    "X_test = vectorizer.transform(liar_test['statement'])\n",
    "X_valid = vectorizer.transform(liar_valid['statement'])"
   ]
  },
  {
   "cell_type": "markdown",
   "metadata": {},
   "source": [
    "### Multinomial Naive Bayes Classifier"
   ]
  },
  {
   "cell_type": "code",
   "execution_count": 54,
   "metadata": {},
   "outputs": [],
   "source": [
    "from sklearn.naive_bayes import MultinomialNB\n",
    "classifier = MultinomialNB()\n",
    "classifier.fit(X_train, liar_train['label'])\n",
    "probs = classifier.predict_proba(X_test)"
   ]
  },
  {
   "cell_type": "markdown",
   "metadata": {},
   "source": [
    "### Predicted Values"
   ]
  },
  {
   "cell_type": "code",
   "execution_count": 64,
   "metadata": {
    "scrolled": true
   },
   "outputs": [
    {
     "data": {
      "text/html": [
       "<div>\n",
       "<style>\n",
       "    .dataframe thead tr:only-child th {\n",
       "        text-align: right;\n",
       "    }\n",
       "\n",
       "    .dataframe thead th {\n",
       "        text-align: left;\n",
       "    }\n",
       "\n",
       "    .dataframe tbody tr th {\n",
       "        vertical-align: top;\n",
       "    }\n",
       "</style>\n",
       "<table border=\"1\" class=\"dataframe\">\n",
       "  <thead>\n",
       "    <tr style=\"text-align: right;\">\n",
       "      <th></th>\n",
       "      <th>label</th>\n",
       "      <th>statement</th>\n",
       "      <th>barely-true</th>\n",
       "      <th>false</th>\n",
       "      <th>half-true</th>\n",
       "      <th>mostly-true</th>\n",
       "      <th>pants-fire</th>\n",
       "      <th>true</th>\n",
       "      <th>prediction</th>\n",
       "    </tr>\n",
       "  </thead>\n",
       "  <tbody>\n",
       "    <tr>\n",
       "      <th>0</th>\n",
       "      <td>true</td>\n",
       "      <td>Building a wall on the U.S.-Mexico border will...</td>\n",
       "      <td>0.123923</td>\n",
       "      <td>0.236334</td>\n",
       "      <td>0.266330</td>\n",
       "      <td>0.213154</td>\n",
       "      <td>0.039495</td>\n",
       "      <td>0.120764</td>\n",
       "      <td>half-true</td>\n",
       "    </tr>\n",
       "    <tr>\n",
       "      <th>1</th>\n",
       "      <td>false</td>\n",
       "      <td>Wisconsin is on pace to double the number of l...</td>\n",
       "      <td>0.108955</td>\n",
       "      <td>0.219966</td>\n",
       "      <td>0.278728</td>\n",
       "      <td>0.214314</td>\n",
       "      <td>0.035156</td>\n",
       "      <td>0.142880</td>\n",
       "      <td>half-true</td>\n",
       "    </tr>\n",
       "    <tr>\n",
       "      <th>2</th>\n",
       "      <td>false</td>\n",
       "      <td>Says John McCain has done nothing to help the ...</td>\n",
       "      <td>0.157423</td>\n",
       "      <td>0.171272</td>\n",
       "      <td>0.246396</td>\n",
       "      <td>0.211399</td>\n",
       "      <td>0.044876</td>\n",
       "      <td>0.168634</td>\n",
       "      <td>half-true</td>\n",
       "    </tr>\n",
       "    <tr>\n",
       "      <th>3</th>\n",
       "      <td>half-true</td>\n",
       "      <td>Suzanne Bonamici supports a plan that will cut...</td>\n",
       "      <td>0.193143</td>\n",
       "      <td>0.271448</td>\n",
       "      <td>0.260500</td>\n",
       "      <td>0.126758</td>\n",
       "      <td>0.046539</td>\n",
       "      <td>0.101611</td>\n",
       "      <td>false</td>\n",
       "    </tr>\n",
       "    <tr>\n",
       "      <th>4</th>\n",
       "      <td>pants-fire</td>\n",
       "      <td>When asked by a reporter whether hes at the ce...</td>\n",
       "      <td>0.137212</td>\n",
       "      <td>0.468380</td>\n",
       "      <td>0.198787</td>\n",
       "      <td>0.089443</td>\n",
       "      <td>0.040476</td>\n",
       "      <td>0.065701</td>\n",
       "      <td>false</td>\n",
       "    </tr>\n",
       "  </tbody>\n",
       "</table>\n",
       "</div>"
      ],
      "text/plain": [
       "        label                                          statement  barely-true  \\\n",
       "0        true  Building a wall on the U.S.-Mexico border will...     0.123923   \n",
       "1       false  Wisconsin is on pace to double the number of l...     0.108955   \n",
       "2       false  Says John McCain has done nothing to help the ...     0.157423   \n",
       "3   half-true  Suzanne Bonamici supports a plan that will cut...     0.193143   \n",
       "4  pants-fire  When asked by a reporter whether hes at the ce...     0.137212   \n",
       "\n",
       "      false  half-true  mostly-true  pants-fire      true prediction  \n",
       "0  0.236334   0.266330     0.213154    0.039495  0.120764  half-true  \n",
       "1  0.219966   0.278728     0.214314    0.035156  0.142880  half-true  \n",
       "2  0.171272   0.246396     0.211399    0.044876  0.168634  half-true  \n",
       "3  0.271448   0.260500     0.126758    0.046539  0.101611      false  \n",
       "4  0.468380   0.198787     0.089443    0.040476  0.065701      false  "
      ]
     },
     "execution_count": 64,
     "metadata": {},
     "output_type": "execute_result"
    }
   ],
   "source": [
    "results = pd.concat([liar_test[['label','statement']], pd.DataFrame(probs, columns = classifier.classes_)], axis=1)\n",
    "results['prediction'] = classifier.predict(X_test)\n",
    "\n",
    "results.head()"
   ]
  },
  {
   "cell_type": "markdown",
   "metadata": {},
   "source": [
    "### Correlations between variables"
   ]
  },
  {
   "cell_type": "code",
   "execution_count": 66,
   "metadata": {},
   "outputs": [
    {
     "data": {
      "text/html": [
       "<div>\n",
       "<style>\n",
       "    .dataframe thead tr:only-child th {\n",
       "        text-align: right;\n",
       "    }\n",
       "\n",
       "    .dataframe thead th {\n",
       "        text-align: left;\n",
       "    }\n",
       "\n",
       "    .dataframe tbody tr th {\n",
       "        vertical-align: top;\n",
       "    }\n",
       "</style>\n",
       "<table border=\"1\" class=\"dataframe\">\n",
       "  <thead>\n",
       "    <tr style=\"text-align: right;\">\n",
       "      <th></th>\n",
       "      <th>pants-fire</th>\n",
       "      <th>false</th>\n",
       "      <th>barely-true</th>\n",
       "      <th>half-true</th>\n",
       "      <th>mostly-true</th>\n",
       "      <th>true</th>\n",
       "    </tr>\n",
       "  </thead>\n",
       "  <tbody>\n",
       "    <tr>\n",
       "      <th>pants-fire</th>\n",
       "      <td>1.000000</td>\n",
       "      <td>0.219087</td>\n",
       "      <td>0.289022</td>\n",
       "      <td>-0.372107</td>\n",
       "      <td>-0.395027</td>\n",
       "      <td>0.008249</td>\n",
       "    </tr>\n",
       "    <tr>\n",
       "      <th>false</th>\n",
       "      <td>0.219087</td>\n",
       "      <td>1.000000</td>\n",
       "      <td>0.096202</td>\n",
       "      <td>-0.362076</td>\n",
       "      <td>-0.555262</td>\n",
       "      <td>-0.370509</td>\n",
       "    </tr>\n",
       "    <tr>\n",
       "      <th>barely-true</th>\n",
       "      <td>0.289022</td>\n",
       "      <td>0.096202</td>\n",
       "      <td>1.000000</td>\n",
       "      <td>-0.273083</td>\n",
       "      <td>-0.438359</td>\n",
       "      <td>-0.277004</td>\n",
       "    </tr>\n",
       "    <tr>\n",
       "      <th>half-true</th>\n",
       "      <td>-0.372107</td>\n",
       "      <td>-0.362076</td>\n",
       "      <td>-0.273083</td>\n",
       "      <td>1.000000</td>\n",
       "      <td>-0.077071</td>\n",
       "      <td>-0.306635</td>\n",
       "    </tr>\n",
       "    <tr>\n",
       "      <th>mostly-true</th>\n",
       "      <td>-0.395027</td>\n",
       "      <td>-0.555262</td>\n",
       "      <td>-0.438359</td>\n",
       "      <td>-0.077071</td>\n",
       "      <td>1.000000</td>\n",
       "      <td>0.148767</td>\n",
       "    </tr>\n",
       "    <tr>\n",
       "      <th>true</th>\n",
       "      <td>0.008249</td>\n",
       "      <td>-0.370509</td>\n",
       "      <td>-0.277004</td>\n",
       "      <td>-0.306635</td>\n",
       "      <td>0.148767</td>\n",
       "      <td>1.000000</td>\n",
       "    </tr>\n",
       "  </tbody>\n",
       "</table>\n",
       "</div>"
      ],
      "text/plain": [
       "             pants-fire     false  barely-true  half-true  mostly-true  \\\n",
       "pants-fire     1.000000  0.219087     0.289022  -0.372107    -0.395027   \n",
       "false          0.219087  1.000000     0.096202  -0.362076    -0.555262   \n",
       "barely-true    0.289022  0.096202     1.000000  -0.273083    -0.438359   \n",
       "half-true     -0.372107 -0.362076    -0.273083   1.000000    -0.077071   \n",
       "mostly-true   -0.395027 -0.555262    -0.438359  -0.077071     1.000000   \n",
       "true           0.008249 -0.370509    -0.277004  -0.306635     0.148767   \n",
       "\n",
       "                 true  \n",
       "pants-fire   0.008249  \n",
       "false       -0.370509  \n",
       "barely-true -0.277004  \n",
       "half-true   -0.306635  \n",
       "mostly-true  0.148767  \n",
       "true         1.000000  "
      ]
     },
     "execution_count": 66,
     "metadata": {},
     "output_type": "execute_result"
    }
   ],
   "source": [
    "corr = results[['pants-fire','false','barely-true', 'half-true', 'mostly-true','true']].corr()\n",
    "corr"
   ]
  },
  {
   "cell_type": "code",
   "execution_count": 69,
   "metadata": {},
   "outputs": [
    {
     "data": {
      "image/png": "[encoded data removed]",
      "text/plain": [
       "<matplotlib.figure.Figure at 0x24a975ac940>"
      ]
     },
     "metadata": {},
     "output_type": "display_data"
    }
   ],
   "source": [
    "# pretty correlation chart\n",
    "\n",
    "import seaborn as sns\n",
    "from matplotlib import pyplot as plt\n",
    "\n",
    "fig=plt.figure(figsize=(8, 8), dpi=80) \n",
    "sns.heatmap(corr, annot=True, fmt='g', cmap=sns.diverging_palette(220, 10, as_cmap=True))\n",
    "plt.show()"
   ]
  },
  {
   "cell_type": "markdown",
   "metadata": {},
   "source": [
    "### Model Score & Features "
   ]
  },
  {
   "cell_type": "code",
   "execution_count": 70,
   "metadata": {},
   "outputs": [
    {
     "name": "stdout",
     "output_type": "stream",
     "text": [
      "TF-IDF & Naive Bayes Classifier accuracy: 0.243\n"
     ]
    }
   ],
   "source": [
    "score = classifier.score(X_test, liar_test['label'])\n",
    "print(\"TF-IDF & Naive Bayes Classifier accuracy: %0.3f\" % score)"
   ]
  },
  {
   "cell_type": "code",
   "execution_count": 74,
   "metadata": {},
   "outputs": [],
   "source": [
    "feature_importance = pd.DataFrame(classifier.coef_.T, columns = classifier.classes_)\n",
    "feature_importance = feature_importance.divide(feature_importance.sum(axis=1),axis=0)\n",
    "feature_importance['feature'] = vectorizer.get_feature_names()"
   ]
  },
  {
   "cell_type": "code",
   "execution_count": 75,
   "metadata": {
    "scrolled": true
   },
   "outputs": [
    {
     "data": {
      "text/html": [
       "<div>\n",
       "<style>\n",
       "    .dataframe thead tr:only-child th {\n",
       "        text-align: right;\n",
       "    }\n",
       "\n",
       "    .dataframe thead th {\n",
       "        text-align: left;\n",
       "    }\n",
       "\n",
       "    .dataframe tbody tr th {\n",
       "        vertical-align: top;\n",
       "    }\n",
       "</style>\n",
       "<table border=\"1\" class=\"dataframe\">\n",
       "  <thead>\n",
       "    <tr style=\"text-align: right;\">\n",
       "      <th></th>\n",
       "      <th>barely-true</th>\n",
       "      <th>false</th>\n",
       "      <th>half-true</th>\n",
       "      <th>mostly-true</th>\n",
       "      <th>pants-fire</th>\n",
       "      <th>true</th>\n",
       "      <th>feature</th>\n",
       "    </tr>\n",
       "  </thead>\n",
       "  <tbody>\n",
       "    <tr>\n",
       "      <th>35342</th>\n",
       "      <td>0.171373</td>\n",
       "      <td>0.174128</td>\n",
       "      <td>0.158266</td>\n",
       "      <td>0.159475</td>\n",
       "      <td>0.174095</td>\n",
       "      <td>0.162663</td>\n",
       "      <td>countries</td>\n",
       "    </tr>\n",
       "    <tr>\n",
       "      <th>142251</th>\n",
       "      <td>0.167920</td>\n",
       "      <td>0.173593</td>\n",
       "      <td>0.163033</td>\n",
       "      <td>0.161410</td>\n",
       "      <td>0.172822</td>\n",
       "      <td>0.161222</td>\n",
       "      <td>terms</td>\n",
       "    </tr>\n",
       "    <tr>\n",
       "      <th>10687</th>\n",
       "      <td>0.167240</td>\n",
       "      <td>0.173217</td>\n",
       "      <td>0.163481</td>\n",
       "      <td>0.168055</td>\n",
       "      <td>0.170657</td>\n",
       "      <td>0.157350</td>\n",
       "      <td>african american</td>\n",
       "    </tr>\n",
       "    <tr>\n",
       "      <th>106509</th>\n",
       "      <td>0.163698</td>\n",
       "      <td>0.172889</td>\n",
       "      <td>0.167434</td>\n",
       "      <td>0.162318</td>\n",
       "      <td>0.169907</td>\n",
       "      <td>0.163753</td>\n",
       "      <td>popular</td>\n",
       "    </tr>\n",
       "    <tr>\n",
       "      <th>39087</th>\n",
       "      <td>0.169799</td>\n",
       "      <td>0.172674</td>\n",
       "      <td>0.162004</td>\n",
       "      <td>0.159406</td>\n",
       "      <td>0.175658</td>\n",
       "      <td>0.160459</td>\n",
       "      <td>day</td>\n",
       "    </tr>\n",
       "    <tr>\n",
       "      <th>70119</th>\n",
       "      <td>0.165443</td>\n",
       "      <td>0.172559</td>\n",
       "      <td>0.156677</td>\n",
       "      <td>0.167693</td>\n",
       "      <td>0.172836</td>\n",
       "      <td>0.164792</td>\n",
       "      <td>increased</td>\n",
       "    </tr>\n",
       "    <tr>\n",
       "      <th>109086</th>\n",
       "      <td>0.162638</td>\n",
       "      <td>0.172425</td>\n",
       "      <td>0.162865</td>\n",
       "      <td>0.169313</td>\n",
       "      <td>0.166008</td>\n",
       "      <td>0.166751</td>\n",
       "      <td>privatize</td>\n",
       "    </tr>\n",
       "    <tr>\n",
       "      <th>5402</th>\n",
       "      <td>0.165912</td>\n",
       "      <td>0.172359</td>\n",
       "      <td>0.160680</td>\n",
       "      <td>0.159872</td>\n",
       "      <td>0.178158</td>\n",
       "      <td>0.163020</td>\n",
       "      <td>40</td>\n",
       "    </tr>\n",
       "    <tr>\n",
       "      <th>53312</th>\n",
       "      <td>0.165385</td>\n",
       "      <td>0.172265</td>\n",
       "      <td>0.167339</td>\n",
       "      <td>0.166851</td>\n",
       "      <td>0.167824</td>\n",
       "      <td>0.160336</td>\n",
       "      <td>federal law</td>\n",
       "    </tr>\n",
       "    <tr>\n",
       "      <th>34525</th>\n",
       "      <td>0.168092</td>\n",
       "      <td>0.172182</td>\n",
       "      <td>0.166991</td>\n",
       "      <td>0.157059</td>\n",
       "      <td>0.169335</td>\n",
       "      <td>0.166340</td>\n",
       "      <td>corporate tax</td>\n",
       "    </tr>\n",
       "  </tbody>\n",
       "</table>\n",
       "</div>"
      ],
      "text/plain": [
       "        barely-true     false  half-true  mostly-true  pants-fire      true  \\\n",
       "35342      0.171373  0.174128   0.158266     0.159475    0.174095  0.162663   \n",
       "142251     0.167920  0.173593   0.163033     0.161410    0.172822  0.161222   \n",
       "10687      0.167240  0.173217   0.163481     0.168055    0.170657  0.157350   \n",
       "106509     0.163698  0.172889   0.167434     0.162318    0.169907  0.163753   \n",
       "39087      0.169799  0.172674   0.162004     0.159406    0.175658  0.160459   \n",
       "70119      0.165443  0.172559   0.156677     0.167693    0.172836  0.164792   \n",
       "109086     0.162638  0.172425   0.162865     0.169313    0.166008  0.166751   \n",
       "5402       0.165912  0.172359   0.160680     0.159872    0.178158  0.163020   \n",
       "53312      0.165385  0.172265   0.167339     0.166851    0.167824  0.160336   \n",
       "34525      0.168092  0.172182   0.166991     0.157059    0.169335  0.166340   \n",
       "\n",
       "                 feature  \n",
       "35342          countries  \n",
       "142251             terms  \n",
       "10687   african american  \n",
       "106509           popular  \n",
       "39087                day  \n",
       "70119          increased  \n",
       "109086         privatize  \n",
       "5402                  40  \n",
       "53312        federal law  \n",
       "34525      corporate tax  "
      ]
     },
     "execution_count": 75,
     "metadata": {},
     "output_type": "execute_result"
    }
   ],
   "source": [
    "feature_importance.sort_values('false',ascending=False)[:10]"
   ]
  },
  {
   "cell_type": "code",
   "execution_count": null,
   "metadata": {
    "collapsed": true
   },
   "outputs": [],
   "source": []
  }
 ],
 "metadata": {
  "kernelspec": {
   "display_name": "Python 3",
   "language": "python",
   "name": "python3"
  },
  "language_info": {
   "codemirror_mode": {
    "name": "ipython",
    "version": 3
   },
   "file_extension": ".py",
   "mimetype": "text/x-python",
   "name": "python",
   "nbconvert_exporter": "python",
   "pygments_lexer": "ipython3",
   "version": "3.6.2"
  }
 },
 "nbformat": 4,
 "nbformat_minor": 2
}
