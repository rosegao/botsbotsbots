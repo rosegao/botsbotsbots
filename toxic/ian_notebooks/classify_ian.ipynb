{
 "cells": [
  {
   "cell_type": "markdown",
   "metadata": {},
   "source": [
    "# Predict Tweet Toxicity"
   ]
  },
  {
   "cell_type": "code",
   "execution_count": 3,
   "metadata": {},
   "outputs": [],
   "source": [
    "import pandas as pd\n",
    "import pickle\n",
    "from sklearn.feature_extraction.text import TfidfVectorizer\n",
    "from sklearn.linear_model import LogisticRegression\n",
    "from scipy.sparse import hstack"
   ]
  },
  {
   "cell_type": "code",
   "execution_count": 38,
   "metadata": {},
   "outputs": [],
   "source": [
    "filename = 'scrape_feb_0117_0318'\n",
    "input_filename = \"../twitter_data/ian_scraped_tweets/\"+filename"
   ]
  },
  {
   "cell_type": "code",
   "execution_count": 39,
   "metadata": {},
   "outputs": [
    {
     "data": {
      "text/html": [
       "<div>\n",
       "<style>\n",
       "    .dataframe thead tr:only-child th {\n",
       "        text-align: right;\n",
       "    }\n",
       "\n",
       "    .dataframe thead th {\n",
       "        text-align: left;\n",
       "    }\n",
       "\n",
       "    .dataframe tbody tr th {\n",
       "        vertical-align: top;\n",
       "    }\n",
       "</style>\n",
       "<table border=\"1\" class=\"dataframe\">\n",
       "  <thead>\n",
       "    <tr style=\"text-align: right;\">\n",
       "      <th></th>\n",
       "      <th>date</th>\n",
       "      <th>fullname</th>\n",
       "      <th>id</th>\n",
       "      <th>likes</th>\n",
       "      <th>replies</th>\n",
       "      <th>retweets</th>\n",
       "      <th>text</th>\n",
       "      <th>url</th>\n",
       "      <th>user</th>\n",
       "      <th>month</th>\n",
       "    </tr>\n",
       "  </thead>\n",
       "  <tbody>\n",
       "    <tr>\n",
       "      <th>0</th>\n",
       "      <td>2018-02-17 23:59:51</td>\n",
       "      <td>Defend The Switches</td>\n",
       "      <td>965012952406409216</td>\n",
       "      <td>0</td>\n",
       "      <td>0</td>\n",
       "      <td>0</td>\n",
       "      <td>Police shut down 2 unlicensed Big Top Firework...</td>\n",
       "      <td>/DefendtheSwitch/status/965012952406409216</td>\n",
       "      <td>DefendtheSwitch</td>\n",
       "      <td>2018-02-01</td>\n",
       "    </tr>\n",
       "    <tr>\n",
       "      <th>1</th>\n",
       "      <td>2018-02-17 23:59:50</td>\n",
       "      <td>Alex Psilakis</td>\n",
       "      <td>965012948208046080</td>\n",
       "      <td>0</td>\n",
       "      <td>0</td>\n",
       "      <td>0</td>\n",
       "      <td>That of course changes by the end of the episo...</td>\n",
       "      <td>/APsilakis/status/965012948208046080</td>\n",
       "      <td>APsilakis</td>\n",
       "      <td>2018-02-01</td>\n",
       "    </tr>\n",
       "    <tr>\n",
       "      <th>2</th>\n",
       "      <td>2018-02-17 23:59:49</td>\n",
       "      <td>Cullman Traffic</td>\n",
       "      <td>965012943602704385</td>\n",
       "      <td>1</td>\n",
       "      <td>0</td>\n",
       "      <td>0</td>\n",
       "      <td>CULLMAN CO SHERIFF: HWY 69 N IN FRONT OF BAILE...</td>\n",
       "      <td>/cullmantraffic/status/965012943602704385</td>\n",
       "      <td>cullmantraffic</td>\n",
       "      <td>2018-02-01</td>\n",
       "    </tr>\n",
       "  </tbody>\n",
       "</table>\n",
       "</div>"
      ],
      "text/plain": [
       "                  date             fullname                  id  likes  \\\n",
       "0  2018-02-17 23:59:51  Defend The Switches  965012952406409216      0   \n",
       "1  2018-02-17 23:59:50        Alex Psilakis  965012948208046080      0   \n",
       "2  2018-02-17 23:59:49      Cullman Traffic  965012943602704385      1   \n",
       "\n",
       "   replies  retweets                                               text  \\\n",
       "0        0         0  Police shut down 2 unlicensed Big Top Firework...   \n",
       "1        0         0  That of course changes by the end of the episo...   \n",
       "2        0         0  CULLMAN CO SHERIFF: HWY 69 N IN FRONT OF BAILE...   \n",
       "\n",
       "                                          url             user       month  \n",
       "0  /DefendtheSwitch/status/965012952406409216  DefendtheSwitch  2018-02-01  \n",
       "1        /APsilakis/status/965012948208046080        APsilakis  2018-02-01  \n",
       "2   /cullmantraffic/status/965012943602704385   cullmantraffic  2018-02-01  "
      ]
     },
     "execution_count": 39,
     "metadata": {},
     "output_type": "execute_result"
    }
   ],
   "source": [
    "df = pd.read_csv(input_filename, encoding = \"ISO-8859-1\",\n",
    "                 usecols = ['date', 'fullname', 'id', 'likes', 'replies', \n",
    "                            'retweets', 'text', 'url', 'user', 'month'])\n",
    "df.head(3)"
   ]
  },
  {
   "cell_type": "markdown",
   "metadata": {},
   "source": [
    "### Vectorize tweets and predict toxicity with model\n"
   ]
  },
  {
   "cell_type": "code",
   "execution_count": 40,
   "metadata": {},
   "outputs": [],
   "source": [
    "# Load vectorizers\n",
    "word_vectorizer = pickle.load(open(\"../models/word_vectorizer.pickle\", \"rb\" ))\n",
    "char_vectorizer = pickle.load(open(\"../models/char_vectorizer.pickle\", \"rb\" ))"
   ]
  },
  {
   "cell_type": "code",
   "execution_count": 41,
   "metadata": {},
   "outputs": [],
   "source": [
    "# Vectorize tweets\n",
    "tweet_word_features = word_vectorizer.transform(df['text'])\n",
    "tweet_char_features = char_vectorizer.transform(df['text'])\n",
    "tweet_features = hstack([tweet_word_features, tweet_char_features])"
   ]
  },
  {
   "cell_type": "code",
   "execution_count": 42,
   "metadata": {},
   "outputs": [],
   "source": [
    "target_columns = ['toxic', 'severe_toxic', 'obscene', 'threat', 'insult', 'identity_hate']"
   ]
  },
  {
   "cell_type": "code",
   "execution_count": 43,
   "metadata": {},
   "outputs": [],
   "source": [
    "# Load models\n",
    "loaded_models = {}\n",
    "for col in target_columns:\n",
    "    loaded_models[col] = pickle.load(open('../models/model_{}.sav'.format(col), \"rb\" ))"
   ]
  },
  {
   "cell_type": "code",
   "execution_count": 44,
   "metadata": {},
   "outputs": [],
   "source": [
    "# Run models\n",
    "for col in target_columns:\n",
    "    df[col] = loaded_models[col].predict_proba(tweet_features)[:, 1]"
   ]
  },
  {
   "cell_type": "code",
   "execution_count": 45,
   "metadata": {
    "scrolled": true
   },
   "outputs": [
    {
     "data": {
      "text/html": [
       "<div>\n",
       "<style>\n",
       "    .dataframe thead tr:only-child th {\n",
       "        text-align: right;\n",
       "    }\n",
       "\n",
       "    .dataframe thead th {\n",
       "        text-align: left;\n",
       "    }\n",
       "\n",
       "    .dataframe tbody tr th {\n",
       "        vertical-align: top;\n",
       "    }\n",
       "</style>\n",
       "<table border=\"1\" class=\"dataframe\">\n",
       "  <thead>\n",
       "    <tr style=\"text-align: right;\">\n",
       "      <th></th>\n",
       "      <th>date</th>\n",
       "      <th>fullname</th>\n",
       "      <th>id</th>\n",
       "      <th>likes</th>\n",
       "      <th>replies</th>\n",
       "      <th>retweets</th>\n",
       "      <th>text</th>\n",
       "      <th>url</th>\n",
       "      <th>user</th>\n",
       "      <th>month</th>\n",
       "      <th>toxic</th>\n",
       "      <th>severe_toxic</th>\n",
       "      <th>obscene</th>\n",
       "      <th>threat</th>\n",
       "      <th>insult</th>\n",
       "      <th>identity_hate</th>\n",
       "      <th>classification</th>\n",
       "    </tr>\n",
       "  </thead>\n",
       "  <tbody>\n",
       "    <tr>\n",
       "      <th>0</th>\n",
       "      <td>2018-02-17 23:59:51</td>\n",
       "      <td>Defend The Switches</td>\n",
       "      <td>965012952406409216</td>\n",
       "      <td>0</td>\n",
       "      <td>0</td>\n",
       "      <td>0</td>\n",
       "      <td>Police shut down 2 unlicensed Big Top Firework...</td>\n",
       "      <td>/DefendtheSwitch/status/965012952406409216</td>\n",
       "      <td>DefendtheSwitch</td>\n",
       "      <td>2018-02-01</td>\n",
       "      <td>0.234758</td>\n",
       "      <td>0.001351</td>\n",
       "      <td>0.000050</td>\n",
       "      <td>0.000026</td>\n",
       "      <td>0.000549</td>\n",
       "      <td>0.000064</td>\n",
       "      <td>toxic</td>\n",
       "    </tr>\n",
       "    <tr>\n",
       "      <th>1</th>\n",
       "      <td>2018-02-17 23:59:50</td>\n",
       "      <td>Alex Psilakis</td>\n",
       "      <td>965012948208046080</td>\n",
       "      <td>0</td>\n",
       "      <td>0</td>\n",
       "      <td>0</td>\n",
       "      <td>That of course changes by the end of the episo...</td>\n",
       "      <td>/APsilakis/status/965012948208046080</td>\n",
       "      <td>APsilakis</td>\n",
       "      <td>2018-02-01</td>\n",
       "      <td>0.000138</td>\n",
       "      <td>0.002855</td>\n",
       "      <td>0.000795</td>\n",
       "      <td>0.000047</td>\n",
       "      <td>0.000079</td>\n",
       "      <td>0.000134</td>\n",
       "      <td>severe_toxic</td>\n",
       "    </tr>\n",
       "    <tr>\n",
       "      <th>2</th>\n",
       "      <td>2018-02-17 23:59:49</td>\n",
       "      <td>Cullman Traffic</td>\n",
       "      <td>965012943602704385</td>\n",
       "      <td>1</td>\n",
       "      <td>0</td>\n",
       "      <td>0</td>\n",
       "      <td>CULLMAN CO SHERIFF: HWY 69 N IN FRONT OF BAILE...</td>\n",
       "      <td>/cullmantraffic/status/965012943602704385</td>\n",
       "      <td>cullmantraffic</td>\n",
       "      <td>2018-02-01</td>\n",
       "      <td>0.047736</td>\n",
       "      <td>0.000189</td>\n",
       "      <td>0.000388</td>\n",
       "      <td>0.000009</td>\n",
       "      <td>0.000090</td>\n",
       "      <td>0.000025</td>\n",
       "      <td>toxic</td>\n",
       "    </tr>\n",
       "  </tbody>\n",
       "</table>\n",
       "</div>"
      ],
      "text/plain": [
       "                  date             fullname                  id  likes  \\\n",
       "0  2018-02-17 23:59:51  Defend The Switches  965012952406409216      0   \n",
       "1  2018-02-17 23:59:50        Alex Psilakis  965012948208046080      0   \n",
       "2  2018-02-17 23:59:49      Cullman Traffic  965012943602704385      1   \n",
       "\n",
       "   replies  retweets                                               text  \\\n",
       "0        0         0  Police shut down 2 unlicensed Big Top Firework...   \n",
       "1        0         0  That of course changes by the end of the episo...   \n",
       "2        0         0  CULLMAN CO SHERIFF: HWY 69 N IN FRONT OF BAILE...   \n",
       "\n",
       "                                          url             user       month  \\\n",
       "0  /DefendtheSwitch/status/965012952406409216  DefendtheSwitch  2018-02-01   \n",
       "1        /APsilakis/status/965012948208046080        APsilakis  2018-02-01   \n",
       "2   /cullmantraffic/status/965012943602704385   cullmantraffic  2018-02-01   \n",
       "\n",
       "      toxic  severe_toxic   obscene    threat    insult  identity_hate  \\\n",
       "0  0.234758      0.001351  0.000050  0.000026  0.000549       0.000064   \n",
       "1  0.000138      0.002855  0.000795  0.000047  0.000079       0.000134   \n",
       "2  0.047736      0.000189  0.000388  0.000009  0.000090       0.000025   \n",
       "\n",
       "  classification  \n",
       "0          toxic  \n",
       "1   severe_toxic  \n",
       "2          toxic  "
      ]
     },
     "execution_count": 45,
     "metadata": {},
     "output_type": "execute_result"
    }
   ],
   "source": [
    "df['classification'] = df[target_columns].idxmax(axis=1)\n",
    "df.head(3)"
   ]
  },
  {
   "cell_type": "code",
   "execution_count": 46,
   "metadata": {},
   "outputs": [],
   "source": [
    "# export df\n",
    "filename = \"classified\"+filename[6:]\n",
    "export_filename = \"../classified/ian/\"+filename\n",
    "df.to_csv(export_filename)"
   ]
  },
  {
   "cell_type": "markdown",
   "metadata": {},
   "source": [
    "### Visualizations"
   ]
  },
  {
   "cell_type": "code",
   "execution_count": 50,
   "metadata": {},
   "outputs": [
    {
     "data": {
      "text/plain": [
       "<matplotlib.axes._subplots.AxesSubplot at 0x1a289e8518>"
      ]
     },
     "execution_count": 50,
     "metadata": {},
     "output_type": "execute_result"
    }
   ],
   "source": [
    "# visualize obscenity\n",
    "df.groupby('date')['toxic'].mean().plot()"
   ]
  },
  {
   "cell_type": "code",
   "execution_count": 48,
   "metadata": {},
   "outputs": [
    {
     "data": {
      "text/plain": [
       "<matplotlib.axes._subplots.AxesSubplot at 0x1a289e8518>"
      ]
     },
     "execution_count": 48,
     "metadata": {},
     "output_type": "execute_result"
    }
   ],
   "source": [
    "df['likes'] = df['likes'].astype(float)\n",
    "\n",
    "# normalizing identity hate by tweet popularity\n",
    "df['popular_obscene'] = df['obscene']*df['likes']\n",
    "df.groupby('date')['popular_obscene'].mean().plot()"
   ]
  },
  {
   "cell_type": "code",
   "execution_count": 27,
   "metadata": {},
   "outputs": [
    {
     "data": {
      "text/plain": [
       "<matplotlib.axes._subplots.AxesSubplot at 0x1a289e8518>"
      ]
     },
     "execution_count": 27,
     "metadata": {},
     "output_type": "execute_result"
    }
   ],
   "source": [
    "# normalizing identity hate by number of popular tweets\n",
    "(df.groupby('date')['popular_obscene'].sum() / df.groupby('date')['likes'].sum()).plot()"
   ]
  },
  {
   "cell_type": "code",
   "execution_count": 28,
   "metadata": {},
   "outputs": [
    {
     "data": {
      "text/plain": [
       "<matplotlib.axes._subplots.AxesSubplot at 0x1a289e8518>"
      ]
     },
     "execution_count": 28,
     "metadata": {},
     "output_type": "execute_result"
    }
   ],
   "source": [
    "# normalizing popular tweets by number of popular tweets\n",
    "(df.groupby('date')['popular_obscene'].sum() / df.groupby('date')['likes'].count()).plot()"
   ]
  },
  {
   "cell_type": "code",
   "execution_count": null,
   "metadata": {},
   "outputs": [],
   "source": []
  }
 ],
 "metadata": {
  "kernelspec": {
   "display_name": "Python 3",
   "language": "python",
   "name": "python3"
  },
  "language_info": {
   "codemirror_mode": {
    "name": "ipython",
    "version": 3
   },
   "file_extension": ".py",
   "mimetype": "text/x-python",
   "name": "python",
   "nbconvert_exporter": "python",
   "pygments_lexer": "ipython3",
   "version": "3.6.2"
  }
 },
 "nbformat": 4,
 "nbformat_minor": 2
}
