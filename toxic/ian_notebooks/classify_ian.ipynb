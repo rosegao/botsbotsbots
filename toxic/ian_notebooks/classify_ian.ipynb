{
 "cells": [
  {
   "cell_type": "markdown",
   "metadata": {},
   "source": [
    "# Predict Tweet Toxicity"
   ]
  },
  {
   "cell_type": "code",
   "execution_count": 3,
   "metadata": {},
   "outputs": [],
   "source": [
    "import pandas as pd\n",
    "import pickle\n",
    "from sklearn.feature_extraction.text import TfidfVectorizer\n",
    "from sklearn.linear_model import LogisticRegression\n",
    "from scipy.sparse import hstack"
   ]
  },
  {
   "cell_type": "code",
   "execution_count": 4,
   "metadata": {},
   "outputs": [],
   "source": [
    "filename = 'scrape_2a_0117_0318'\n",
    "input_filename = \"../twitter_data/ian_scraped_tweets/\"+filename"
   ]
  },
  {
   "cell_type": "code",
   "execution_count": 5,
   "metadata": {},
   "outputs": [
    {
     "data": {
      "text/html": [
       "<div>\n",
       "<style>\n",
       "    .dataframe thead tr:only-child th {\n",
       "        text-align: right;\n",
       "    }\n",
       "\n",
       "    .dataframe thead th {\n",
       "        text-align: left;\n",
       "    }\n",
       "\n",
       "    .dataframe tbody tr th {\n",
       "        vertical-align: top;\n",
       "    }\n",
       "</style>\n",
       "<table border=\"1\" class=\"dataframe\">\n",
       "  <thead>\n",
       "    <tr style=\"text-align: right;\">\n",
       "      <th></th>\n",
       "      <th>date</th>\n",
       "      <th>fullname</th>\n",
       "      <th>id</th>\n",
       "      <th>likes</th>\n",
       "      <th>replies</th>\n",
       "      <th>retweets</th>\n",
       "      <th>text</th>\n",
       "      <th>url</th>\n",
       "      <th>user</th>\n",
       "      <th>month</th>\n",
       "    </tr>\n",
       "  </thead>\n",
       "  <tbody>\n",
       "    <tr>\n",
       "      <th>0</th>\n",
       "      <td>2018-03-05 23:59:55</td>\n",
       "      <td>NonPCconservative</td>\n",
       "      <td>970811174634663937</td>\n",
       "      <td>0</td>\n",
       "      <td>0</td>\n",
       "      <td>0</td>\n",
       "      <td>The type of people who complain about our 2nd ...</td>\n",
       "      <td>/Kill_PC/status/970811174634663937</td>\n",
       "      <td>Kill_PC</td>\n",
       "      <td>2018-03-01</td>\n",
       "    </tr>\n",
       "    <tr>\n",
       "      <th>1</th>\n",
       "      <td>2018-03-05 23:59:32</td>\n",
       "      <td>Â ðºð¸Â ðºð¸Michael OdincovÂ ðºð¸Â...</td>\n",
       "      <td>970811079738740737</td>\n",
       "      <td>0</td>\n",
       "      <td>0</td>\n",
       "      <td>0</td>\n",
       "      <td>Retweeted Erin'sTrumpÂ® (@EjHirschberger):\\n\\n...</td>\n",
       "      <td>/Franktorbino/status/970811079738740737</td>\n",
       "      <td>Franktorbino</td>\n",
       "      <td>2018-03-01</td>\n",
       "    </tr>\n",
       "    <tr>\n",
       "      <th>2</th>\n",
       "      <td>2018-03-05 23:59:30</td>\n",
       "      <td>ð£ðªðªð¯ðððð</td>\n",
       "      <td>970811068942499840</td>\n",
       "      <td>0</td>\n",
       "      <td>0</td>\n",
       "      <td>1</td>\n",
       "      <td>Gateway Pundit News \\n Violent Leftists Storm...</td>\n",
       "      <td>/nuuzfeed/status/970811068942499840</td>\n",
       "      <td>nuuzfeed</td>\n",
       "      <td>2018-03-01</td>\n",
       "    </tr>\n",
       "  </tbody>\n",
       "</table>\n",
       "</div>"
      ],
      "text/plain": [
       "                  date                                           fullname  \\\n",
       "0  2018-03-05 23:59:55                                  NonPCconservative   \n",
       "1  2018-03-05 23:59:32  Â ðºð¸Â ðºð¸Michael OdincovÂ ðºð¸Â...   \n",
       "2  2018-03-05 23:59:30                   ð£ðªðªð¯ðððð   \n",
       "\n",
       "                   id  likes  replies  retweets  \\\n",
       "0  970811174634663937      0        0         0   \n",
       "1  970811079738740737      0        0         0   \n",
       "2  970811068942499840      0        0         1   \n",
       "\n",
       "                                                text  \\\n",
       "0  The type of people who complain about our 2nd ...   \n",
       "1  Retweeted Erin'sTrumpÂ® (@EjHirschberger):\\n\\n...   \n",
       "2   Gateway Pundit News \\n Violent Leftists Storm...   \n",
       "\n",
       "                                       url          user       month  \n",
       "0       /Kill_PC/status/970811174634663937       Kill_PC  2018-03-01  \n",
       "1  /Franktorbino/status/970811079738740737  Franktorbino  2018-03-01  \n",
       "2      /nuuzfeed/status/970811068942499840      nuuzfeed  2018-03-01  "
      ]
     },
     "execution_count": 5,
     "metadata": {},
     "output_type": "execute_result"
    }
   ],
   "source": [
    "df = pd.read_csv(input_filename, encoding = \"ISO-8859-1\",\n",
    "                 usecols = ['date', 'fullname', 'id', 'likes', 'replies', \n",
    "                            'retweets', 'text', 'url', 'user', 'month'])\n",
    "df.head(3)"
   ]
  },
  {
   "cell_type": "markdown",
   "metadata": {},
   "source": [
    "### Vectorize tweets and predict toxicity with model\n"
   ]
  },
  {
   "cell_type": "code",
   "execution_count": 6,
   "metadata": {},
   "outputs": [],
   "source": [
    "# Load vectorizers\n",
    "word_vectorizer = pickle.load(open(\"../models/word_vectorizer.pickle\", \"rb\" ))\n",
    "char_vectorizer = pickle.load(open(\"../models/char_vectorizer.pickle\", \"rb\" ))"
   ]
  },
  {
   "cell_type": "code",
   "execution_count": 7,
   "metadata": {},
   "outputs": [],
   "source": [
    "# Vectorize tweets\n",
    "tweet_word_features = word_vectorizer.transform(df['text'])\n",
    "tweet_char_features = char_vectorizer.transform(df['text'])\n",
    "tweet_features = hstack([tweet_word_features, tweet_char_features])"
   ]
  },
  {
   "cell_type": "code",
   "execution_count": 8,
   "metadata": {},
   "outputs": [],
   "source": [
    "target_columns = ['toxic', 'severe_toxic', 'obscene', 'threat', 'insult', 'identity_hate']"
   ]
  },
  {
   "cell_type": "code",
   "execution_count": 9,
   "metadata": {},
   "outputs": [],
   "source": [
    "# Load models\n",
    "loaded_models = {}\n",
    "for col in target_columns:\n",
    "    loaded_models[col] = pickle.load(open('../models/model_{}.sav'.format(col), \"rb\" ))"
   ]
  },
  {
   "cell_type": "code",
   "execution_count": 10,
   "metadata": {},
   "outputs": [],
   "source": [
    "# Run models\n",
    "for col in target_columns:\n",
    "    df[col] = loaded_models[col].predict_proba(tweet_features)[:, 1]"
   ]
  },
  {
   "cell_type": "code",
   "execution_count": 11,
   "metadata": {
    "scrolled": true
   },
   "outputs": [
    {
     "data": {
      "text/html": [
       "<div>\n",
       "<style>\n",
       "    .dataframe thead tr:only-child th {\n",
       "        text-align: right;\n",
       "    }\n",
       "\n",
       "    .dataframe thead th {\n",
       "        text-align: left;\n",
       "    }\n",
       "\n",
       "    .dataframe tbody tr th {\n",
       "        vertical-align: top;\n",
       "    }\n",
       "</style>\n",
       "<table border=\"1\" class=\"dataframe\">\n",
       "  <thead>\n",
       "    <tr style=\"text-align: right;\">\n",
       "      <th></th>\n",
       "      <th>date</th>\n",
       "      <th>fullname</th>\n",
       "      <th>id</th>\n",
       "      <th>likes</th>\n",
       "      <th>replies</th>\n",
       "      <th>retweets</th>\n",
       "      <th>text</th>\n",
       "      <th>url</th>\n",
       "      <th>user</th>\n",
       "      <th>month</th>\n",
       "      <th>toxic</th>\n",
       "      <th>severe_toxic</th>\n",
       "      <th>obscene</th>\n",
       "      <th>threat</th>\n",
       "      <th>insult</th>\n",
       "      <th>identity_hate</th>\n",
       "      <th>classification</th>\n",
       "    </tr>\n",
       "  </thead>\n",
       "  <tbody>\n",
       "    <tr>\n",
       "      <th>0</th>\n",
       "      <td>2018-03-05 23:59:55</td>\n",
       "      <td>NonPCconservative</td>\n",
       "      <td>970811174634663937</td>\n",
       "      <td>0</td>\n",
       "      <td>0</td>\n",
       "      <td>0</td>\n",
       "      <td>The type of people who complain about our 2nd ...</td>\n",
       "      <td>/Kill_PC/status/970811174634663937</td>\n",
       "      <td>Kill_PC</td>\n",
       "      <td>2018-03-01</td>\n",
       "      <td>0.001541</td>\n",
       "      <td>0.001014</td>\n",
       "      <td>0.000240</td>\n",
       "      <td>0.000085</td>\n",
       "      <td>0.000501</td>\n",
       "      <td>0.000046</td>\n",
       "      <td>toxic</td>\n",
       "    </tr>\n",
       "    <tr>\n",
       "      <th>1</th>\n",
       "      <td>2018-03-05 23:59:32</td>\n",
       "      <td>Â ðºð¸Â ðºð¸Michael OdincovÂ ðºð¸Â...</td>\n",
       "      <td>970811079738740737</td>\n",
       "      <td>0</td>\n",
       "      <td>0</td>\n",
       "      <td>0</td>\n",
       "      <td>Retweeted Erin'sTrumpÂ® (@EjHirschberger):\\n\\n...</td>\n",
       "      <td>/Franktorbino/status/970811079738740737</td>\n",
       "      <td>Franktorbino</td>\n",
       "      <td>2018-03-01</td>\n",
       "      <td>0.012964</td>\n",
       "      <td>0.002905</td>\n",
       "      <td>0.002182</td>\n",
       "      <td>0.000103</td>\n",
       "      <td>0.001523</td>\n",
       "      <td>0.000170</td>\n",
       "      <td>toxic</td>\n",
       "    </tr>\n",
       "    <tr>\n",
       "      <th>2</th>\n",
       "      <td>2018-03-05 23:59:30</td>\n",
       "      <td>ð£ðªðªð¯ðððð</td>\n",
       "      <td>970811068942499840</td>\n",
       "      <td>0</td>\n",
       "      <td>0</td>\n",
       "      <td>1</td>\n",
       "      <td>Gateway Pundit News \\n Violent Leftists Storm...</td>\n",
       "      <td>/nuuzfeed/status/970811068942499840</td>\n",
       "      <td>nuuzfeed</td>\n",
       "      <td>2018-03-01</td>\n",
       "      <td>0.002450</td>\n",
       "      <td>0.005353</td>\n",
       "      <td>0.000565</td>\n",
       "      <td>0.000054</td>\n",
       "      <td>0.000149</td>\n",
       "      <td>0.000023</td>\n",
       "      <td>severe_toxic</td>\n",
       "    </tr>\n",
       "  </tbody>\n",
       "</table>\n",
       "</div>"
      ],
      "text/plain": [
       "                  date                                           fullname  \\\n",
       "0  2018-03-05 23:59:55                                  NonPCconservative   \n",
       "1  2018-03-05 23:59:32  Â ðºð¸Â ðºð¸Michael OdincovÂ ðºð¸Â...   \n",
       "2  2018-03-05 23:59:30                   ð£ðªðªð¯ðððð   \n",
       "\n",
       "                   id  likes  replies  retweets  \\\n",
       "0  970811174634663937      0        0         0   \n",
       "1  970811079738740737      0        0         0   \n",
       "2  970811068942499840      0        0         1   \n",
       "\n",
       "                                                text  \\\n",
       "0  The type of people who complain about our 2nd ...   \n",
       "1  Retweeted Erin'sTrumpÂ® (@EjHirschberger):\\n\\n...   \n",
       "2   Gateway Pundit News \\n Violent Leftists Storm...   \n",
       "\n",
       "                                       url          user       month  \\\n",
       "0       /Kill_PC/status/970811174634663937       Kill_PC  2018-03-01   \n",
       "1  /Franktorbino/status/970811079738740737  Franktorbino  2018-03-01   \n",
       "2      /nuuzfeed/status/970811068942499840      nuuzfeed  2018-03-01   \n",
       "\n",
       "      toxic  severe_toxic   obscene    threat    insult  identity_hate  \\\n",
       "0  0.001541      0.001014  0.000240  0.000085  0.000501       0.000046   \n",
       "1  0.012964      0.002905  0.002182  0.000103  0.001523       0.000170   \n",
       "2  0.002450      0.005353  0.000565  0.000054  0.000149       0.000023   \n",
       "\n",
       "  classification  \n",
       "0          toxic  \n",
       "1          toxic  \n",
       "2   severe_toxic  "
      ]
     },
     "execution_count": 11,
     "metadata": {},
     "output_type": "execute_result"
    }
   ],
   "source": [
    "df['classification'] = df[target_columns].idxmax(axis=1)\n",
    "df.head(3)"
   ]
  },
  {
   "cell_type": "code",
   "execution_count": 12,
   "metadata": {},
   "outputs": [],
   "source": [
    "# export df\n",
    "filename = \"classified\"+filename[6:]\n",
    "export_filename = \"../classified/ian/\"+filename\n",
    "df.to_csv(export_filename)"
   ]
  },
  {
   "cell_type": "markdown",
   "metadata": {},
   "source": [
    "### Visualizations"
   ]
  },
  {
   "cell_type": "code",
   "execution_count": 13,
   "metadata": {},
   "outputs": [
    {
     "data": {
      "text/plain": [
       "<matplotlib.axes._subplots.AxesSubplot at 0x1a289e8518>"
      ]
     },
     "execution_count": 13,
     "metadata": {},
     "output_type": "execute_result"
    }
   ],
   "source": [
    "# visualize obscenity\n",
    "df.groupby('date')['toxic'].mean().plot()"
   ]
  },
  {
   "cell_type": "code",
   "execution_count": 14,
   "metadata": {},
   "outputs": [
    {
     "data": {
      "text/plain": [
       "<matplotlib.axes._subplots.AxesSubplot at 0x1a289e8518>"
      ]
     },
     "execution_count": 14,
     "metadata": {},
     "output_type": "execute_result"
    }
   ],
   "source": [
    "df['likes'] = df['likes'].astype(float)\n",
    "\n",
    "# normalizing identity hate by tweet popularity\n",
    "df['popular_obscene'] = df['obscene']*df['likes']\n",
    "df.groupby('date')['popular_obscene'].mean().plot()"
   ]
  },
  {
   "cell_type": "code",
   "execution_count": 15,
   "metadata": {},
   "outputs": [
    {
     "data": {
      "text/plain": [
       "<matplotlib.axes._subplots.AxesSubplot at 0x1a289e8518>"
      ]
     },
     "execution_count": 15,
     "metadata": {},
     "output_type": "execute_result"
    }
   ],
   "source": [
    "# normalizing identity hate by number of popular tweets\n",
    "(df.groupby('date')['popular_obscene'].sum() / df.groupby('date')['likes'].sum()).plot()"
   ]
  },
  {
   "cell_type": "code",
   "execution_count": 40,
   "metadata": {},
   "outputs": [
    {
     "data": {
      "text/plain": [
       "<matplotlib.axes._subplots.AxesSubplot at 0x1a2392f518>"
      ]
     },
     "execution_count": 40,
     "metadata": {},
     "output_type": "execute_result"
    }
   ],
   "source": [
    "# normalizing popular tweets by number of popular tweets\n",
    "(df.groupby('date')['popular_obscene'].sum() / df.groupby('date')['likes'].count()).plot()"
   ]
  },
  {
   "cell_type": "code",
   "execution_count": null,
   "metadata": {},
   "outputs": [],
   "source": []
  }
 ],
 "metadata": {
  "kernelspec": {
   "display_name": "Python 3",
   "language": "python",
   "name": "python3"
  },
  "language_info": {
   "codemirror_mode": {
    "name": "ipython",
    "version": 3
   },
   "file_extension": ".py",
   "mimetype": "text/x-python",
   "name": "python",
   "nbconvert_exporter": "python",
   "pygments_lexer": "ipython3",
   "version": "3.6.2"
  }
 },
 "nbformat": 4,
 "nbformat_minor": 2
}
