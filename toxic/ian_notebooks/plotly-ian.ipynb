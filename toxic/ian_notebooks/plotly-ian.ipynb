{
 "cells": [
  {
   "cell_type": "code",
   "execution_count": 1,
   "metadata": {},
   "outputs": [],
   "source": [
    "import pandas as pd\n",
    "import numpy as np\n",
    "import matplotlib.pyplot as plt\n",
    "import seaborn as sns\n",
    "%matplotlib inline"
   ]
  },
  {
   "cell_type": "code",
   "execution_count": 38,
   "metadata": {},
   "outputs": [],
   "source": [
    "df = pd.read_csv(\"../classified/classified_tweets_uraniumone\", encoding = \"ISO-8859-1\")"
   ]
  },
  {
   "cell_type": "code",
   "execution_count": 39,
   "metadata": {},
   "outputs": [],
   "source": [
    "df = df.drop('Unnamed: 0', 1)"
   ]
  },
  {
   "cell_type": "code",
   "execution_count": 66,
   "metadata": {},
   "outputs": [
    {
     "data": {
      "text/plain": [
       "array(['2017-10-25 23:59:52', '2017-10-25 23:59:50', '2017-10-25 23:59:49',\n",
       "       '2017-10-25 23:59:47', '2017-10-25 23:59:40', '2017-10-25 23:59:36',\n",
       "       '2017-10-25 23:59:33', '2017-10-25 23:59:32', '2017-10-25 23:59:29',\n",
       "       '2017-10-25 23:59:24', '2017-10-25 23:59:20', '2018-01-14 23:59:59',\n",
       "       '2018-01-14 23:59:50', '2018-01-14 23:59:41', '2018-01-14 23:59:19',\n",
       "       '2018-01-14 23:59:04', '2018-01-14 23:58:52', '2018-01-14 23:57:43',\n",
       "       '2018-01-14 23:56:55', '2018-01-14 23:56:51', '2018-01-14 23:56:22',\n",
       "       '2018-02-26 23:59:11', '2018-02-26 23:58:08', '2018-02-26 23:57:50',\n",
       "       '2018-02-26 23:55:38', '2018-02-26 23:55:37', '2018-02-26 23:54:31',\n",
       "       '2018-02-26 23:54:02', '2018-02-26 23:53:57', '2018-02-26 23:45:17',\n",
       "       '2018-02-26 23:43:28', '2018-02-26 23:40:08', '2018-02-26 23:37:17',\n",
       "       '2018-02-26 23:34:06', '2018-02-26 23:29:11', '2018-02-26 23:26:30',\n",
       "       '2018-02-26 23:25:57', '2018-02-26 23:24:25', '2018-02-26 23:24:22',\n",
       "       '2018-02-26 23:23:28', '2018-02-26 23:22:41', '2018-02-19 23:59:47',\n",
       "       '2018-02-19 23:59:36', '2018-02-19 23:59:08', '2018-02-19 23:57:40',\n",
       "       '2018-02-19 23:57:20', '2018-02-19 23:56:52', '2018-02-19 23:52:09',\n",
       "       '2018-02-19 23:48:07', '2018-02-19 23:48:02', '2018-02-19 23:47:39',\n",
       "       '2018-02-19 23:45:18', '2018-02-19 23:43:25', '2018-02-19 23:41:53',\n",
       "       '2018-02-19 23:40:10', '2018-02-19 23:40:01', '2018-02-19 23:39:50',\n",
       "       '2018-02-19 23:37:48', '2018-02-19 23:37:41', '2017-09-10 23:55:39',\n",
       "       '2017-09-10 23:47:48', '2017-09-10 23:10:20', '2017-09-10 23:00:09',\n",
       "       '2017-09-10 23:00:04', '2017-09-10 22:46:36', '2017-09-10 22:42:57',\n",
       "       '2017-09-10 21:35:01', '2017-09-10 21:33:27', '2017-09-10 21:28:48',\n",
       "       '2017-09-10 21:28:16', '2017-09-10 21:19:48', '2017-09-10 20:06:38',\n",
       "       '2017-09-10 18:50:01', '2017-09-10 18:05:41', '2017-09-10 17:13:46',\n",
       "       '2017-12-27 23:59:48', '2017-12-27 23:59:41', '2017-12-27 23:59:34',\n",
       "       '2017-12-27 23:58:37', '2017-12-27 23:58:33', '2017-12-27 23:57:56',\n",
       "       '2017-12-27 23:56:35', '2017-12-27 23:56:28', '2017-12-27 23:54:47',\n",
       "       '2017-12-27 23:54:33', '2017-12-27 23:53:22', '2017-12-27 23:53:18',\n",
       "       '2017-12-27 23:52:32', '2017-12-27 23:52:04', '2017-12-27 23:51:17',\n",
       "       '2017-12-27 23:51:10', '2017-12-27 23:49:26', '2017-12-27 23:47:30',\n",
       "       '2017-12-27 23:46:14', '2017-10-07 23:51:36', '2017-10-07 23:26:19',\n",
       "       '2017-10-07 22:18:33', '2017-10-07 22:15:36', '2017-10-07 21:09:22',\n",
       "       '2017-10-07 20:49:11', '2017-10-07 18:58:25', '2017-10-07 18:41:42',\n",
       "       '2017-10-07 18:17:55', '2017-10-07 16:48:36', '2017-10-07 16:36:35',\n",
       "       '2017-10-07 16:36:01', '2017-10-07 16:35:35', '2017-10-07 16:34:29',\n",
       "       '2017-10-07 16:27:26', '2017-10-07 14:50:19', '2017-10-07 13:48:03',\n",
       "       '2017-10-07 13:35:12', '2017-11-21 23:59:46', '2017-11-21 23:59:38',\n",
       "       '2017-11-21 23:59:21', '2017-11-21 23:59:05', '2017-11-21 23:58:57',\n",
       "       '2017-11-21 23:58:46', '2017-11-21 23:58:10', '2017-11-21 23:57:41',\n",
       "       '2017-11-21 23:57:24', '2017-11-21 23:57:05', '2017-11-21 23:56:48',\n",
       "       '2017-11-21 23:55:41', '2017-11-21 23:55:25', '2017-11-21 23:54:45',\n",
       "       '2017-11-21 23:54:36', '2017-11-21 23:54:32', '2017-11-21 23:54:27',\n",
       "       '2017-11-21 23:54:26', '2017-11-21 23:54:25', '2017-10-16 23:56:55',\n",
       "       '2017-10-16 21:12:23', '2017-10-16 21:04:38', '2017-10-16 20:47:29',\n",
       "       '2017-10-16 19:37:26', '2017-10-16 19:31:13', '2017-10-16 18:50:13',\n",
       "       '2017-10-16 18:37:03', '2017-10-16 17:46:31', '2017-10-16 17:06:13',\n",
       "       '2017-10-16 16:47:37', '2017-10-16 16:09:52', '2017-10-16 15:00:48',\n",
       "       '2017-10-16 14:54:27', '2017-10-16 14:49:54', '2017-10-16 13:33:13',\n",
       "       '2017-10-16 13:31:10', '2017-10-16 12:02:54', '2017-10-16 10:38:02',\n",
       "       '2017-10-16 10:04:29', '2018-01-23 23:59:29', '2018-01-23 23:58:39',\n",
       "       '2018-01-23 23:57:32', '2018-01-23 23:57:19', '2018-01-23 23:57:11',\n",
       "       '2018-01-23 23:56:35', '2018-01-23 23:54:56', '2018-01-23 23:54:40',\n",
       "       '2018-01-23 23:52:23', '2018-01-23 23:51:59', '2018-01-23 23:51:33',\n",
       "       '2018-01-23 23:51:08', '2018-01-23 23:50:01', '2018-01-23 23:49:38',\n",
       "       '2018-01-23 23:49:07', '2018-01-23 23:48:33', '2018-01-23 23:48:27',\n",
       "       '2018-01-23 23:48:25', '2018-01-23 23:47:57', '2018-01-23 23:47:32',\n",
       "       '2017-12-09 23:58:19', '2017-12-09 23:54:41', '2017-12-09 23:53:27',\n",
       "       '2017-12-09 23:52:55', '2017-12-09 23:52:13', '2017-12-09 23:51:27',\n",
       "       '2017-12-09 23:50:09', '2017-12-09 23:49:24', '2017-12-09 23:48:50',\n",
       "       '2017-12-09 23:48:07', '2017-12-09 23:48:00', '2017-12-09 23:47:44',\n",
       "       '2017-12-09 23:47:42', '2017-12-09 23:47:39', '2017-12-09 23:47:08',\n",
       "       '2017-12-09 23:46:29', '2017-12-09 23:45:44', '2017-12-09 23:45:14',\n",
       "       '2017-12-09 23:44:22', '2017-12-09 23:43:30', '2017-12-18 23:59:26',\n",
       "       '2017-12-18 23:56:15', '2017-12-18 23:54:01', '2017-12-18 23:53:37',\n",
       "       '2017-12-18 23:51:24', '2017-12-18 23:49:02', '2017-12-18 23:46:44',\n",
       "       '2017-12-18 23:46:09', '2017-12-18 23:44:42', '2017-12-18 23:43:59',\n",
       "       '2017-12-18 23:38:43', '2017-12-18 23:37:20', '2017-12-18 23:36:59',\n",
       "       '2017-12-18 23:36:54', '2017-12-18 23:35:24', '2017-12-18 23:32:38',\n",
       "       '2017-12-18 23:30:19', '2017-12-18 23:29:55', '2017-12-18 23:29:07',\n",
       "       '2017-12-18 23:27:55', '2017-11-12 23:59:45', '2017-11-12 23:59:33',\n",
       "       '2017-11-12 23:58:54', '2017-11-12 23:58:02', '2017-11-12 23:57:47',\n",
       "       '2017-11-12 23:56:55', '2017-11-12 23:56:30', '2017-11-12 23:55:57',\n",
       "       '2017-11-12 23:53:35', '2017-11-12 23:53:03', '2017-11-12 23:53:01',\n",
       "       '2017-11-12 23:50:57', '2017-11-12 23:50:06', '2017-11-12 23:49:34',\n",
       "       '2017-11-12 23:47:23', '2017-11-12 23:46:20', '2017-11-12 23:45:01',\n",
       "       '2017-11-12 23:43:38', '2017-11-12 23:43:10', '2017-11-12 23:42:15',\n",
       "       '2018-02-10 23:58:08', '2018-02-10 23:58:01', '2018-02-10 23:57:39',\n",
       "       '2018-02-10 23:57:11', '2018-02-10 23:57:09', '2018-02-10 23:57:04',\n",
       "       '2018-02-10 23:57:00', '2018-02-10 23:55:30', '2018-02-10 23:54:42',\n",
       "       '2018-02-10 23:54:12', '2018-02-10 23:53:57', '2018-02-10 23:53:28',\n",
       "       '2018-02-10 23:53:09', '2018-02-10 23:52:59', '2018-02-10 23:52:03',\n",
       "       '2018-02-10 23:49:33', '2018-02-10 23:49:29', '2018-02-10 23:48:25',\n",
       "       '2018-02-10 23:47:47', '2018-02-10 23:47:33', '2018-02-01 23:59:32',\n",
       "       '2018-02-01 23:59:18', '2018-02-01 23:59:00', '2018-02-01 23:58:19',\n",
       "       '2018-02-01 23:56:48', '2018-02-01 23:56:47', '2018-02-01 23:55:30',\n",
       "       '2018-02-01 23:54:53', '2018-02-01 23:53:33', '2018-02-01 23:53:09',\n",
       "       '2018-02-01 23:52:12', '2018-02-01 23:51:46', '2018-02-01 23:50:53',\n",
       "       '2018-02-01 23:50:02', '2018-02-01 23:49:57', '2018-02-01 23:49:47',\n",
       "       '2018-02-01 23:49:42', '2018-02-01 23:49:18', '2018-02-01 23:47:56',\n",
       "       '2018-02-01 23:46:49', '2018-01-05 23:59:56', '2018-01-05 23:58:40',\n",
       "       '2018-01-05 23:58:17', '2018-01-05 23:58:13', '2018-01-05 23:57:35',\n",
       "       '2018-01-05 23:53:45', '2018-01-05 23:52:55', '2018-01-05 23:50:47',\n",
       "       '2018-01-05 23:50:06', '2018-01-05 23:49:59', '2018-01-05 23:49:56',\n",
       "       '2018-01-05 23:48:22', '2018-01-05 23:46:31', '2018-01-05 23:45:59',\n",
       "       '2018-01-05 23:45:46', '2018-01-05 23:44:35', '2018-01-05 23:44:14',\n",
       "       '2018-01-05 23:44:06', '2018-01-05 23:43:48', '2018-01-05 23:43:26',\n",
       "       '2017-11-30 23:59:46', '2017-11-30 23:59:05', '2017-11-30 23:58:38',\n",
       "       '2017-11-30 23:56:43', '2017-11-30 23:56:37', '2017-11-30 23:54:23',\n",
       "       '2017-11-30 23:54:10', '2017-11-30 23:54:06', '2017-11-30 23:52:20',\n",
       "       '2017-11-30 23:52:17', '2017-11-30 23:50:59', '2017-11-30 23:50:35',\n",
       "       '2017-11-30 23:50:04', '2017-11-30 23:49:50', '2017-11-30 23:49:35',\n",
       "       '2017-11-30 23:49:25', '2017-11-30 23:47:38', '2017-11-30 23:45:31',\n",
       "       '2017-11-30 23:45:06', '2017-11-30 23:43:26', '2017-09-28 23:43:29',\n",
       "       '2017-09-28 23:06:42', '2017-09-28 23:03:26', '2017-09-28 22:58:07',\n",
       "       '2017-09-28 22:46:31', '2017-09-28 22:24:50', '2017-09-28 21:12:01',\n",
       "       '2017-09-28 20:46:16', '2017-09-28 20:39:35', '2017-09-28 20:29:04',\n",
       "       '2017-09-28 19:26:53', '2017-09-28 19:00:47', '2017-09-28 18:48:12',\n",
       "       '2017-09-28 18:18:13', '2017-09-28 17:56:58', '2017-09-28 17:55:58',\n",
       "       '2017-09-28 17:27:43', '2017-09-28 17:22:09', '2017-09-28 17:19:06',\n",
       "       '2017-09-28 17:18:56', '2017-09-19 23:55:58', '2017-09-19 23:49:57',\n",
       "       '2017-09-19 23:35:30', '2017-09-19 23:06:23', '2017-09-19 22:49:31',\n",
       "       '2017-09-19 22:23:05', '2017-09-19 21:45:47', '2017-09-19 21:38:52',\n",
       "       '2017-09-19 21:33:10', '2017-09-19 21:31:35', '2017-09-19 21:24:16',\n",
       "       '2017-09-19 21:19:44', '2017-09-19 21:17:38', '2017-09-19 21:11:19',\n",
       "       '2017-09-19 21:09:30', '2017-09-19 21:06:49', '2017-09-19 21:05:58',\n",
       "       '2017-09-19 21:04:42', '2017-09-19 21:00:55', '2017-09-19 20:58:18',\n",
       "       '2017-11-03 23:59:57', '2017-11-03 23:59:49', '2017-11-03 23:59:47',\n",
       "       '2017-11-03 23:59:44', '2017-11-03 23:59:42', '2017-11-03 23:59:34',\n",
       "       '2017-11-03 23:59:27', '2017-11-03 23:59:25', '2017-11-03 23:59:15',\n",
       "       '2017-11-03 23:59:04', '2017-11-03 23:59:03', '2017-11-03 23:58:55',\n",
       "       '2017-11-03 23:58:47', '2017-11-03 23:58:36', '2017-11-03 23:58:33',\n",
       "       '2017-11-03 23:58:28', '2017-11-03 23:58:04', '2017-11-03 23:57:57',\n",
       "       '2017-11-03 23:57:26', '2017-09-09 22:30:20', '2017-09-09 22:12:41',\n",
       "       '2017-09-09 22:00:15', '2017-09-09 21:44:54', '2017-09-09 21:40:29',\n",
       "       '2017-09-09 21:38:37', '2017-09-09 21:25:50', '2017-09-09 20:36:56',\n",
       "       '2017-09-09 19:52:17', '2017-09-09 19:44:27', '2017-09-09 19:39:17',\n",
       "       '2017-09-09 18:40:27', '2017-09-09 17:30:37', '2017-09-09 16:34:51',\n",
       "       '2017-09-09 16:12:57', '2017-09-09 16:09:15', '2017-09-09 15:48:09',\n",
       "       '2017-12-17 23:59:18', '2017-12-17 23:59:02', '2017-12-17 23:58:48',\n",
       "       '2017-12-17 23:58:31', '2017-12-17 23:58:28', '2017-12-17 23:57:49',\n",
       "       '2017-12-17 23:57:20', '2017-12-17 23:57:12', '2017-12-17 23:57:09',\n",
       "       '2017-12-17 23:57:02', '2017-12-17 23:56:11', '2017-12-17 23:56:05',\n",
       "       '2017-12-17 23:55:46', '2017-12-17 23:53:34', '2017-12-17 23:53:04',\n",
       "       '2017-12-17 23:53:03', '2017-12-17 23:52:31', '2017-12-17 23:52:09',\n",
       "       '2017-12-17 23:51:57', '2017-09-18 23:57:24', '2017-09-18 23:06:37',\n",
       "       '2017-09-18 23:04:44', '2017-09-18 22:31:59', '2017-09-18 22:31:11',\n",
       "       '2017-09-18 22:28:30', '2017-09-18 21:52:32', '2017-09-18 21:12:56',\n",
       "       '2017-09-18 21:00:08', '2017-09-18 20:54:36', '2017-09-18 20:32:02',\n",
       "       '2017-09-18 20:27:46', '2017-09-18 20:07:54', '2017-09-18 19:59:34',\n",
       "       '2017-09-18 19:58:11', '2017-09-18 19:49:10', '2017-09-18 19:09:24',\n",
       "       '2017-09-18 18:52:30', '2017-11-20 23:59:51', '2017-11-20 23:59:43',\n",
       "       '2017-11-20 23:59:32', '2017-11-20 23:59:23', '2017-11-20 23:59:04',\n",
       "       '2017-11-20 23:58:56', '2017-11-20 23:58:52', '2017-11-20 23:58:32',\n",
       "       '2017-11-20 23:58:24', '2017-11-20 23:58:21', '2017-11-20 23:58:19',\n",
       "       '2017-11-20 23:58:03', '2017-11-20 23:57:49', '2017-11-20 23:57:14',\n",
       "       '2017-11-20 23:57:02', '2017-11-20 23:56:56', '2017-11-20 23:56:43',\n",
       "       '2017-11-20 23:56:32', '2017-11-20 23:56:26', '2017-11-20 23:56:14',\n",
       "       '2017-10-06 23:09:10', '2017-10-06 23:02:23', '2017-10-06 22:02:16',\n",
       "       '2017-10-06 21:24:03', '2017-10-06 21:18:31', '2017-10-06 21:08:55',\n",
       "       '2017-10-06 20:52:02', '2017-10-06 20:20:24', '2017-10-06 20:07:57',\n",
       "       '2017-10-06 19:12:10', '2017-10-06 18:53:23', '2017-10-06 17:49:56',\n",
       "       '2017-10-06 16:31:35', '2017-10-06 16:29:04', '2017-10-06 16:03:36',\n",
       "       '2017-10-06 15:53:36', '2017-10-06 15:45:29', '2017-10-06 15:17:51',\n",
       "       '2017-10-06 14:58:23', '2017-10-06 14:53:46', '2017-11-02 23:59:58',\n",
       "       '2017-11-02 23:59:41', '2017-11-02 23:59:23', '2017-11-02 23:59:20',\n",
       "       '2017-11-02 23:59:07', '2017-11-02 23:58:58', '2017-11-02 23:58:54',\n",
       "       '2017-11-02 23:58:32', '2017-11-02 23:58:26', '2017-11-02 23:58:12',\n",
       "       '2017-11-02 23:57:28', '2017-11-02 23:57:24', '2017-11-02 23:57:10',\n",
       "       '2017-11-02 23:56:39', '2017-11-02 23:56:37', '2017-11-02 23:56:27',\n",
       "       '2017-11-02 23:55:57', '2017-11-02 23:55:53', '2017-11-02 23:55:40',\n",
       "       '2017-10-24 23:59:56', '2017-10-24 23:59:45', '2017-10-24 23:59:40',\n",
       "       '2017-10-24 23:59:39', '2017-10-24 23:59:25', '2017-10-24 23:59:20',\n",
       "       '2017-10-24 23:59:13', '2017-10-24 23:59:09', '2017-10-24 23:59:07',\n",
       "       '2017-10-24 23:59:01', '2017-10-24 23:58:56', '2017-10-24 23:58:48',\n",
       "       '2017-10-24 23:58:47', '2017-10-24 23:58:38', '2017-10-24 23:58:36',\n",
       "       '2017-10-24 23:58:30', '2017-10-24 23:58:16', '2017-10-24 23:58:12',\n",
       "       '2017-10-24 23:58:07', '2018-01-22 23:59:14', '2018-01-22 23:58:45',\n",
       "       '2018-01-22 23:51:17', '2018-01-22 23:49:04', '2018-01-22 23:48:35',\n",
       "       '2018-01-22 23:45:36', '2018-01-22 23:43:06', '2018-01-22 23:40:07',\n",
       "       '2018-01-22 23:39:54', '2018-01-22 23:39:44', '2018-01-22 23:38:09',\n",
       "       '2018-01-22 23:32:21', '2018-01-22 23:30:01', '2018-01-22 23:29:29',\n",
       "       '2018-01-22 23:29:14', '2018-01-22 23:28:18', '2018-01-22 23:24:36',\n",
       "       '2018-01-22 23:19:49', '2018-01-22 23:16:37', '2018-01-22 23:14:12',\n",
       "       '2017-09-27 23:51:28', '2017-09-27 23:40:07', '2017-09-27 23:28:44',\n",
       "       '2017-09-27 23:21:20', '2017-09-27 22:13:06', '2017-09-27 21:25:28',\n",
       "       '2017-09-27 21:17:54', '2017-09-27 20:09:42', '2017-09-27 19:53:46',\n",
       "       '2017-09-27 19:39:26', '2017-09-27 19:38:38', '2017-09-27 19:18:10',\n",
       "       '2017-09-27 19:16:55', '2017-09-27 19:10:36', '2017-09-27 18:13:57',\n",
       "       '2017-09-27 17:42:09', '2017-09-27 16:41:41', '2017-09-27 16:41:24',\n",
       "       '2017-09-27 16:31:33', '2017-09-27 16:29:21', '2017-12-08 23:59:46',\n",
       "       '2017-12-08 23:59:06', '2017-12-08 23:57:53', '2017-12-08 23:57:25',\n",
       "       '2017-12-08 23:55:50', '2017-12-08 23:54:46', '2017-12-08 23:54:00',\n",
       "       '2017-12-08 23:53:30', '2017-12-08 23:52:21', '2017-12-08 23:50:50',\n",
       "       '2017-12-08 23:50:14', '2017-12-08 23:47:37', '2017-12-08 23:46:16',\n",
       "       '2017-12-08 23:46:04', '2017-12-08 23:45:26', '2017-12-08 23:44:12',\n",
       "       '2017-12-08 23:44:00', '2017-12-08 23:43:32', '2017-12-08 23:42:06',\n",
       "       '2017-11-29 23:59:18', '2017-11-29 23:58:25', '2017-11-29 23:57:59',\n",
       "       '2017-11-29 23:57:04', '2017-11-29 23:56:12', '2017-11-29 23:56:01',\n",
       "       '2017-11-29 23:55:23', '2017-11-29 23:55:07', '2017-11-29 23:54:36',\n",
       "       '2017-11-29 23:53:59', '2017-11-29 23:53:58', '2017-11-29 23:53:52',\n",
       "       '2017-11-29 23:53:36', '2017-11-29 23:53:00', '2017-11-29 23:51:44',\n",
       "       '2017-11-29 23:51:14', '2017-11-29 23:50:42', '2017-11-29 23:50:00',\n",
       "       '2017-11-29 23:49:53', '2017-11-29 23:49:24', '2018-01-04 23:58:33',\n",
       "       '2018-01-04 23:57:08', '2018-01-04 23:55:20', '2018-01-04 23:55:19',\n",
       "       '2018-01-04 23:54:55', '2018-01-04 23:54:40', '2018-01-04 23:52:43',\n",
       "       '2018-01-04 23:50:06', '2018-01-04 23:48:56', '2018-01-04 23:48:32',\n",
       "       '2018-01-04 23:48:07', '2018-01-04 23:47:56', '2018-01-04 23:44:01',\n",
       "       '2018-01-04 23:42:50', '2018-01-04 23:35:55', '2018-01-04 23:34:09',\n",
       "       '2018-01-04 23:33:42', '2018-01-04 23:32:49', '2018-01-04 23:31:26',\n",
       "       '2018-01-04 23:31:14', '2018-01-13 23:59:18', '2018-01-13 23:59:11',\n",
       "       '2018-01-13 23:59:03', '2018-01-13 23:58:58', '2018-01-13 23:58:40',\n",
       "       '2018-01-13 23:58:20', '2018-01-13 23:58:19', '2018-01-13 23:58:13',\n",
       "       '2018-01-13 23:57:29', '2018-01-13 23:57:20', '2018-01-13 23:57:18',\n",
       "       '2018-01-13 23:57:16', '2018-01-13 23:57:02', '2018-01-13 23:56:32',\n",
       "       '2018-01-13 23:56:25', '2018-01-13 23:56:13', '2018-01-13 23:56:10',\n",
       "       '2018-01-13 23:56:03', '2018-02-18 23:58:11', '2018-02-18 23:58:08',\n",
       "       '2018-02-18 23:58:05', '2018-02-18 23:57:53', '2018-02-18 23:57:36',\n",
       "       '2018-02-18 23:55:47', '2018-02-18 23:55:22', '2018-02-18 23:54:56',\n",
       "       '2018-02-18 23:53:52', '2018-02-18 23:53:48', '2018-02-18 23:53:19',\n",
       "       '2018-02-18 23:52:51', '2018-02-18 23:52:14', '2018-02-18 23:51:47',\n",
       "       '2018-02-18 23:46:32', '2018-02-18 23:44:22', '2018-02-18 23:40:35',\n",
       "       '2018-02-18 23:40:30', '2018-02-18 23:40:07', '2018-02-18 23:37:20',\n",
       "       '2017-11-11 23:58:43', '2017-11-11 23:58:06', '2017-11-11 23:57:36',\n",
       "       '2017-11-11 23:57:27', '2017-11-11 23:56:49', '2017-11-11 23:56:35',\n",
       "       '2017-11-11 23:55:55', '2017-11-11 23:55:54', '2017-11-11 23:55:18',\n",
       "       '2017-11-11 23:53:55', '2017-11-11 23:53:26', '2017-11-11 23:53:04',\n",
       "       '2017-11-11 23:52:34', '2017-11-11 23:52:27', '2017-11-11 23:50:58',\n",
       "       '2017-11-11 23:49:16', '2017-11-11 23:47:03', '2017-11-11 23:46:09',\n",
       "       '2017-11-11 23:45:00', '2017-11-11 23:44:41', '2018-01-31 23:58:53',\n",
       "       '2018-01-31 23:57:58', '2018-01-31 23:55:08', '2018-01-31 23:53:43',\n",
       "       '2018-01-31 23:53:15', '2018-01-31 23:51:45', '2018-01-31 23:51:27',\n",
       "       '2018-01-31 23:51:05', '2018-01-31 23:51:04', '2018-01-31 23:50:42',\n",
       "       '2018-01-31 23:50:11', '2018-01-31 23:48:03', '2018-01-31 23:47:31',\n",
       "       '2018-01-31 23:41:23', '2018-01-31 23:37:54', '2018-01-31 23:36:54',\n",
       "       '2018-01-31 23:36:50', '2018-01-31 23:36:42', '2018-01-31 23:34:53',\n",
       "       '2018-01-31 23:32:56', '2017-10-15 23:52:21', '2017-10-15 23:49:45',\n",
       "       '2017-10-15 23:31:42', '2017-10-15 22:56:43', '2017-10-15 22:52:51',\n",
       "       '2017-10-15 22:10:47', '2017-10-15 21:08:40', '2017-10-15 19:30:42',\n",
       "       '2017-10-15 19:29:22', '2017-10-15 19:13:06', '2017-10-15 18:54:42',\n",
       "       '2017-10-15 18:46:10', '2017-10-15 18:12:37', '2017-10-15 17:52:26',\n",
       "       '2017-10-15 17:13:26', '2017-10-15 17:12:18', '2017-10-15 16:51:47',\n",
       "       '2017-10-15 16:41:08', '2017-10-15 16:31:08', '2017-10-15 16:14:00',\n",
       "       '2017-12-26 23:58:07', '2017-12-26 23:57:09', '2017-12-26 23:56:56',\n",
       "       '2017-12-26 23:56:33', '2017-12-26 23:56:16', '2017-12-26 23:54:18',\n",
       "       '2017-12-26 23:54:14', '2017-12-26 23:52:36', '2017-12-26 23:49:52',\n",
       "       '2017-12-26 23:47:30', '2017-12-26 23:47:09', '2017-12-26 23:44:49',\n",
       "       '2017-12-26 23:43:24', '2017-12-26 23:43:05', '2017-12-26 23:41:21',\n",
       "       '2017-12-26 23:39:41', '2017-12-26 23:38:38', '2017-12-26 23:38:22',\n",
       "       '2017-12-26 23:37:41', '2017-12-26 23:35:39', '2018-02-09 23:59:11',\n",
       "       '2018-02-09 23:58:44', '2018-02-09 23:58:33', '2018-02-09 23:58:32',\n",
       "       '2018-02-09 23:58:18', '2018-02-09 23:58:01', '2018-02-09 23:57:47',\n",
       "       '2018-02-09 23:57:37', '2018-02-09 23:57:08', '2018-02-09 23:56:41',\n",
       "       '2018-02-09 23:56:30', '2018-02-09 23:56:11', '2018-02-09 23:55:57',\n",
       "       '2018-02-09 23:55:54', '2018-02-09 23:55:48', '2018-02-09 23:55:27',\n",
       "       '2018-02-09 23:55:21', '2018-02-09 23:55:20', '2018-02-09 23:55:17',\n",
       "       '2018-02-09 23:52:43'], dtype=object)"
      ]
     },
     "execution_count": 66,
     "metadata": {},
     "output_type": "execute_result"
    }
   ],
   "source": [
    "df.date.unique()"
   ]
  },
  {
   "cell_type": "code",
   "execution_count": 44,
   "metadata": {},
   "outputs": [],
   "source": [
    "target_columns = ['toxic', 'severe_toxic', 'obscene', 'threat', 'insult', 'identity_hate']"
   ]
  },
  {
   "cell_type": "markdown",
   "metadata": {},
   "source": [
    "### Plotly"
   ]
  },
  {
   "cell_type": "code",
   "execution_count": 46,
   "metadata": {},
   "outputs": [
    {
     "data": {
      "text/plain": [
       "['toxic', 'severe_toxic', 'obscene', 'threat', 'insult', 'identity_hate']"
      ]
     },
     "execution_count": 46,
     "metadata": {},
     "output_type": "execute_result"
    }
   ],
   "source": [
    "target_columns"
   ]
  },
  {
   "cell_type": "code",
   "execution_count": 47,
   "metadata": {},
   "outputs": [],
   "source": [
    "import plotly\n",
    "import plotly.graph_objs as go\n",
    "import plotly.plotly as py"
   ]
  },
  {
   "cell_type": "code",
   "execution_count": 48,
   "metadata": {},
   "outputs": [],
   "source": [
    "plotly.tools.set_credentials_file(username='itlyons', api_key='PLI5e96SGllP9ELwlSTg')"
   ]
  },
  {
   "cell_type": "code",
   "execution_count": 55,
   "metadata": {},
   "outputs": [],
   "source": [
    "prefix = \"u1_\""
   ]
  },
  {
   "cell_type": "code",
   "execution_count": 63,
   "metadata": {},
   "outputs": [
    {
     "data": {
      "text/plain": [
       "'https://plot.ly/~itlyons/113'"
      ]
     },
     "execution_count": 63,
     "metadata": {},
     "output_type": "execute_result"
    }
   ],
   "source": [
    "trace1 = go.Scatter(x=df['date'], y=df['toxic'], marker={'color': 'light blue', 'symbol': 104, 'size': \"5\"}, \n",
    "                    mode=\"markers\", name='1st Trace')\n",
    "                                               \n",
    "data=go.Data([trace1])\n",
    "layout=go.Layout(title=\"Toxic Plot\", xaxis={'title':'Date'}, yaxis={'title':'Toxicity'})\n",
    "figure=go.Figure(data=data,layout=layout)\n",
    "url_1 = py.plot(data, filename='u1-1', sharing='public', auto_open=False)\n",
    "py.iplot(figure, filename=prefix+'toxic')\n",
    "\n",
    "url_1"
   ]
  },
  {
   "cell_type": "code",
   "execution_count": 57,
   "metadata": {
    "scrolled": false
   },
   "outputs": [
    {
     "data": {
      "text/plain": [
       "'https://plot.ly/~itlyons/89'"
      ]
     },
     "execution_count": 57,
     "metadata": {},
     "output_type": "execute_result"
    }
   ],
   "source": [
    "trace2 = go.Scatter(x=df['date'], y=df['severe_toxic'], marker={'color': 'purple', 'symbol': 104, 'size': \"5\"}, \n",
    "                    mode=\"markers\", name='2nd Trace')\n",
    "                                               \n",
    "data=go.Data([trace2])\n",
    "layout=go.Layout(title=\"Severe Toxic Plot\", xaxis={'title':'Date'}, yaxis={'title':'Severe Toxicity'})\n",
    "figure=go.Figure(data=data,layout=layout)\n",
    "url_2 = py.plot(data, filename='second_plot', sharing='public', auto_open=False)\n",
    "py.iplot(figure, filename=prefix+'severe_toxic')\n",
    "\n",
    "url_2"
   ]
  },
  {
   "cell_type": "code",
   "execution_count": 58,
   "metadata": {},
   "outputs": [
    {
     "data": {
      "text/plain": [
       "'https://plot.ly/~itlyons/97'"
      ]
     },
     "execution_count": 58,
     "metadata": {},
     "output_type": "execute_result"
    }
   ],
   "source": [
    "trace3 = go.Scatter(x=df['date'], y=df['obscene'], marker={'color': 'purple', 'symbol': 104, 'size': \"5\"}, \n",
    "                    mode=\"markers\", name='3rd Trace')\n",
    "                                               \n",
    "data=go.Data([trace3])\n",
    "layout=go.Layout(title=\"Obscene Plot\", xaxis={'title':'Date'}, yaxis={'title':'Obscenity'})\n",
    "figure=go.Figure(data=data,layout=layout)\n",
    "url_3 = py.plot(data, filename='third_plot', sharing='public', auto_open=False)\n",
    "py.iplot(figure, filename=prefix+'obscene')\n",
    "\n",
    "url_3"
   ]
  },
  {
   "cell_type": "code",
   "execution_count": 59,
   "metadata": {},
   "outputs": [
    {
     "data": {
      "text/plain": [
       "'https://plot.ly/~itlyons/101'"
      ]
     },
     "execution_count": 59,
     "metadata": {},
     "output_type": "execute_result"
    }
   ],
   "source": [
    "trace4 = go.Scatter(x=df['date'], y=df['threat'], marker={'color': 'purple', 'symbol': 104, 'size': \"5\"}, \n",
    "                    mode=\"markers\", name='4th Trace')\n",
    "                                               \n",
    "data=go.Data([trace4])\n",
    "layout=go.Layout(title=\"Threat Plot\", xaxis={'title':'Date'}, yaxis={'title':'Threat'})\n",
    "figure=go.Figure(data=data,layout=layout)\n",
    "url_4 = py.plot(data, filename='fourth_plot', sharing='public', auto_open=False)\n",
    "py.iplot(figure, filename=prefix+'threat')\n",
    "\n",
    "url_4"
   ]
  },
  {
   "cell_type": "code",
   "execution_count": 60,
   "metadata": {},
   "outputs": [
    {
     "data": {
      "text/plain": [
       "'https://plot.ly/~itlyons/105'"
      ]
     },
     "execution_count": 60,
     "metadata": {},
     "output_type": "execute_result"
    }
   ],
   "source": [
    "trace5 = go.Scatter(x=df['date'], y=df['insult'], marker={'color': 'purple', 'symbol': 104, 'size': \"5\"}, \n",
    "                    mode=\"markers\", name='5th Trace')\n",
    "                                               \n",
    "data=go.Data([trace5])\n",
    "layout=go.Layout(title=\"Insult Plot\", xaxis={'title':'Date'}, yaxis={'title':'Insult'})\n",
    "figure=go.Figure(data=data,layout=layout)\n",
    "url_5 = py.plot(data, filename='fifth_plot', sharing='public', auto_open=False)\n",
    "py.iplot(figure, filename=prefix+'insult')\n",
    "\n",
    "url_5"
   ]
  },
  {
   "cell_type": "code",
   "execution_count": 67,
   "metadata": {},
   "outputs": [
    {
     "data": {
      "text/plain": [
       "'https://plot.ly/~itlyons/115'"
      ]
     },
     "execution_count": 67,
     "metadata": {},
     "output_type": "execute_result"
    }
   ],
   "source": [
    "trace6 = go.Scatter(x=df['date'], y=df['identity_hate'], marker={'color': 'red', 'symbol': 104, 'size': \"5\"}, \n",
    "                    mode=\"markers\", name='6th Trace')\n",
    "                                               \n",
    "data=go.Data([trace6])\n",
    "layout=go.Layout(title=\"Identity Hate Plot\", xaxis={'title':'Date'}, yaxis={'title':'Identity Hate'})\n",
    "figure=go.Figure(data=data,layout=layout)\n",
    "url_6 = py.plot(data, filename='sixth_plot', sharing='public', auto_open=False)\n",
    "py.iplot(figure, filename=prefix+'identity_hate')\n",
    "\n",
    "url_6"
   ]
  },
  {
   "cell_type": "code",
   "execution_count": 68,
   "metadata": {},
   "outputs": [],
   "source": [
    "def get_fileId(url):\n",
    "    '''\n",
    "    Derive fileID of plot from plot's url\n",
    "    '''\n",
    "    split = url.split(\"/\")\n",
    "    username = split[-2][1:]\n",
    "    number = split[-1]\n",
    "    return username + \":\" + number"
   ]
  },
  {
   "cell_type": "code",
   "execution_count": 69,
   "metadata": {},
   "outputs": [],
   "source": [
    "import plotly.dashboard_objs as dashboard\n",
    "import IPython.display\n",
    "from IPython.display import Image\n",
    "\n",
    "my_dboard = dashboard.Dashboard()"
   ]
  },
  {
   "cell_type": "code",
   "execution_count": 70,
   "metadata": {},
   "outputs": [],
   "source": [
    "box_1_fileId = get_fileId(url_1)\n",
    "box_2_fileId = get_fileId(url_2)\n",
    "box_3_fileId = get_fileId(url_3)\n",
    "box_4_fileId = get_fileId(url_4)\n",
    "box_5_fileId = get_fileId(url_5)\n",
    "box_6_fileId = get_fileId(url_6)"
   ]
  },
  {
   "cell_type": "code",
   "execution_count": 71,
   "metadata": {},
   "outputs": [],
   "source": [
    "box_1 = {\n",
    "    'type': 'box',\n",
    "    'boxType': 'plot',\n",
    "    'fileId': box_1_fileId,\n",
    "    'title': 'Toxic Plot'\n",
    "}\n",
    " \n",
    "box_2 = {\n",
    "    'type': 'box',\n",
    "    'boxType': 'plot',\n",
    "    'fileId': box_2_fileId,\n",
    "    'title': 'Severe Toxic Plot'\n",
    "}\n",
    "\n",
    "box_3 = {\n",
    "    'type': 'box',\n",
    "    'boxType': 'plot',\n",
    "    'fileId': box_3_fileId,\n",
    "    'title': 'Obscene Plot'\n",
    "}\n",
    "\n",
    "box_4 = {\n",
    "    'type': 'box',\n",
    "    'boxType': 'plot',\n",
    "    'fileId': box_4_fileId,\n",
    "    'title': 'Threat Plot'\n",
    "}\n",
    "\n",
    "box_5 = {\n",
    "    'type': 'box',\n",
    "    'boxType': 'plot',\n",
    "    'fileId': box_5_fileId,\n",
    "    'title': 'Insult Plot'\n",
    "}\n",
    "\n",
    "box_6 = {\n",
    "    'type': 'box',\n",
    "    'boxType': 'plot',\n",
    "    'fileId': box_6_fileId,\n",
    "    'title': 'Identity Hate Plot'\n",
    "}"
   ]
  },
  {
   "cell_type": "code",
   "execution_count": 72,
   "metadata": {},
   "outputs": [],
   "source": [
    "my_dboard.insert(box_1)\n",
    "my_dboard.insert(box_4, 'below', 1)\n",
    "\n",
    "my_dboard.insert(box_2, 'right', 1)\n",
    "my_dboard.insert(box_3, 'right', 2)\n",
    "\n",
    "my_dboard.insert(box_5, 'right', 4)\n",
    "my_dboard.insert(box_6, 'right', 5)"
   ]
  },
  {
   "cell_type": "code",
   "execution_count": 73,
   "metadata": {},
   "outputs": [
    {
     "data": {
      "text/html": [
       "\n",
       "<!DOCTYPE HTML>\n",
       "<html>\n",
       "  <head>\n",
       "    <style>\n",
       "      body {\n",
       "        margin: 0px;\n",
       "        padding: 0px;\n",
       "      }\n",
       "    </style>\n",
       "  </head>\n",
       "  <body>\n",
       "    <canvas id=\"myCanvas\" width=\"400\" height=\"400\"></canvas>\n",
       "    <script>\n",
       "      var canvas = document.getElementById('myCanvas');\n",
       "      var context = canvas.getContext('2d');\n",
       "      <!-- Dashboard -->\n",
       "      context.beginPath();\n",
       "      context.rect(0, 0, 400, 400);\n",
       "      context.lineWidth = 2;\n",
       "      context.strokeStyle = 'black';\n",
       "      context.stroke();\n",
       "     <!-- Draw some lines in -->\n",
       "          context.beginPath();\n",
       "          context.rect(0, 200.0, 400, 1);\n",
       "          context.lineWidth = 1;\n",
       "          context.strokeStyle = 'black';\n",
       "          context.stroke();\n",
       "    <!-- Draw some lines in -->\n",
       "          context.beginPath();\n",
       "          context.rect(200.0, 0, 1, 200.0);\n",
       "          context.lineWidth = 1;\n",
       "          context.strokeStyle = 'black';\n",
       "          context.stroke();\n",
       "    <!-- Draw some lines in -->\n",
       "          context.beginPath();\n",
       "          context.rect(200.0, 200.0, 1, 200.0);\n",
       "          context.lineWidth = 1;\n",
       "          context.strokeStyle = 'black';\n",
       "          context.stroke();\n",
       "    <!-- Insert box numbers -->\n",
       "          context.font = '10pt Times New Roman';\n",
       "          context.textAlign = 'center';\n",
       "          context.fillText(1, 0 + 0.5*200.0, 0 + 0.5*200.0);\n",
       "    <!-- Draw some lines in -->\n",
       "          context.beginPath();\n",
       "          context.rect(300.0, 0, 1, 200.0);\n",
       "          context.lineWidth = 1;\n",
       "          context.strokeStyle = 'black';\n",
       "          context.stroke();\n",
       "    <!-- Insert box numbers -->\n",
       "          context.font = '10pt Times New Roman';\n",
       "          context.textAlign = 'center';\n",
       "          context.fillText(4, 0 + 0.5*200.0, 200.0 + 0.5*200.0);\n",
       "    <!-- Draw some lines in -->\n",
       "          context.beginPath();\n",
       "          context.rect(300.0, 200.0, 1, 200.0);\n",
       "          context.lineWidth = 1;\n",
       "          context.strokeStyle = 'black';\n",
       "          context.stroke();\n",
       "    <!-- Insert box numbers -->\n",
       "          context.font = '10pt Times New Roman';\n",
       "          context.textAlign = 'center';\n",
       "          context.fillText(2, 200.0 + 0.5*100.0, 0 + 0.5*200.0);\n",
       "    <!-- Insert box numbers -->\n",
       "          context.font = '10pt Times New Roman';\n",
       "          context.textAlign = 'center';\n",
       "          context.fillText(3, 300.0 + 0.5*100.0, 0 + 0.5*200.0);\n",
       "    <!-- Insert box numbers -->\n",
       "          context.font = '10pt Times New Roman';\n",
       "          context.textAlign = 'center';\n",
       "          context.fillText(5, 200.0 + 0.5*100.0, 200.0 + 0.5*200.0);\n",
       "    <!-- Insert box numbers -->\n",
       "          context.font = '10pt Times New Roman';\n",
       "          context.textAlign = 'center';\n",
       "          context.fillText(6, 300.0 + 0.5*100.0, 200.0 + 0.5*200.0);\n",
       "     </script>\n",
       "  </body>\n",
       "</html>\n"
      ],
      "text/plain": [
       "<IPython.core.display.HTML object>"
      ]
     },
     "execution_count": 73,
     "metadata": {},
     "output_type": "execute_result"
    }
   ],
   "source": [
    "my_dboard.get_preview()"
   ]
  },
  {
   "cell_type": "code",
   "execution_count": 74,
   "metadata": {},
   "outputs": [
    {
     "data": {
      "text/plain": [
       "'https://plot.ly/~itlyons/117/untitled-dashboard/'"
      ]
     },
     "execution_count": 74,
     "metadata": {},
     "output_type": "execute_result"
    }
   ],
   "source": [
    "py.dashboard_ops.upload(my_dboard, 'botsbotsbots Tweet Toxicity Dashboard')"
   ]
  },
  {
   "cell_type": "code",
   "execution_count": 75,
   "metadata": {},
   "outputs": [
    {
     "data": {
      "text/plain": [
       "<matplotlib.axes._subplots.AxesSubplot at 0x113752c88>"
      ]
     },
     "execution_count": 75,
     "metadata": {},
     "output_type": "execute_result"
    },
    {
     "data": {
      "image/png": "[encoded data removed]",
      "text/plain": [
       "<matplotlib.figure.Figure at 0x113699ba8>"
      ]
     },
     "metadata": {},
     "output_type": "display_data"
    }
   ],
   "source": [
    "df['likes'] = df['likes'].astype(float)\n",
    "\n",
    "# normalizing identity hate by tweet popularity\n",
    "df['popular_obscene'] = df['obscene']*df['likes']\n",
    "df.groupby('date')['popular_obscene'].mean().plot()"
   ]
  },
  {
   "cell_type": "code",
   "execution_count": null,
   "metadata": {},
   "outputs": [],
   "source": []
  }
 ],
 "metadata": {
  "kernelspec": {
   "display_name": "Python 3",
   "language": "python",
   "name": "python3"
  },
  "language_info": {
   "codemirror_mode": {
    "name": "ipython",
    "version": 3
   },
   "file_extension": ".py",
   "mimetype": "text/x-python",
   "name": "python",
   "nbconvert_exporter": "python",
   "pygments_lexer": "ipython3",
   "version": "3.6.2"
  }
 },
 "nbformat": 4,
 "nbformat_minor": 2
}
