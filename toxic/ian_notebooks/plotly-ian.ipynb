{
 "cells": [
  {
   "cell_type": "code",
   "execution_count": 1,
   "metadata": {},
   "outputs": [],
   "source": [
    "import pandas as pd\n",
    "import numpy as np\n",
    "import matplotlib.pyplot as plt\n",
    "import seaborn as sns\n",
    "%matplotlib inline"
   ]
  },
  {
   "cell_type": "code",
   "execution_count": 2,
   "metadata": {},
   "outputs": [],
   "source": [
    "filename = 'classified_2a_0117_0318'\n",
    "df = pd.read_csv(\"../classified/ian/\"+filename, encoding = \"ISO-8859-1\")"
   ]
  },
  {
   "cell_type": "code",
   "execution_count": 3,
   "metadata": {},
   "outputs": [],
   "source": [
    "df = df.drop('Unnamed: 0', 1)"
   ]
  },
  {
   "cell_type": "code",
   "execution_count": 4,
   "metadata": {},
   "outputs": [],
   "source": [
    "target_columns = ['toxic', 'severe_toxic', 'obscene', 'threat', 'insult', 'identity_hate']"
   ]
  },
  {
   "cell_type": "markdown",
   "metadata": {},
   "source": [
    "### Plotly"
   ]
  },
  {
   "cell_type": "code",
   "execution_count": 5,
   "metadata": {},
   "outputs": [
    {
     "data": {
      "text/plain": [
       "['toxic', 'severe_toxic', 'obscene', 'threat', 'insult', 'identity_hate']"
      ]
     },
     "execution_count": 5,
     "metadata": {},
     "output_type": "execute_result"
    }
   ],
   "source": [
    "target_columns"
   ]
  },
  {
   "cell_type": "code",
   "execution_count": 6,
   "metadata": {},
   "outputs": [],
   "source": [
    "import plotly\n",
    "import plotly.graph_objs as go\n",
    "import plotly.plotly as py"
   ]
  },
  {
   "cell_type": "code",
   "execution_count": 7,
   "metadata": {},
   "outputs": [],
   "source": [
    "plotly.tools.set_credentials_file(username='itlyons', api_key='PLI5e96SGllP9ELwlSTg')"
   ]
  },
  {
   "cell_type": "code",
   "execution_count": 8,
   "metadata": {},
   "outputs": [],
   "source": [
    "prefix = \"2a_\""
   ]
  },
  {
   "cell_type": "code",
   "execution_count": 14,
   "metadata": {},
   "outputs": [
    {
     "data": {
      "text/plain": [
       "'https://plot.ly/~itlyons/118'"
      ]
     },
     "execution_count": 14,
     "metadata": {},
     "output_type": "execute_result"
    }
   ],
   "source": [
    "trace1 = go.Scatter(x=df['date'], y=df['obscene'and'toxic'], marker={'color': 'light blue', 'symbol': 104, 'size': \"5\"}, \n",
    "                    mode=\"markers\", name='1st Trace')\n",
    "                                               \n",
    "data=go.Data([trace1])\n",
    "layout=go.Layout(title=\"Toxic Plot\", xaxis={'title':'Date'}, yaxis={'title':'Toxicity'})\n",
    "figure=go.Figure(data=data,layout=layout)\n",
    "url_1 = py.plot(data, filename='u1-1', sharing='public', auto_open=False)\n",
    "py.iplot(figure, filename=prefix+'toxic')\n",
    "\n",
    "url_1"
   ]
  },
  {
   "cell_type": "code",
   "execution_count": 57,
   "metadata": {
    "scrolled": false
   },
   "outputs": [
    {
     "data": {
      "text/plain": [
       "'https://plot.ly/~itlyons/89'"
      ]
     },
     "execution_count": 57,
     "metadata": {},
     "output_type": "execute_result"
    }
   ],
   "source": [
    "trace2 = go.Scatter(x=df['date'], y=df['severe_toxic'], marker={'color': 'purple', 'symbol': 104, 'size': \"5\"}, \n",
    "                    mode=\"markers\", name='2nd Trace')\n",
    "                                               \n",
    "data=go.Data([trace2])\n",
    "layout=go.Layout(title=\"Severe Toxic Plot\", xaxis={'title':'Date'}, yaxis={'title':'Severe Toxicity'})\n",
    "figure=go.Figure(data=data,layout=layout)\n",
    "url_2 = py.plot(data, filename='second_plot', sharing='public', auto_open=False)\n",
    "py.iplot(figure, filename=prefix+'severe_toxic')\n",
    "\n",
    "url_2"
   ]
  },
  {
   "cell_type": "code",
   "execution_count": 58,
   "metadata": {},
   "outputs": [
    {
     "data": {
      "text/plain": [
       "'https://plot.ly/~itlyons/97'"
      ]
     },
     "execution_count": 58,
     "metadata": {},
     "output_type": "execute_result"
    }
   ],
   "source": [
    "trace3 = go.Scatter(x=df['date'], y=df['obscene'], marker={'color': 'purple', 'symbol': 104, 'size': \"5\"}, \n",
    "                    mode=\"markers\", name='3rd Trace')\n",
    "                                               \n",
    "data=go.Data([trace3])\n",
    "layout=go.Layout(title=\"Obscene Plot\", xaxis={'title':'Date'}, yaxis={'title':'Obscenity'})\n",
    "figure=go.Figure(data=data,layout=layout)\n",
    "url_3 = py.plot(data, filename='third_plot', sharing='public', auto_open=False)\n",
    "py.iplot(figure, filename=prefix+'obscene')\n",
    "\n",
    "url_3"
   ]
  },
  {
   "cell_type": "code",
   "execution_count": 59,
   "metadata": {},
   "outputs": [
    {
     "data": {
      "text/plain": [
       "'https://plot.ly/~itlyons/101'"
      ]
     },
     "execution_count": 59,
     "metadata": {},
     "output_type": "execute_result"
    }
   ],
   "source": [
    "trace4 = go.Scatter(x=df['date'], y=df['threat'], marker={'color': 'purple', 'symbol': 104, 'size': \"5\"}, \n",
    "                    mode=\"markers\", name='4th Trace')\n",
    "                                               \n",
    "data=go.Data([trace4])\n",
    "layout=go.Layout(title=\"Threat Plot\", xaxis={'title':'Date'}, yaxis={'title':'Threat'})\n",
    "figure=go.Figure(data=data,layout=layout)\n",
    "url_4 = py.plot(data, filename='fourth_plot', sharing='public', auto_open=False)\n",
    "py.iplot(figure, filename=prefix+'threat')\n",
    "\n",
    "url_4"
   ]
  },
  {
   "cell_type": "code",
   "execution_count": 60,
   "metadata": {},
   "outputs": [
    {
     "data": {
      "text/plain": [
       "'https://plot.ly/~itlyons/105'"
      ]
     },
     "execution_count": 60,
     "metadata": {},
     "output_type": "execute_result"
    }
   ],
   "source": [
    "trace5 = go.Scatter(x=df['date'], y=df['insult'], marker={'color': 'purple', 'symbol': 104, 'size': \"5\"}, \n",
    "                    mode=\"markers\", name='5th Trace')\n",
    "                                               \n",
    "data=go.Data([trace5])\n",
    "layout=go.Layout(title=\"Insult Plot\", xaxis={'title':'Date'}, yaxis={'title':'Insult'})\n",
    "figure=go.Figure(data=data,layout=layout)\n",
    "url_5 = py.plot(data, filename='fifth_plot', sharing='public', auto_open=False)\n",
    "py.iplot(figure, filename=prefix+'insult')\n",
    "\n",
    "url_5"
   ]
  },
  {
   "cell_type": "code",
   "execution_count": 67,
   "metadata": {},
   "outputs": [
    {
     "data": {
      "text/plain": [
       "'https://plot.ly/~itlyons/115'"
      ]
     },
     "execution_count": 67,
     "metadata": {},
     "output_type": "execute_result"
    }
   ],
   "source": [
    "trace6 = go.Scatter(x=df['date'], y=df['identity_hate'], marker={'color': 'red', 'symbol': 104, 'size': \"5\"}, \n",
    "                    mode=\"markers\", name='6th Trace')\n",
    "                                               \n",
    "data=go.Data([trace6])\n",
    "layout=go.Layout(title=\"Identity Hate Plot\", xaxis={'title':'Date'}, yaxis={'title':'Identity Hate'})\n",
    "figure=go.Figure(data=data,layout=layout)\n",
    "url_6 = py.plot(data, filename='sixth_plot', sharing='public', auto_open=False)\n",
    "py.iplot(figure, filename=prefix+'identity_hate')\n",
    "\n",
    "url_6"
   ]
  },
  {
   "cell_type": "code",
   "execution_count": 68,
   "metadata": {},
   "outputs": [],
   "source": [
    "def get_fileId(url):\n",
    "    '''\n",
    "    Derive fileID of plot from plot's url\n",
    "    '''\n",
    "    split = url.split(\"/\")\n",
    "    username = split[-2][1:]\n",
    "    number = split[-1]\n",
    "    return username + \":\" + number"
   ]
  },
  {
   "cell_type": "code",
   "execution_count": 69,
   "metadata": {},
   "outputs": [],
   "source": [
    "import plotly.dashboard_objs as dashboard\n",
    "import IPython.display\n",
    "from IPython.display import Image\n",
    "\n",
    "my_dboard = dashboard.Dashboard()"
   ]
  },
  {
   "cell_type": "code",
   "execution_count": 70,
   "metadata": {},
   "outputs": [],
   "source": [
    "box_1_fileId = get_fileId(url_1)\n",
    "box_2_fileId = get_fileId(url_2)\n",
    "box_3_fileId = get_fileId(url_3)\n",
    "box_4_fileId = get_fileId(url_4)\n",
    "box_5_fileId = get_fileId(url_5)\n",
    "box_6_fileId = get_fileId(url_6)"
   ]
  },
  {
   "cell_type": "code",
   "execution_count": 71,
   "metadata": {},
   "outputs": [],
   "source": [
    "box_1 = {\n",
    "    'type': 'box',\n",
    "    'boxType': 'plot',\n",
    "    'fileId': box_1_fileId,\n",
    "    'title': 'Toxic Plot'\n",
    "}\n",
    " \n",
    "box_2 = {\n",
    "    'type': 'box',\n",
    "    'boxType': 'plot',\n",
    "    'fileId': box_2_fileId,\n",
    "    'title': 'Severe Toxic Plot'\n",
    "}\n",
    "\n",
    "box_3 = {\n",
    "    'type': 'box',\n",
    "    'boxType': 'plot',\n",
    "    'fileId': box_3_fileId,\n",
    "    'title': 'Obscene Plot'\n",
    "}\n",
    "\n",
    "box_4 = {\n",
    "    'type': 'box',\n",
    "    'boxType': 'plot',\n",
    "    'fileId': box_4_fileId,\n",
    "    'title': 'Threat Plot'\n",
    "}\n",
    "\n",
    "box_5 = {\n",
    "    'type': 'box',\n",
    "    'boxType': 'plot',\n",
    "    'fileId': box_5_fileId,\n",
    "    'title': 'Insult Plot'\n",
    "}\n",
    "\n",
    "box_6 = {\n",
    "    'type': 'box',\n",
    "    'boxType': 'plot',\n",
    "    'fileId': box_6_fileId,\n",
    "    'title': 'Identity Hate Plot'\n",
    "}"
   ]
  },
  {
   "cell_type": "code",
   "execution_count": 72,
   "metadata": {},
   "outputs": [],
   "source": [
    "my_dboard.insert(box_1)\n",
    "my_dboard.insert(box_4, 'below', 1)\n",
    "\n",
    "my_dboard.insert(box_2, 'right', 1)\n",
    "my_dboard.insert(box_3, 'right', 2)\n",
    "\n",
    "my_dboard.insert(box_5, 'right', 4)\n",
    "my_dboard.insert(box_6, 'right', 5)"
   ]
  },
  {
   "cell_type": "code",
   "execution_count": 73,
   "metadata": {},
   "outputs": [
    {
     "data": {
      "text/html": [
       "\n",
       "<!DOCTYPE HTML>\n",
       "<html>\n",
       "  <head>\n",
       "    <style>\n",
       "      body {\n",
       "        margin: 0px;\n",
       "        padding: 0px;\n",
       "      }\n",
       "    </style>\n",
       "  </head>\n",
       "  <body>\n",
       "    <canvas id=\"myCanvas\" width=\"400\" height=\"400\"></canvas>\n",
       "    <script>\n",
       "      var canvas = document.getElementById('myCanvas');\n",
       "      var context = canvas.getContext('2d');\n",
       "      <!-- Dashboard -->\n",
       "      context.beginPath();\n",
       "      context.rect(0, 0, 400, 400);\n",
       "      context.lineWidth = 2;\n",
       "      context.strokeStyle = 'black';\n",
       "      context.stroke();\n",
       "     <!-- Draw some lines in -->\n",
       "          context.beginPath();\n",
       "          context.rect(0, 200.0, 400, 1);\n",
       "          context.lineWidth = 1;\n",
       "          context.strokeStyle = 'black';\n",
       "          context.stroke();\n",
       "    <!-- Draw some lines in -->\n",
       "          context.beginPath();\n",
       "          context.rect(200.0, 0, 1, 200.0);\n",
       "          context.lineWidth = 1;\n",
       "          context.strokeStyle = 'black';\n",
       "          context.stroke();\n",
       "    <!-- Draw some lines in -->\n",
       "          context.beginPath();\n",
       "          context.rect(200.0, 200.0, 1, 200.0);\n",
       "          context.lineWidth = 1;\n",
       "          context.strokeStyle = 'black';\n",
       "          context.stroke();\n",
       "    <!-- Insert box numbers -->\n",
       "          context.font = '10pt Times New Roman';\n",
       "          context.textAlign = 'center';\n",
       "          context.fillText(1, 0 + 0.5*200.0, 0 + 0.5*200.0);\n",
       "    <!-- Draw some lines in -->\n",
       "          context.beginPath();\n",
       "          context.rect(300.0, 0, 1, 200.0);\n",
       "          context.lineWidth = 1;\n",
       "          context.strokeStyle = 'black';\n",
       "          context.stroke();\n",
       "    <!-- Insert box numbers -->\n",
       "          context.font = '10pt Times New Roman';\n",
       "          context.textAlign = 'center';\n",
       "          context.fillText(4, 0 + 0.5*200.0, 200.0 + 0.5*200.0);\n",
       "    <!-- Draw some lines in -->\n",
       "          context.beginPath();\n",
       "          context.rect(300.0, 200.0, 1, 200.0);\n",
       "          context.lineWidth = 1;\n",
       "          context.strokeStyle = 'black';\n",
       "          context.stroke();\n",
       "    <!-- Insert box numbers -->\n",
       "          context.font = '10pt Times New Roman';\n",
       "          context.textAlign = 'center';\n",
       "          context.fillText(2, 200.0 + 0.5*100.0, 0 + 0.5*200.0);\n",
       "    <!-- Insert box numbers -->\n",
       "          context.font = '10pt Times New Roman';\n",
       "          context.textAlign = 'center';\n",
       "          context.fillText(3, 300.0 + 0.5*100.0, 0 + 0.5*200.0);\n",
       "    <!-- Insert box numbers -->\n",
       "          context.font = '10pt Times New Roman';\n",
       "          context.textAlign = 'center';\n",
       "          context.fillText(5, 200.0 + 0.5*100.0, 200.0 + 0.5*200.0);\n",
       "    <!-- Insert box numbers -->\n",
       "          context.font = '10pt Times New Roman';\n",
       "          context.textAlign = 'center';\n",
       "          context.fillText(6, 300.0 + 0.5*100.0, 200.0 + 0.5*200.0);\n",
       "     </script>\n",
       "  </body>\n",
       "</html>\n"
      ],
      "text/plain": [
       "<IPython.core.display.HTML object>"
      ]
     },
     "execution_count": 73,
     "metadata": {},
     "output_type": "execute_result"
    }
   ],
   "source": [
    "my_dboard.get_preview()"
   ]
  },
  {
   "cell_type": "code",
   "execution_count": 74,
   "metadata": {},
   "outputs": [
    {
     "data": {
      "text/plain": [
       "'https://plot.ly/~itlyons/117/untitled-dashboard/'"
      ]
     },
     "execution_count": 74,
     "metadata": {},
     "output_type": "execute_result"
    }
   ],
   "source": [
    "py.dashboard_ops.upload(my_dboard, 'botsbotsbots Tweet Toxicity Dashboard')"
   ]
  },
  {
   "cell_type": "code",
   "execution_count": 75,
   "metadata": {},
   "outputs": [
    {
     "data": {
      "text/plain": [
       "<matplotlib.axes._subplots.AxesSubplot at 0x113752c88>"
      ]
     },
     "execution_count": 75,
     "metadata": {},
     "output_type": "execute_result"
    },
    {
     "data": {
      "image/png": "[encoded data removed]",
      "text/plain": [
       "<matplotlib.figure.Figure at 0x113699ba8>"
      ]
     },
     "metadata": {},
     "output_type": "display_data"
    }
   ],
   "source": [
    "df['likes'] = df['likes'].astype(float)\n",
    "\n",
    "# normalizing identity hate by tweet popularity\n",
    "df['popular_obscene'] = df['obscene']*df['likes']\n",
    "df.groupby('date')['popular_obscene'].mean().plot()"
   ]
  },
  {
   "cell_type": "code",
   "execution_count": null,
   "metadata": {},
   "outputs": [],
   "source": []
  }
 ],
 "metadata": {
  "kernelspec": {
   "display_name": "Python 3",
   "language": "python",
   "name": "python3"
  },
  "language_info": {
   "codemirror_mode": {
    "name": "ipython",
    "version": 3
   },
   "file_extension": ".py",
   "mimetype": "text/x-python",
   "name": "python",
   "nbconvert_exporter": "python",
   "pygments_lexer": "ipython3",
   "version": "3.6.2"
  }
 },
 "nbformat": 4,
 "nbformat_minor": 2
}
