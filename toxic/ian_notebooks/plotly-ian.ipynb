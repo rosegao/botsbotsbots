{
 "cells": [
  {
   "cell_type": "code",
   "execution_count": 1,
   "metadata": {},
   "outputs": [],
   "source": [
    "import pandas as pd\n",
    "import numpy as np\n",
    "import matplotlib.pyplot as plt\n",
    "import seaborn as sns\n",
    "%matplotlib inline"
   ]
  },
  {
   "cell_type": "code",
   "execution_count": 2,
   "metadata": {},
   "outputs": [],
   "source": [
    "df = pd.read_csv(\"classified_tweets_schumer\", encoding = \"ISO-8859-1\")"
   ]
  },
  {
   "cell_type": "code",
   "execution_count": 3,
   "metadata": {},
   "outputs": [],
   "source": [
    "df = df.drop('Unnamed: 0', 1)"
   ]
  },
  {
   "cell_type": "code",
   "execution_count": 4,
   "metadata": {},
   "outputs": [
    {
     "data": {
      "text/html": [
       "<div>\n",
       "<style>\n",
       "    .dataframe thead tr:only-child th {\n",
       "        text-align: right;\n",
       "    }\n",
       "\n",
       "    .dataframe thead th {\n",
       "        text-align: left;\n",
       "    }\n",
       "\n",
       "    .dataframe tbody tr th {\n",
       "        vertical-align: top;\n",
       "    }\n",
       "</style>\n",
       "<table border=\"1\" class=\"dataframe\">\n",
       "  <thead>\n",
       "    <tr style=\"text-align: right;\">\n",
       "      <th></th>\n",
       "      <th>date</th>\n",
       "      <th>fullname</th>\n",
       "      <th>id</th>\n",
       "      <th>likes</th>\n",
       "      <th>replies</th>\n",
       "      <th>retweets</th>\n",
       "      <th>text</th>\n",
       "      <th>url</th>\n",
       "      <th>user</th>\n",
       "      <th>month</th>\n",
       "      <th>toxic</th>\n",
       "      <th>severe_toxic</th>\n",
       "      <th>obscene</th>\n",
       "      <th>threat</th>\n",
       "      <th>insult</th>\n",
       "      <th>identity_hate</th>\n",
       "      <th>classification</th>\n",
       "      <th>popular_obscene</th>\n",
       "    </tr>\n",
       "  </thead>\n",
       "  <tbody>\n",
       "    <tr>\n",
       "      <th>0</th>\n",
       "      <td>2018-01-27 23:57:20</td>\n",
       "      <td>ENCC LEADER ÃÂ Ã°ÂÂÂ¬Ã°ÂÂÂ§ÃÂ Ã°ÂÂÂ®Ã°...</td>\n",
       "      <td>957402172374822912</td>\n",
       "      <td>1.0</td>\n",
       "      <td>0</td>\n",
       "      <td>0</td>\n",
       "      <td>I dont think she knows how to spell #SchumerSh...</td>\n",
       "      <td>/legitknighton/status/957402172374822912</td>\n",
       "      <td>legitknighton</td>\n",
       "      <td>2018-01-01</td>\n",
       "      <td>0.023858</td>\n",
       "      <td>0.000156</td>\n",
       "      <td>0.000077</td>\n",
       "      <td>0.000028</td>\n",
       "      <td>0.000128</td>\n",
       "      <td>0.000118</td>\n",
       "      <td>toxic</td>\n",
       "      <td>0.000077</td>\n",
       "    </tr>\n",
       "    <tr>\n",
       "      <th>1</th>\n",
       "      <td>2018-01-27 23:54:10</td>\n",
       "      <td>CJ ÃÂ Ã°ÂÂÂÃÂ Ã°ÂÂÂºÃ°ÂÂÂ¸ÃÂ Ã°ÂÂÂ...</td>\n",
       "      <td>957401377159950342</td>\n",
       "      <td>0.0</td>\n",
       "      <td>0</td>\n",
       "      <td>0</td>\n",
       "      <td>Neither  Mueller  nor  Rosenstein  have  been ...</td>\n",
       "      <td>/MeedgeKnowsBest/status/957401377159950342</td>\n",
       "      <td>MeedgeKnowsBest</td>\n",
       "      <td>2018-01-01</td>\n",
       "      <td>0.010216</td>\n",
       "      <td>0.000155</td>\n",
       "      <td>0.000955</td>\n",
       "      <td>0.000018</td>\n",
       "      <td>0.000054</td>\n",
       "      <td>0.000033</td>\n",
       "      <td>toxic</td>\n",
       "      <td>0.000000</td>\n",
       "    </tr>\n",
       "    <tr>\n",
       "      <th>2</th>\n",
       "      <td>2018-01-27 23:53:20</td>\n",
       "      <td>American Deplorable</td>\n",
       "      <td>957401165221769217</td>\n",
       "      <td>2.0</td>\n",
       "      <td>1</td>\n",
       "      <td>1</td>\n",
       "      <td>He's been doing that! You with messages like t...</td>\n",
       "      <td>/Deplorican/status/957401165221769217</td>\n",
       "      <td>Deplorican</td>\n",
       "      <td>2018-01-01</td>\n",
       "      <td>0.000250</td>\n",
       "      <td>0.000859</td>\n",
       "      <td>0.001084</td>\n",
       "      <td>0.000024</td>\n",
       "      <td>0.000031</td>\n",
       "      <td>0.000012</td>\n",
       "      <td>obscene</td>\n",
       "      <td>0.002169</td>\n",
       "    </tr>\n",
       "    <tr>\n",
       "      <th>3</th>\n",
       "      <td>2018-01-27 23:50:05</td>\n",
       "      <td>Arthur C. Schaper</td>\n",
       "      <td>957400350981472256</td>\n",
       "      <td>0.0</td>\n",
       "      <td>0</td>\n",
       "      <td>0</td>\n",
       "      <td>This meme says it all.\\n#SchumerShutdown https...</td>\n",
       "      <td>/ArthurCSchaper/status/957400350981472256</td>\n",
       "      <td>ArthurCSchaper</td>\n",
       "      <td>2018-01-01</td>\n",
       "      <td>0.004772</td>\n",
       "      <td>0.000819</td>\n",
       "      <td>0.001086</td>\n",
       "      <td>0.000024</td>\n",
       "      <td>0.000923</td>\n",
       "      <td>0.000134</td>\n",
       "      <td>toxic</td>\n",
       "      <td>0.000000</td>\n",
       "    </tr>\n",
       "    <tr>\n",
       "      <th>4</th>\n",
       "      <td>2018-01-27 23:48:01</td>\n",
       "      <td>tj</td>\n",
       "      <td>957399828711071744</td>\n",
       "      <td>1.0</td>\n",
       "      <td>0</td>\n",
       "      <td>0</td>\n",
       "      <td>@NancyPelosi @SenSchumer\\n#ReleaseTheMemo\\n#Sc...</td>\n",
       "      <td>/tjmaj59/status/957399828711071744</td>\n",
       "      <td>tjmaj59</td>\n",
       "      <td>2018-01-01</td>\n",
       "      <td>0.019148</td>\n",
       "      <td>0.003441</td>\n",
       "      <td>0.001086</td>\n",
       "      <td>0.000020</td>\n",
       "      <td>0.000099</td>\n",
       "      <td>0.000071</td>\n",
       "      <td>toxic</td>\n",
       "      <td>0.001086</td>\n",
       "    </tr>\n",
       "  </tbody>\n",
       "</table>\n",
       "</div>"
      ],
      "text/plain": [
       "                  date                                           fullname  \\\n",
       "0  2018-01-27 23:57:20  ENCC LEADER ÃÂ Ã°ÂÂÂ¬Ã°ÂÂÂ§ÃÂ Ã°ÂÂÂ®Ã°...   \n",
       "1  2018-01-27 23:54:10  CJ ÃÂ Ã°ÂÂÂÃÂ Ã°ÂÂÂºÃ°ÂÂÂ¸ÃÂ Ã°ÂÂÂ...   \n",
       "2  2018-01-27 23:53:20                                American Deplorable   \n",
       "3  2018-01-27 23:50:05                                  Arthur C. Schaper   \n",
       "4  2018-01-27 23:48:01                                                 tj   \n",
       "\n",
       "                   id  likes  replies  retweets  \\\n",
       "0  957402172374822912    1.0        0         0   \n",
       "1  957401377159950342    0.0        0         0   \n",
       "2  957401165221769217    2.0        1         1   \n",
       "3  957400350981472256    0.0        0         0   \n",
       "4  957399828711071744    1.0        0         0   \n",
       "\n",
       "                                                text  \\\n",
       "0  I dont think she knows how to spell #SchumerSh...   \n",
       "1  Neither  Mueller  nor  Rosenstein  have  been ...   \n",
       "2  He's been doing that! You with messages like t...   \n",
       "3  This meme says it all.\\n#SchumerShutdown https...   \n",
       "4  @NancyPelosi @SenSchumer\\n#ReleaseTheMemo\\n#Sc...   \n",
       "\n",
       "                                          url             user       month  \\\n",
       "0    /legitknighton/status/957402172374822912    legitknighton  2018-01-01   \n",
       "1  /MeedgeKnowsBest/status/957401377159950342  MeedgeKnowsBest  2018-01-01   \n",
       "2       /Deplorican/status/957401165221769217       Deplorican  2018-01-01   \n",
       "3   /ArthurCSchaper/status/957400350981472256   ArthurCSchaper  2018-01-01   \n",
       "4          /tjmaj59/status/957399828711071744          tjmaj59  2018-01-01   \n",
       "\n",
       "      toxic  severe_toxic   obscene    threat    insult  identity_hate  \\\n",
       "0  0.023858      0.000156  0.000077  0.000028  0.000128       0.000118   \n",
       "1  0.010216      0.000155  0.000955  0.000018  0.000054       0.000033   \n",
       "2  0.000250      0.000859  0.001084  0.000024  0.000031       0.000012   \n",
       "3  0.004772      0.000819  0.001086  0.000024  0.000923       0.000134   \n",
       "4  0.019148      0.003441  0.001086  0.000020  0.000099       0.000071   \n",
       "\n",
       "  classification  popular_obscene  \n",
       "0          toxic         0.000077  \n",
       "1          toxic         0.000000  \n",
       "2        obscene         0.002169  \n",
       "3          toxic         0.000000  \n",
       "4          toxic         0.001086  "
      ]
     },
     "execution_count": 4,
     "metadata": {},
     "output_type": "execute_result"
    }
   ],
   "source": [
    "df.head()"
   ]
  },
  {
   "cell_type": "code",
   "execution_count": 5,
   "metadata": {},
   "outputs": [],
   "source": [
    "target_columns = ['toxic', 'severe_toxic', 'obscene', 'threat', 'insult', 'identity_hate']"
   ]
  },
  {
   "cell_type": "markdown",
   "metadata": {},
   "source": [
    "### Plotly"
   ]
  },
  {
   "cell_type": "code",
   "execution_count": 6,
   "metadata": {},
   "outputs": [
    {
     "data": {
      "text/plain": [
       "['toxic', 'severe_toxic', 'obscene', 'threat', 'insult', 'identity_hate']"
      ]
     },
     "execution_count": 6,
     "metadata": {},
     "output_type": "execute_result"
    }
   ],
   "source": [
    "target_columns"
   ]
  },
  {
   "cell_type": "code",
   "execution_count": 7,
   "metadata": {},
   "outputs": [],
   "source": [
    "import plotly\n",
    "import plotly.graph_objs as go\n",
    "import plotly.plotly as py"
   ]
  },
  {
   "cell_type": "code",
   "execution_count": 9,
   "metadata": {},
   "outputs": [],
   "source": [
    "plotly.tools.set_credentials_file(username='itlyons', api_key='PLI5e96SGllP9ELwlSTg')"
   ]
  },
  {
   "cell_type": "code",
   "execution_count": 10,
   "metadata": {},
   "outputs": [
    {
     "data": {
      "text/plain": [
       "'https://plot.ly/~itlyons/44'"
      ]
     },
     "execution_count": 10,
     "metadata": {},
     "output_type": "execute_result"
    }
   ],
   "source": [
    "trace1 = go.Scatter(x=df['date'], y=df['toxic'], marker={'color': 'blue', 'symbol': 104, 'size': \"5\"}, \n",
    "                    mode=\"markers+lines\", name='1st Trace')\n",
    "                                               \n",
    "data=go.Data([trace1])\n",
    "layout=go.Layout(title=\"Toxic Plot\", xaxis={'title':'Date'}, yaxis={'title':'Toxicity'})\n",
    "figure=go.Figure(data=data,layout=layout)\n",
    "url_1 = py.plot(data, filename='first_plot', sharing='public', auto_open=False)\n",
    "py.iplot(figure, filename='toxic_1')\n",
    "\n",
    "url_1"
   ]
  },
  {
   "cell_type": "code",
   "execution_count": 11,
   "metadata": {
    "scrolled": false
   },
   "outputs": [
    {
     "data": {
      "text/plain": [
       "'https://plot.ly/~itlyons/48'"
      ]
     },
     "execution_count": 11,
     "metadata": {},
     "output_type": "execute_result"
    }
   ],
   "source": [
    "trace2 = go.Scatter(x=df['date'], y=df['severe_toxic'], marker={'color': 'purple', 'symbol': 104, 'size': \"5\"}, \n",
    "                    mode=\"markers+lines\", name='2nd Trace')\n",
    "                                               \n",
    "data=go.Data([trace2])\n",
    "layout=go.Layout(title=\"Severe Toxic Plot\", xaxis={'title':'Date'}, yaxis={'title':'Severe Toxicity'})\n",
    "figure=go.Figure(data=data,layout=layout)\n",
    "url_2 = py.plot(data, filename='second_plot', sharing='public', auto_open=False)\n",
    "py.iplot(figure, filename='severe_toxic_1')\n",
    "\n",
    "url_2"
   ]
  },
  {
   "cell_type": "code",
   "execution_count": 11,
   "metadata": {},
   "outputs": [
    {
     "data": {
      "text/plain": [
       "'https://plot.ly/~rose.gao6/20'"
      ]
     },
     "execution_count": 11,
     "metadata": {},
     "output_type": "execute_result"
    }
   ],
   "source": [
    "trace3 = go.Scatter(x=df['date'], y=df['obscene'], marker={'color': 'purple', 'symbol': 104, 'size': \"5\"}, \n",
    "                    mode=\"markers+lines\", name='3rd Trace')\n",
    "                                               \n",
    "data=go.Data([trace3])\n",
    "layout=go.Layout(title=\"Obscene Plot\", xaxis={'title':'Date'}, yaxis={'title':'Obscenity'})\n",
    "figure=go.Figure(data=data,layout=layout)\n",
    "url_3 = py.plot(data, filename='third_plot', sharing='public', auto_open=False)\n",
    "py.iplot(figure, filename='obscene_1')\n",
    "\n",
    "url_3"
   ]
  },
  {
   "cell_type": "code",
   "execution_count": 12,
   "metadata": {},
   "outputs": [
    {
     "data": {
      "text/plain": [
       "'https://plot.ly/~rose.gao6/22'"
      ]
     },
     "execution_count": 12,
     "metadata": {},
     "output_type": "execute_result"
    }
   ],
   "source": [
    "trace4 = go.Scatter(x=df['date'], y=df['threat'], marker={'color': 'purple', 'symbol': 104, 'size': \"5\"}, \n",
    "                    mode=\"markers+lines\", name='4th Trace')\n",
    "                                               \n",
    "data=go.Data([trace4])\n",
    "layout=go.Layout(title=\"Threat Plot\", xaxis={'title':'Date'}, yaxis={'title':'Threat'})\n",
    "figure=go.Figure(data=data,layout=layout)\n",
    "url_4 = py.plot(data, filename='fourth_plot', sharing='public', auto_open=False)\n",
    "py.iplot(figure, filename='threat_1')\n",
    "\n",
    "url_4"
   ]
  },
  {
   "cell_type": "code",
   "execution_count": 13,
   "metadata": {},
   "outputs": [
    {
     "data": {
      "text/plain": [
       "'https://plot.ly/~rose.gao6/26'"
      ]
     },
     "execution_count": 13,
     "metadata": {},
     "output_type": "execute_result"
    }
   ],
   "source": [
    "trace5 = go.Scatter(x=df['date'], y=df['insult'], marker={'color': 'purple', 'symbol': 104, 'size': \"5\"}, \n",
    "                    mode=\"markers+lines\", name='5th Trace')\n",
    "                                               \n",
    "data=go.Data([trace5])\n",
    "layout=go.Layout(title=\"Insult Plot\", xaxis={'title':'Date'}, yaxis={'title':'Insult'})\n",
    "figure=go.Figure(data=data,layout=layout)\n",
    "url_5 = py.plot(data, filename='fifth_plot', sharing='public', auto_open=False)\n",
    "py.iplot(figure, filename='insult_1')\n",
    "\n",
    "url_5"
   ]
  },
  {
   "cell_type": "code",
   "execution_count": 14,
   "metadata": {},
   "outputs": [
    {
     "data": {
      "text/plain": [
       "'https://plot.ly/~rose.gao6/30'"
      ]
     },
     "execution_count": 14,
     "metadata": {},
     "output_type": "execute_result"
    }
   ],
   "source": [
    "trace6 = go.Scatter(x=df['date'], y=df['identity_hate'], marker={'color': 'purple', 'symbol': 104, 'size': \"5\"}, \n",
    "                    mode=\"markers+lines\", name='6th Trace')\n",
    "                                               \n",
    "data=go.Data([trace6])\n",
    "layout=go.Layout(title=\"Identity Hate Plot\", xaxis={'title':'Date'}, yaxis={'title':'Identity Hate'})\n",
    "figure=go.Figure(data=data,layout=layout)\n",
    "url_6 = py.plot(data, filename='sixth_plot', sharing='public', auto_open=False)\n",
    "py.iplot(figure, filename='identity_hate_1')\n",
    "\n",
    "url_6"
   ]
  },
  {
   "cell_type": "code",
   "execution_count": 15,
   "metadata": {},
   "outputs": [],
   "source": [
    "def get_fileId(url):\n",
    "    '''\n",
    "    Derive fileID of plot from plot's url\n",
    "    '''\n",
    "    split = url.split(\"/\")\n",
    "    username = split[-2][1:]\n",
    "    number = split[-1]\n",
    "    return username + \":\" + number"
   ]
  },
  {
   "cell_type": "code",
   "execution_count": 16,
   "metadata": {},
   "outputs": [],
   "source": [
    "import plotly.dashboard_objs as dashboard\n",
    "import IPython.display\n",
    "from IPython.display import Image\n",
    "\n",
    "my_dboard = dashboard.Dashboard()"
   ]
  },
  {
   "cell_type": "code",
   "execution_count": 17,
   "metadata": {},
   "outputs": [],
   "source": [
    "box_1_fileId = get_fileId(url_1)\n",
    "box_2_fileId = get_fileId(url_2)\n",
    "box_3_fileId = get_fileId(url_3)\n",
    "box_4_fileId = get_fileId(url_4)\n",
    "box_5_fileId = get_fileId(url_5)\n",
    "box_6_fileId = get_fileId(url_6)"
   ]
  },
  {
   "cell_type": "code",
   "execution_count": 18,
   "metadata": {},
   "outputs": [],
   "source": [
    "box_1 = {\n",
    "    'type': 'box',\n",
    "    'boxType': 'plot',\n",
    "    'fileId': box_1_fileId,\n",
    "    'title': 'Toxic Plot'\n",
    "}\n",
    " \n",
    "box_2 = {\n",
    "    'type': 'box',\n",
    "    'boxType': 'plot',\n",
    "    'fileId': box_2_fileId,\n",
    "    'title': 'Severe Toxic Plot'\n",
    "}\n",
    "\n",
    "box_3 = {\n",
    "    'type': 'box',\n",
    "    'boxType': 'plot',\n",
    "    'fileId': box_3_fileId,\n",
    "    'title': 'Obscene Plot'\n",
    "}\n",
    "\n",
    "box_4 = {\n",
    "    'type': 'box',\n",
    "    'boxType': 'plot',\n",
    "    'fileId': box_4_fileId,\n",
    "    'title': 'Threat Plot'\n",
    "}\n",
    "\n",
    "box_5 = {\n",
    "    'type': 'box',\n",
    "    'boxType': 'plot',\n",
    "    'fileId': box_5_fileId,\n",
    "    'title': 'Insult Plot'\n",
    "}\n",
    "\n",
    "box_6 = {\n",
    "    'type': 'box',\n",
    "    'boxType': 'plot',\n",
    "    'fileId': box_6_fileId,\n",
    "    'title': 'Identity Hate Plot'\n",
    "}"
   ]
  },
  {
   "cell_type": "code",
   "execution_count": 19,
   "metadata": {},
   "outputs": [],
   "source": [
    "my_dboard.insert(box_1)\n",
    "my_dboard.insert(box_4, 'below', 1)\n",
    "\n",
    "my_dboard.insert(box_2, 'right', 1)\n",
    "my_dboard.insert(box_3, 'right', 2)\n",
    "\n",
    "my_dboard.insert(box_5, 'right', 4)\n",
    "my_dboard.insert(box_6, 'right', 5)"
   ]
  },
  {
   "cell_type": "code",
   "execution_count": 20,
   "metadata": {},
   "outputs": [
    {
     "data": {
      "text/html": [
       "\n",
       "<!DOCTYPE HTML>\n",
       "<html>\n",
       "  <head>\n",
       "    <style>\n",
       "      body {\n",
       "        margin: 0px;\n",
       "        padding: 0px;\n",
       "      }\n",
       "    </style>\n",
       "  </head>\n",
       "  <body>\n",
       "    <canvas id=\"myCanvas\" width=\"400\" height=\"400\"></canvas>\n",
       "    <script>\n",
       "      var canvas = document.getElementById('myCanvas');\n",
       "      var context = canvas.getContext('2d');\n",
       "      <!-- Dashboard -->\n",
       "      context.beginPath();\n",
       "      context.rect(0, 0, 400, 400);\n",
       "      context.lineWidth = 2;\n",
       "      context.strokeStyle = 'black';\n",
       "      context.stroke();\n",
       "     <!-- Draw some lines in -->\n",
       "          context.beginPath();\n",
       "          context.rect(0, 200.0, 400, 1);\n",
       "          context.lineWidth = 1;\n",
       "          context.strokeStyle = 'black';\n",
       "          context.stroke();\n",
       "    <!-- Draw some lines in -->\n",
       "          context.beginPath();\n",
       "          context.rect(200.0, 0, 1, 200.0);\n",
       "          context.lineWidth = 1;\n",
       "          context.strokeStyle = 'black';\n",
       "          context.stroke();\n",
       "    <!-- Draw some lines in -->\n",
       "          context.beginPath();\n",
       "          context.rect(200.0, 200.0, 1, 200.0);\n",
       "          context.lineWidth = 1;\n",
       "          context.strokeStyle = 'black';\n",
       "          context.stroke();\n",
       "    <!-- Insert box numbers -->\n",
       "          context.font = '10pt Times New Roman';\n",
       "          context.textAlign = 'center';\n",
       "          context.fillText(1, 0 + 0.5*200.0, 0 + 0.5*200.0);\n",
       "    <!-- Draw some lines in -->\n",
       "          context.beginPath();\n",
       "          context.rect(300.0, 0, 1, 200.0);\n",
       "          context.lineWidth = 1;\n",
       "          context.strokeStyle = 'black';\n",
       "          context.stroke();\n",
       "    <!-- Insert box numbers -->\n",
       "          context.font = '10pt Times New Roman';\n",
       "          context.textAlign = 'center';\n",
       "          context.fillText(4, 0 + 0.5*200.0, 200.0 + 0.5*200.0);\n",
       "    <!-- Draw some lines in -->\n",
       "          context.beginPath();\n",
       "          context.rect(300.0, 200.0, 1, 200.0);\n",
       "          context.lineWidth = 1;\n",
       "          context.strokeStyle = 'black';\n",
       "          context.stroke();\n",
       "    <!-- Insert box numbers -->\n",
       "          context.font = '10pt Times New Roman';\n",
       "          context.textAlign = 'center';\n",
       "          context.fillText(2, 200.0 + 0.5*100.0, 0 + 0.5*200.0);\n",
       "    <!-- Insert box numbers -->\n",
       "          context.font = '10pt Times New Roman';\n",
       "          context.textAlign = 'center';\n",
       "          context.fillText(3, 300.0 + 0.5*100.0, 0 + 0.5*200.0);\n",
       "    <!-- Insert box numbers -->\n",
       "          context.font = '10pt Times New Roman';\n",
       "          context.textAlign = 'center';\n",
       "          context.fillText(5, 200.0 + 0.5*100.0, 200.0 + 0.5*200.0);\n",
       "    <!-- Insert box numbers -->\n",
       "          context.font = '10pt Times New Roman';\n",
       "          context.textAlign = 'center';\n",
       "          context.fillText(6, 300.0 + 0.5*100.0, 200.0 + 0.5*200.0);\n",
       "     </script>\n",
       "  </body>\n",
       "</html>\n"
      ],
      "text/plain": [
       "<IPython.core.display.HTML object>"
      ]
     },
     "execution_count": 20,
     "metadata": {},
     "output_type": "execute_result"
    }
   ],
   "source": [
    "my_dboard.get_preview()"
   ]
  },
  {
   "cell_type": "code",
   "execution_count": 21,
   "metadata": {},
   "outputs": [
    {
     "data": {
      "text/plain": [
       "'https://plot.ly/~rose.gao6/13/untitled-dashboard/'"
      ]
     },
     "execution_count": 21,
     "metadata": {},
     "output_type": "execute_result"
    }
   ],
   "source": [
    "py.dashboard_ops.upload(my_dboard, 'botsbotsbots Tweet Toxicity Dashboard')"
   ]
  },
  {
   "cell_type": "code",
   "execution_count": null,
   "metadata": {},
   "outputs": [],
   "source": []
  }
 ],
 "metadata": {
  "kernelspec": {
   "display_name": "Python 3",
   "language": "python",
   "name": "python3"
  },
  "language_info": {
   "codemirror_mode": {
    "name": "ipython",
    "version": 3
   },
   "file_extension": ".py",
   "mimetype": "text/x-python",
   "name": "python",
   "nbconvert_exporter": "python",
   "pygments_lexer": "ipython3",
   "version": "3.6.2"
  }
 },
 "nbformat": 4,
 "nbformat_minor": 2
}
