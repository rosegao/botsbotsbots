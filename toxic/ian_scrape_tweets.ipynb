{
 "cells": [
  {
   "cell_type": "markdown",
   "metadata": {},
   "source": [
    "## Get Tweets"
   ]
  },
  {
   "cell_type": "code",
   "execution_count": 17,
   "metadata": {},
   "outputs": [],
   "source": [
    "from twitterscraper import query_tweets\n",
    "from datetime import timedelta, date\n",
    "import pandas as pd\n",
    "import csv\n",
    "import gc\n",
    "import query\n",
    "%matplotlib inline"
   ]
  },
  {
   "cell_type": "code",
   "execution_count": 18,
   "metadata": {},
   "outputs": [],
   "source": [
    "def twitter_query(query, start_date, end_date,limit_per_day=100):\n",
    "    \n",
    "    query = query_tweets(query=query, \n",
    "                     limit=limit_per_day,\n",
    "                     begindate=start_date, \n",
    "                     enddate=end_date, \n",
    "                     poolsize=20, \n",
    "                     lang='en')\n",
    "    return query"
   ]
  },
  {
   "cell_type": "code",
   "execution_count": 19,
   "metadata": {},
   "outputs": [],
   "source": [
    "def create_list(query):    \n",
    "    tweets = []\n",
    "    for tweet in query:\n",
    "        tweets.append({'date': tweet.timestamp, 'text': tweet.text, \n",
    "                   'fullname': tweet.fullname, 'id': tweet.id, \n",
    "                   'likes': tweet.likes, 'replies': tweet.replies,\n",
    "                   'retweets': tweet.retweets, 'url': tweet.url,\n",
    "                   'user': tweet.user})\n",
    "    return tweets\n"
   ]
  },
  {
   "cell_type": "code",
   "execution_count": 20,
   "metadata": {},
   "outputs": [],
   "source": [
    "def add_to_list(query):\n",
    "    for tweet in query:\n",
    "        tweets.append({'date': tweet.timestamp, 'text': tweet.text, \n",
    "                   'fullname': tweet.fullname, 'id': tweet.id, \n",
    "                   'likes': tweet.likes, 'replies': tweet.replies,\n",
    "                   'retweets': tweet.retweets, 'url': tweet.url,\n",
    "                   'user': tweet.user})\n",
    "    return tweets"
   ]
  },
  {
   "cell_type": "markdown",
   "metadata": {},
   "source": [
    "### Query"
   ]
  },
  {
   "cell_type": "code",
   "execution_count": 74,
   "metadata": {},
   "outputs": [],
   "source": [
    "query = '#daca'\n",
    "day = 15\n",
    "start_date = date(2018, 2, day)\n",
    "start_date_alt = date(2018, 2, day+1)\n",
    "end_date = date(2018, 3, 1)\n",
    "filename = 'scrape_frb_0117_0318'\n",
    "\n",
    "evenquery = twitter_query(query, start_date, end_date)\n",
    "oddquery = twitter_query(query, start_date_alt, end_date)"
   ]
  },
  {
   "cell_type": "code",
   "execution_count": 75,
   "metadata": {},
   "outputs": [],
   "source": [
    "#tweets = create_list(evenquery)"
   ]
  },
  {
   "cell_type": "code",
   "execution_count": 76,
   "metadata": {},
   "outputs": [],
   "source": [
    "if len(tweets) > 0:\n",
    "    tweets = add_to_list(oddquery)\n",
    "    tweets = add_to_list(evenquery)"
   ]
  },
  {
   "cell_type": "markdown",
   "metadata": {},
   "source": [
    "## Pre-process Tweets"
   ]
  },
  {
   "cell_type": "code",
   "execution_count": 77,
   "metadata": {},
   "outputs": [],
   "source": [
    "def pre_process(tweets):\n",
    "    df = pd.DataFrame(tweets)\n",
    "    print(\"Initial dataframe length: \", len(df))\n",
    "    \n",
    "    # add timestamp column\n",
    "    df['month'] = df['date'].apply(lambda x : date(x.year, x.month, 1))\n",
    "    # drop NAs\n",
    "    df = df.dropna()\n",
    "    # drop duplicates\n",
    "    df = df.drop_duplicates()\n",
    "    \n",
    "    df['text'] = df['text'].apply(str)\n",
    "    \n",
    "    print(\"# of Unique ID's: \", len(df.id.unique()))\n",
    "    print(\"Final dataframe length: \", len(df))\n",
    "    return df"
   ]
  },
  {
   "cell_type": "code",
   "execution_count": 78,
   "metadata": {},
   "outputs": [
    {
     "name": "stdout",
     "output_type": "stream",
     "text": [
      "Initial dataframe length:  6923\n",
      "# of Unique ID's:  2009\n",
      "Final dataframe length:  2010\n"
     ]
    }
   ],
   "source": [
    "df = pre_process(tweets)"
   ]
  },
  {
   "cell_type": "code",
   "execution_count": 79,
   "metadata": {},
   "outputs": [],
   "source": [
    "path = 'twitter_data/ian_scraped_tweets/'+filename\n",
    "df.to_csv(path)\n",
    "#with open(path, 'a') as f:\n",
    "#             (df).to_csv(f, header=False)\n",
    "\n"
   ]
  },
  {
   "cell_type": "code",
   "execution_count": 96,
   "metadata": {},
   "outputs": [],
   "source": [
    "# drop values outside of queried range\n",
    "#df = df[df['date'] >= start_date]\n",
    "#df = df[df['date'] <= end_date]"
   ]
  },
  {
   "cell_type": "code",
   "execution_count": 97,
   "metadata": {},
   "outputs": [
    {
     "data": {
      "text/plain": [
       "1145"
      ]
     },
     "execution_count": 97,
     "metadata": {},
     "output_type": "execute_result"
    }
   ],
   "source": [
    "len(df.id)"
   ]
  },
  {
   "cell_type": "markdown",
   "metadata": {},
   "source": [
    "### Check that tweets look normal, ready for export"
   ]
  },
  {
   "cell_type": "code",
   "execution_count": 13,
   "metadata": {
    "scrolled": false
   },
   "outputs": [
    {
     "data": {
      "text/html": [
       "<div>\n",
       "<style>\n",
       "    .dataframe thead tr:only-child th {\n",
       "        text-align: right;\n",
       "    }\n",
       "\n",
       "    .dataframe thead th {\n",
       "        text-align: left;\n",
       "    }\n",
       "\n",
       "    .dataframe tbody tr th {\n",
       "        vertical-align: top;\n",
       "    }\n",
       "</style>\n",
       "<table border=\"1\" class=\"dataframe\">\n",
       "  <thead>\n",
       "    <tr style=\"text-align: right;\">\n",
       "      <th></th>\n",
       "      <th>date</th>\n",
       "      <th>fullname</th>\n",
       "      <th>id</th>\n",
       "      <th>likes</th>\n",
       "      <th>replies</th>\n",
       "      <th>retweets</th>\n",
       "      <th>text</th>\n",
       "      <th>url</th>\n",
       "      <th>user</th>\n",
       "      <th>month</th>\n",
       "    </tr>\n",
       "  </thead>\n",
       "  <tbody>\n",
       "    <tr>\n",
       "      <th>349</th>\n",
       "      <td>2017-01-05 21:55:37</td>\n",
       "      <td>Caroline O.</td>\n",
       "      <td>817127438727708677</td>\n",
       "      <td>924</td>\n",
       "      <td>29</td>\n",
       "      <td>821</td>\n",
       "      <td>1) GOP will claim that they're defunding Plann...</td>\n",
       "      <td>/RVAwonk/status/817127438727708677</td>\n",
       "      <td>RVAwonk</td>\n",
       "      <td>2017-01-01</td>\n",
       "    </tr>\n",
       "    <tr>\n",
       "      <th>354</th>\n",
       "      <td>2017-02-11 21:14:19</td>\n",
       "      <td>David Me</td>\n",
       "      <td>830525394386374659</td>\n",
       "      <td>13</td>\n",
       "      <td>0</td>\n",
       "      <td>10</td>\n",
       "      <td>Abortion is to health care as Auschwitz is to ...</td>\n",
       "      <td>/RebootingDavid/status/830525394386374659</td>\n",
       "      <td>RebootingDavid</td>\n",
       "      <td>2017-02-01</td>\n",
       "    </tr>\n",
       "    <tr>\n",
       "      <th>350</th>\n",
       "      <td>2017-02-11 21:20:34</td>\n",
       "      <td>Boca Vista</td>\n",
       "      <td>830526967027998720</td>\n",
       "      <td>97</td>\n",
       "      <td>12</td>\n",
       "      <td>89</td>\n",
       "      <td>#1 KILLER of Black people\\n\\nAbortion\\n\\n#1 su...</td>\n",
       "      <td>/bocavista2016/status/830526967027998720</td>\n",
       "      <td>bocavista2016</td>\n",
       "      <td>2017-02-01</td>\n",
       "    </tr>\n",
       "  </tbody>\n",
       "</table>\n",
       "</div>"
      ],
      "text/plain": [
       "                   date     fullname                  id likes replies  \\\n",
       "349 2017-01-05 21:55:37  Caroline O.  817127438727708677   924      29   \n",
       "354 2017-02-11 21:14:19     David Me  830525394386374659    13       0   \n",
       "350 2017-02-11 21:20:34   Boca Vista  830526967027998720    97      12   \n",
       "\n",
       "    retweets                                               text  \\\n",
       "349      821  1) GOP will claim that they're defunding Plann...   \n",
       "354       10  Abortion is to health care as Auschwitz is to ...   \n",
       "350       89  #1 KILLER of Black people\\n\\nAbortion\\n\\n#1 su...   \n",
       "\n",
       "                                           url            user       month  \n",
       "349         /RVAwonk/status/817127438727708677         RVAwonk  2017-01-01  \n",
       "354  /RebootingDavid/status/830525394386374659  RebootingDavid  2017-02-01  \n",
       "350   /bocavista2016/status/830526967027998720   bocavista2016  2017-02-01  "
      ]
     },
     "execution_count": 13,
     "metadata": {},
     "output_type": "execute_result"
    }
   ],
   "source": [
    "df.sort_values('date').head(3)"
   ]
  },
  {
   "cell_type": "code",
   "execution_count": 1,
   "metadata": {},
   "outputs": [
    {
     "ename": "NameError",
     "evalue": "name 'df' is not defined",
     "output_type": "error",
     "traceback": [
      "\u001b[0;31m---------------------------------------------------------------------------\u001b[0m",
      "\u001b[0;31mNameError\u001b[0m                                 Traceback (most recent call last)",
      "\u001b[0;32m<ipython-input-1-3b5a44ce0fe1>\u001b[0m in \u001b[0;36m<module>\u001b[0;34m()\u001b[0m\n\u001b[0;32m----> 1\u001b[0;31m \u001b[0mdf\u001b[0m\u001b[0;34m.\u001b[0m\u001b[0mgroupby\u001b[0m\u001b[0;34m(\u001b[0m\u001b[0;34m'date'\u001b[0m\u001b[0;34m)\u001b[0m\u001b[0;34m[\u001b[0m\u001b[0;34m'text'\u001b[0m\u001b[0;34m]\u001b[0m\u001b[0;34m.\u001b[0m\u001b[0mcount\u001b[0m\u001b[0;34m(\u001b[0m\u001b[0;34m)\u001b[0m\u001b[0;34m.\u001b[0m\u001b[0mcumsum\u001b[0m\u001b[0;34m(\u001b[0m\u001b[0;34m)\u001b[0m\u001b[0;34m.\u001b[0m\u001b[0mplot\u001b[0m\u001b[0;34m(\u001b[0m\u001b[0;34m)\u001b[0m\u001b[0;34m\u001b[0m\u001b[0m\n\u001b[0m",
      "\u001b[0;31mNameError\u001b[0m: name 'df' is not defined"
     ]
    }
   ],
   "source": [
    "df.groupby('date')['text'].count().cumsum().plot()"
   ]
  },
  {
   "cell_type": "code",
   "execution_count": 15,
   "metadata": {},
   "outputs": [],
   "source": [
    "#df.to_csv('twitter_data/ian_scraped_tweets/'+filename)\n"
   ]
  },
  {
   "cell_type": "code",
   "execution_count": 16,
   "metadata": {},
   "outputs": [],
   "source": []
  },
  {
   "cell_type": "code",
   "execution_count": null,
   "metadata": {},
   "outputs": [],
   "source": []
  }
 ],
 "metadata": {
  "kernelspec": {
   "display_name": "Python 3",
   "language": "python",
   "name": "python3"
  },
  "language_info": {
   "codemirror_mode": {
    "name": "ipython",
    "version": 3
   },
   "file_extension": ".py",
   "mimetype": "text/x-python",
   "name": "python",
   "nbconvert_exporter": "python",
   "pygments_lexer": "ipython3",
   "version": "3.6.2"
  }
 },
 "nbformat": 4,
 "nbformat_minor": 2
}
