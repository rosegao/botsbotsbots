{
 "cells": [
  {
   "cell_type": "markdown",
   "metadata": {},
   "source": [
    "## Get Tweets"
   ]
  },
  {
   "cell_type": "code",
   "execution_count": 1,
   "metadata": {},
   "outputs": [
    {
     "name": "stderr",
     "output_type": "stream",
     "text": [
      "Error occurred during loading data. Trying to use cache server https://fake-useragent.herokuapp.com/browsers/0.1.8\n",
      "Traceback (most recent call last):\n",
      "  File \"/anaconda3/lib/python3.6/site-packages/fake_useragent/utils.py\", line 166, in load\n",
      "    verify_ssl=verify_ssl,\n",
      "  File \"/anaconda3/lib/python3.6/site-packages/fake_useragent/utils.py\", line 144, in get_browser_versions\n",
      "    'No browsers version found for {browser}'.format(browser=browser))\n",
      "fake_useragent.errors.FakeUserAgentError: No browsers version found for Edge/IE\n"
     ]
    }
   ],
   "source": [
    "from twitterscraper import query_tweets\n",
    "from datetime import timedelta, date\n",
    "import pandas as pd\n",
    "import csv\n",
    "%matplotlib inline"
   ]
  },
  {
   "cell_type": "code",
   "execution_count": 2,
   "metadata": {},
   "outputs": [],
   "source": [
    "def twitter_query(query, start_date, end_date,limit_per_day=60):\n",
    "    \n",
    "    query = query_tweets(query=query, \n",
    "                     limit=limit_per_day, \n",
    "                     begindate=start_date, \n",
    "                     enddate=end_date, \n",
    "                     poolsize=20, \n",
    "                     lang='en')\n",
    "    \n",
    "    return query"
   ]
  },
  {
   "cell_type": "code",
   "execution_count": 3,
   "metadata": {},
   "outputs": [],
   "source": [
    "def create_list(query):    \n",
    "    tweets = []\n",
    "    for tweet in query:\n",
    "        tweets.append({'date': tweet.timestamp, 'text': tweet.text, \n",
    "                   'fullname': tweet.fullname, 'id': tweet.id, \n",
    "                   'likes': tweet.likes, 'replies': tweet.replies,\n",
    "                   'retweets': tweet.retweets, 'url': tweet.url,\n",
    "                   'user': tweet.user})\n",
    "    \n",
    "    return tweets"
   ]
  },
  {
   "cell_type": "code",
   "execution_count": 4,
   "metadata": {},
   "outputs": [],
   "source": [
    "def add_to_list(query):\n",
    "    for tweet in query:\n",
    "        tweets.append({'date': tweet.timestamp, 'text': tweet.text, \n",
    "                   'fullname': tweet.fullname, 'id': tweet.id, \n",
    "                   'likes': tweet.likes, 'replies': tweet.replies,\n",
    "                   'retweets': tweet.retweets, 'url': tweet.url,\n",
    "                   'user': tweet.user})\n",
    "    \n",
    "    return tweets"
   ]
  },
  {
   "cell_type": "markdown",
   "metadata": {},
   "source": [
    "### Query"
   ]
  },
  {
   "cell_type": "code",
   "execution_count": 19,
   "metadata": {},
   "outputs": [],
   "source": [
    "query = '2a'\n",
    "start_date = date(2018, 1, 1)\n",
    "end_date = date(2018, 3, 6)\n",
    "filename = 'scrape_2a_0117_0318'\n",
    "\n",
    "query = twitter_query(query, start_date, end_date)"
   ]
  },
  {
   "cell_type": "code",
   "execution_count": 20,
   "metadata": {},
   "outputs": [],
   "source": [
    "#tweets = create_list(query)"
   ]
  },
  {
   "cell_type": "code",
   "execution_count": 21,
   "metadata": {},
   "outputs": [],
   "source": [
    "if len(tweets) > 0:\n",
    "    tweets = add_to_list(query)"
   ]
  },
  {
   "cell_type": "markdown",
   "metadata": {},
   "source": [
    "## Pre-process Tweets"
   ]
  },
  {
   "cell_type": "code",
   "execution_count": 22,
   "metadata": {},
   "outputs": [],
   "source": [
    "def pre_process(tweets):\n",
    "    df = pd.DataFrame(tweets)\n",
    "    print(\"Initial dataframe length: \", len(df))\n",
    "    \n",
    "    # add timestamp column\n",
    "    df['month'] = df['date'].apply(lambda x : date(x.year, x.month, 1))\n",
    "    \n",
    "    # drop NAs\n",
    "    df = df.dropna()\n",
    "    # drop duplicates\n",
    "    df = df.drop_duplicates()\n",
    "    \n",
    "    df['text'] = df['text'].apply(str)\n",
    "    \n",
    "    print(\"# of Unique ID's: \", len(df.id.unique()))\n",
    "    print(\"Final dataframe length: \", len(df.id.unique()))\n",
    "    return df"
   ]
  },
  {
   "cell_type": "code",
   "execution_count": 23,
   "metadata": {},
   "outputs": [
    {
     "name": "stdout",
     "output_type": "stream",
     "text": [
      "Initial dataframe length:  1116\n",
      "# of Unique ID's:  857\n",
      "Final dataframe length:  857\n"
     ]
    }
   ],
   "source": [
    "df = pre_process(tweets)"
   ]
  },
  {
   "cell_type": "code",
   "execution_count": null,
   "metadata": {},
   "outputs": [],
   "source": [
    "\n"
   ]
  },
  {
   "cell_type": "code",
   "execution_count": 24,
   "metadata": {},
   "outputs": [],
   "source": [
    "# drop values outside of queried range\n",
    "#df = df[df['date'] >= start_date]\n",
    "#df = df[df['date'] <= end_date]"
   ]
  },
  {
   "cell_type": "code",
   "execution_count": 24,
   "metadata": {},
   "outputs": [
    {
     "data": {
      "text/plain": [
       "857"
      ]
     },
     "execution_count": 24,
     "metadata": {},
     "output_type": "execute_result"
    }
   ],
   "source": [
    "len(df.id)"
   ]
  },
  {
   "cell_type": "markdown",
   "metadata": {},
   "source": [
    "### Check that tweets look normal, ready for export"
   ]
  },
  {
   "cell_type": "code",
   "execution_count": 25,
   "metadata": {
    "scrolled": false
   },
   "outputs": [
    {
     "data": {
      "text/html": [
       "<div>\n",
       "<style>\n",
       "    .dataframe thead tr:only-child th {\n",
       "        text-align: right;\n",
       "    }\n",
       "\n",
       "    .dataframe thead th {\n",
       "        text-align: left;\n",
       "    }\n",
       "\n",
       "    .dataframe tbody tr th {\n",
       "        vertical-align: top;\n",
       "    }\n",
       "</style>\n",
       "<table border=\"1\" class=\"dataframe\">\n",
       "  <thead>\n",
       "    <tr style=\"text-align: right;\">\n",
       "      <th></th>\n",
       "      <th>date</th>\n",
       "      <th>fullname</th>\n",
       "      <th>id</th>\n",
       "      <th>likes</th>\n",
       "      <th>replies</th>\n",
       "      <th>retweets</th>\n",
       "      <th>text</th>\n",
       "      <th>url</th>\n",
       "      <th>user</th>\n",
       "      <th>month</th>\n",
       "    </tr>\n",
       "  </thead>\n",
       "  <tbody>\n",
       "    <tr>\n",
       "      <th>25</th>\n",
       "      <td>2018-01-04 23:45:07</td>\n",
       "      <td>Patrick Henry</td>\n",
       "      <td>949064176873476097</td>\n",
       "      <td>0</td>\n",
       "      <td>0</td>\n",
       "      <td>0</td>\n",
       "      <td>Differences Between Glock 20 and Glock 17  #2...</td>\n",
       "      <td>/PatrickHenryC/status/949064176873476097</td>\n",
       "      <td>PatrickHenryC</td>\n",
       "      <td>2018-01-01</td>\n",
       "    </tr>\n",
       "    <tr>\n",
       "      <th>24</th>\n",
       "      <td>2018-01-04 23:46:30</td>\n",
       "      <td>Inceptor Ammunition</td>\n",
       "      <td>949064524824481792</td>\n",
       "      <td>3</td>\n",
       "      <td>0</td>\n",
       "      <td>0</td>\n",
       "      <td>This is what freedom looks like.  #inceptoramm...</td>\n",
       "      <td>/INCEPTORAMMO/status/949064524824481792</td>\n",
       "      <td>INCEPTORAMMO</td>\n",
       "      <td>2018-01-01</td>\n",
       "    </tr>\n",
       "    <tr>\n",
       "      <th>23</th>\n",
       "      <td>2018-01-04 23:47:29</td>\n",
       "      <td>Frank Flag</td>\n",
       "      <td>949064773982814209</td>\n",
       "      <td>0</td>\n",
       "      <td>0</td>\n",
       "      <td>0</td>\n",
       "      <td>We See That We, The People &amp; The Country Are W...</td>\n",
       "      <td>/rightlyaligned/status/949064773982814209</td>\n",
       "      <td>rightlyaligned</td>\n",
       "      <td>2018-01-01</td>\n",
       "    </tr>\n",
       "  </tbody>\n",
       "</table>\n",
       "</div>"
      ],
      "text/plain": [
       "                  date             fullname                  id likes replies  \\\n",
       "25 2018-01-04 23:45:07        Patrick Henry  949064176873476097     0       0   \n",
       "24 2018-01-04 23:46:30  Inceptor Ammunition  949064524824481792     3       0   \n",
       "23 2018-01-04 23:47:29           Frank Flag  949064773982814209     0       0   \n",
       "\n",
       "   retweets                                               text  \\\n",
       "25        0  Differences Between Glock 20 and Glock 17  #2...   \n",
       "24        0  This is what freedom looks like.  #inceptoramm...   \n",
       "23        0  We See That We, The People & The Country Are W...   \n",
       "\n",
       "                                          url            user       month  \n",
       "25   /PatrickHenryC/status/949064176873476097   PatrickHenryC  2018-01-01  \n",
       "24    /INCEPTORAMMO/status/949064524824481792    INCEPTORAMMO  2018-01-01  \n",
       "23  /rightlyaligned/status/949064773982814209  rightlyaligned  2018-01-01  "
      ]
     },
     "execution_count": 25,
     "metadata": {},
     "output_type": "execute_result"
    }
   ],
   "source": [
    "df.sort_values('date').head(3)"
   ]
  },
  {
   "cell_type": "code",
   "execution_count": 26,
   "metadata": {},
   "outputs": [
    {
     "data": {
      "text/plain": [
       "<matplotlib.axes._subplots.AxesSubplot at 0x118ac40b8>"
      ]
     },
     "execution_count": 26,
     "metadata": {},
     "output_type": "execute_result"
    },
    {
     "data": {
      "image/png": "[encoded data removed]",
      "text/plain": [
       "<matplotlib.figure.Figure at 0x11896c278>"
      ]
     },
     "metadata": {},
     "output_type": "display_data"
    }
   ],
   "source": [
    "df.groupby('date')['text'].count().cumsum().plot()"
   ]
  },
  {
   "cell_type": "code",
   "execution_count": 27,
   "metadata": {},
   "outputs": [],
   "source": [
    "df.to_csv('twitter_data/ian_scraped_tweets/'+filename)"
   ]
  },
  {
   "cell_type": "code",
   "execution_count": null,
   "metadata": {},
   "outputs": [],
   "source": []
  }
 ],
 "metadata": {
  "kernelspec": {
   "display_name": "Python 3",
   "language": "python",
   "name": "python3"
  },
  "language_info": {
   "codemirror_mode": {
    "name": "ipython",
    "version": 3
   },
   "file_extension": ".py",
   "mimetype": "text/x-python",
   "name": "python",
   "nbconvert_exporter": "python",
   "pygments_lexer": "ipython3",
   "version": "3.6.2"
  }
 },
 "nbformat": 4,
 "nbformat_minor": 2
}
