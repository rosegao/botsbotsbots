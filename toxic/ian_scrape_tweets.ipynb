{
 "cells": [
  {
   "cell_type": "markdown",
   "metadata": {},
   "source": [
    "## Get Tweets"
   ]
  },
  {
   "cell_type": "code",
   "execution_count": 1,
   "metadata": {},
   "outputs": [],
   "source": [
    "from twitterscraper import query_tweets\n",
    "from datetime import timedelta, date\n",
    "import pandas as pd\n",
    "import csv\n",
    "import gc\n",
    "%matplotlib inline"
   ]
  },
  {
   "cell_type": "code",
   "execution_count": 9,
   "metadata": {},
   "outputs": [],
   "source": [
    "def twitter_query(query, start_date, end_date,limit_per_day=500):\n",
    "    \n",
    "    query = query_tweets(query=query, \n",
    "                     limit=limit_per_day,\n",
    "                     begindate=start_date, \n",
    "                     enddate=end_date, \n",
    "                     poolsize=20, \n",
    "                     lang='en')\n",
    "    \n",
    "    return query"
   ]
  },
  {
   "cell_type": "code",
   "execution_count": 12,
   "metadata": {},
   "outputs": [],
   "source": [
    "def create_list(query):    \n",
    "    tweets = []\n",
    "    for tweet in query:\n",
    "        tweets.append({'date': tweet.timestamp, 'text': tweet.text, \n",
    "                   'fullname': tweet.fullname, 'id': tweet.id, \n",
    "                   'likes': tweet.likes, 'replies': tweet.replies,\n",
    "                   'retweets': tweet.retweets, 'url': tweet.url,\n",
    "                   'user': tweet.user})\n",
    "    return tweets"
   ]
  },
  {
   "cell_type": "code",
   "execution_count": 13,
   "metadata": {},
   "outputs": [],
   "source": [
    "def add_to_list(query):\n",
    "    for tweet in query:\n",
    "        tweets.append({'date': tweet.timestamp, 'text': tweet.text, \n",
    "                   'fullname': tweet.fullname, 'id': tweet.id, \n",
    "                   'likes': tweet.likes, 'replies': tweet.replies,\n",
    "                   'retweets': tweet.retweets, 'url': tweet.url,\n",
    "                   'user': tweet.user})\n",
    "    return tweets"
   ]
  },
  {
   "cell_type": "markdown",
   "metadata": {},
   "source": [
    "### Query"
   ]
  },
  {
   "cell_type": "code",
   "execution_count": 72,
   "metadata": {},
   "outputs": [],
   "source": [
    "query = 'us senate'\n",
    "start_date = date(2018, 2, 1)\n",
    "end_date = date(2018, 3, 1)\n",
    "filename = 'scrape_feb_0117_0318'\n",
    "\n",
    "query = twitter_query(query, start_date, end_date)"
   ]
  },
  {
   "cell_type": "code",
   "execution_count": 73,
   "metadata": {},
   "outputs": [],
   "source": [
    "#tweets = create_list(query)"
   ]
  },
  {
   "cell_type": "code",
   "execution_count": 74,
   "metadata": {},
   "outputs": [],
   "source": [
    "if len(tweets) > 0:\n",
    "    tweets = add_to_list(query)"
   ]
  },
  {
   "cell_type": "markdown",
   "metadata": {},
   "source": [
    "## Pre-process Tweets"
   ]
  },
  {
   "cell_type": "code",
   "execution_count": 75,
   "metadata": {},
   "outputs": [],
   "source": [
    "def pre_process(tweets):\n",
    "    df = pd.DataFrame(tweets)\n",
    "    print(\"Initial dataframe length: \", len(df))\n",
    "    \n",
    "    # add timestamp column\n",
    "    df['month'] = df['date'].apply(lambda x : date(x.year, x.month, 1))\n",
    "    # drop NAs\n",
    "    df = df.dropna()\n",
    "    # drop duplicates\n",
    "    df = df.drop_duplicates()\n",
    "    \n",
    "    df['text'] = df['text'].apply(str)\n",
    "    \n",
    "    print(\"# of Unique ID's: \", len(df.id.unique()))\n",
    "    print(\"Final dataframe length: \", len(df))\n",
    "    return df"
   ]
  },
  {
   "cell_type": "code",
   "execution_count": 76,
   "metadata": {},
   "outputs": [
    {
     "name": "stdout",
     "output_type": "stream",
     "text": [
      "Initial dataframe length:  6969\n",
      "# of Unique ID's:  4191\n",
      "Final dataframe length:  4192\n"
     ]
    }
   ],
   "source": [
    "df = pre_process(tweets)"
   ]
  },
  {
   "cell_type": "code",
   "execution_count": null,
   "metadata": {},
   "outputs": [],
   "source": [
    "\n",
    "\n"
   ]
  },
  {
   "cell_type": "code",
   "execution_count": 78,
   "metadata": {},
   "outputs": [],
   "source": [
    "# drop values outside of queried range\n",
    "#df = df[df['date'] >= start_date]\n",
    "#df = df[df['date'] <= end_date]"
   ]
  },
  {
   "cell_type": "code",
   "execution_count": 78,
   "metadata": {},
   "outputs": [
    {
     "data": {
      "text/plain": [
       "4192"
      ]
     },
     "execution_count": 78,
     "metadata": {},
     "output_type": "execute_result"
    }
   ],
   "source": [
    "len(df.id)"
   ]
  },
  {
   "cell_type": "markdown",
   "metadata": {},
   "source": [
    "### Check that tweets look normal, ready for export"
   ]
  },
  {
   "cell_type": "code",
   "execution_count": 79,
   "metadata": {
    "scrolled": false
   },
   "outputs": [
    {
     "data": {
      "text/html": [
       "<div>\n",
       "<style>\n",
       "    .dataframe thead tr:only-child th {\n",
       "        text-align: right;\n",
       "    }\n",
       "\n",
       "    .dataframe thead th {\n",
       "        text-align: left;\n",
       "    }\n",
       "\n",
       "    .dataframe tbody tr th {\n",
       "        vertical-align: top;\n",
       "    }\n",
       "</style>\n",
       "<table border=\"1\" class=\"dataframe\">\n",
       "  <thead>\n",
       "    <tr style=\"text-align: right;\">\n",
       "      <th></th>\n",
       "      <th>date</th>\n",
       "      <th>fullname</th>\n",
       "      <th>id</th>\n",
       "      <th>likes</th>\n",
       "      <th>replies</th>\n",
       "      <th>retweets</th>\n",
       "      <th>text</th>\n",
       "      <th>url</th>\n",
       "      <th>user</th>\n",
       "      <th>month</th>\n",
       "    </tr>\n",
       "  </thead>\n",
       "  <tbody>\n",
       "    <tr>\n",
       "      <th>6731</th>\n",
       "      <td>2018-02-02 21:45:23</td>\n",
       "      <td>Toni</td>\n",
       "      <td>959543295184547840</td>\n",
       "      <td>0</td>\n",
       "      <td>0</td>\n",
       "      <td>0</td>\n",
       "      <td>You don't make any sense Ken. How could Dr Hir...</td>\n",
       "      <td>/Amadaun23/status/959543295184547840</td>\n",
       "      <td>Amadaun23</td>\n",
       "      <td>2018-02-01</td>\n",
       "    </tr>\n",
       "    <tr>\n",
       "      <th>6730</th>\n",
       "      <td>2018-02-02 21:46:10</td>\n",
       "      <td>Cryptomoney Live</td>\n",
       "      <td>959543493235478528</td>\n",
       "      <td>1</td>\n",
       "      <td>1</td>\n",
       "      <td>0</td>\n",
       "      <td>The Noose Tightens? US Senate Meeting with Mar...</td>\n",
       "      <td>/cryptomoney_liv/status/959543493235478528</td>\n",
       "      <td>cryptomoney_liv</td>\n",
       "      <td>2018-02-01</td>\n",
       "    </tr>\n",
       "    <tr>\n",
       "      <th>6729</th>\n",
       "      <td>2018-02-02 21:51:46</td>\n",
       "      <td>sheila</td>\n",
       "      <td>959544899841519622</td>\n",
       "      <td>1</td>\n",
       "      <td>0</td>\n",
       "      <td>1</td>\n",
       "      <td>U R part of this corruption used against the A...</td>\n",
       "      <td>/sheila06942158/status/959544899841519622</td>\n",
       "      <td>sheila06942158</td>\n",
       "      <td>2018-02-01</td>\n",
       "    </tr>\n",
       "  </tbody>\n",
       "</table>\n",
       "</div>"
      ],
      "text/plain": [
       "                    date          fullname                  id likes replies  \\\n",
       "6731 2018-02-02 21:45:23              Toni  959543295184547840     0       0   \n",
       "6730 2018-02-02 21:46:10  Cryptomoney Live  959543493235478528     1       1   \n",
       "6729 2018-02-02 21:51:46            sheila  959544899841519622     1       0   \n",
       "\n",
       "     retweets                                               text  \\\n",
       "6731        0  You don't make any sense Ken. How could Dr Hir...   \n",
       "6730        0  The Noose Tightens? US Senate Meeting with Mar...   \n",
       "6729        1  U R part of this corruption used against the A...   \n",
       "\n",
       "                                             url             user       month  \n",
       "6731        /Amadaun23/status/959543295184547840        Amadaun23  2018-02-01  \n",
       "6730  /cryptomoney_liv/status/959543493235478528  cryptomoney_liv  2018-02-01  \n",
       "6729   /sheila06942158/status/959544899841519622   sheila06942158  2018-02-01  "
      ]
     },
     "execution_count": 79,
     "metadata": {},
     "output_type": "execute_result"
    }
   ],
   "source": [
    "df.sort_values('date').head(3)"
   ]
  },
  {
   "cell_type": "code",
   "execution_count": 80,
   "metadata": {},
   "outputs": [
    {
     "data": {
      "text/plain": [
       "<matplotlib.axes._subplots.AxesSubplot at 0x121fc0ac8>"
      ]
     },
     "execution_count": 80,
     "metadata": {},
     "output_type": "execute_result"
    },
    {
     "data": {
      "image/png": "[encoded data removed]",
      "text/plain": [
       "<matplotlib.figure.Figure at 0x1217d2b38>"
      ]
     },
     "metadata": {},
     "output_type": "display_data"
    }
   ],
   "source": [
    "df.groupby('date')['text'].count().cumsum().plot()"
   ]
  },
  {
   "cell_type": "code",
   "execution_count": 81,
   "metadata": {},
   "outputs": [],
   "source": [
    "df.to_csv('twitter_data/ian_scraped_tweets/'+filename)"
   ]
  },
  {
   "cell_type": "code",
   "execution_count": null,
   "metadata": {},
   "outputs": [],
   "source": []
  }
 ],
 "metadata": {
  "kernelspec": {
   "display_name": "Python 3",
   "language": "python",
   "name": "python3"
  },
  "language_info": {
   "codemirror_mode": {
    "name": "ipython",
    "version": 3
   },
   "file_extension": ".py",
   "mimetype": "text/x-python",
   "name": "python",
   "nbconvert_exporter": "python",
   "pygments_lexer": "ipython3",
   "version": "3.6.2"
  }
 },
 "nbformat": 4,
 "nbformat_minor": 2
}
