{
 "cells": [
  {
   "cell_type": "code",
   "execution_count": 2,
   "metadata": {
    "collapsed": true
   },
   "outputs": [],
   "source": [
    "from twitterscraper import query_tweets\n",
    "from datetime import timedelta, date\n",
    "import pandas as pd\n",
    "import csv\n",
    "%matplotlib inline"
   ]
  },
  {
   "cell_type": "code",
   "execution_count": null,
   "metadata": {
    "collapsed": true
   },
   "outputs": [],
   "source": [
    "# query\n",
    "query = 'Hillary'\n",
    "limit_per_day = 10\n",
    "start_date = date(2016, 6, 1)\n",
    "end_date = date(2018, 1, 1)"
   ]
  },
  {
   "cell_type": "code",
   "execution_count": null,
   "metadata": {
    "collapsed": true
   },
   "outputs": [],
   "source": [
    "queries = twitter_query_over_time(query, limit_per_day, start_date, end_date)\n",
    "tweets = extract_tweets(queries)\n",
    "df = format_tweets_as_df(tweets, start_date, end_date)\n",
    "\n",
    "# check that tweets look normal, ready for export\n",
    "df.groupby('date')['text'].count().cumsum().plot()"
   ]
  },
  {
   "cell_type": "code",
   "execution_count": null,
   "metadata": {
    "collapsed": true
   },
   "outputs": [],
   "source": [
    "# export\n",
    "df.to_csv('twitter_data/scraped_tweets')"
   ]
  },
  {
   "cell_type": "code",
   "execution_count": 3,
   "metadata": {
    "collapsed": true
   },
   "outputs": [],
   "source": [
    "def twitter_query_over_time(query, limit_per_day, start_date, end_date):\n",
    "    # create dates between start_date and end_date\n",
    "    dates = [start_date + timedelta(days = x) for x in range((end_date - start_date).days + 1)]\n",
    "    \n",
    "    queries = []    \n",
    "    # enumerate through all pairs of dates until the second last day/last day pair\n",
    "    for i, date in enumerate(dates[:-1]):\n",
    "        query = query_tweets(query = query, limit = limit_per_day, \n",
    "                             begindate = dates[i], enddate = dates[i+1], \n",
    "                             poolsize=20, lang='en')\n",
    "        queries.extend(query)\n",
    "    return queries"
   ]
  },
  {
   "cell_type": "code",
   "execution_count": null,
   "metadata": {
    "collapsed": true
   },
   "outputs": [],
   "source": [
    "def extract_tweets(queries):\n",
    "    queries = twitter_query_over_time(query, limit_per_day, start_date, end_date)\n",
    "    tweets = []\n",
    "    for tweet in queries:\n",
    "        tweets.append({'date': tweet.timestamp, 'text': tweet.text, \n",
    "                       'fullname': tweet.fullname, 'id': tweet.id, \n",
    "                       'likes': tweet.likes, 'replies': tweet.replies,\n",
    "                       'retweets': tweet.retweets, 'url': tweet.url,\n",
    "                       'user': tweet.user})\n",
    "    return tweets"
   ]
  },
  {
   "cell_type": "code",
   "execution_count": null,
   "metadata": {
    "collapsed": true
   },
   "outputs": [],
   "source": [
    "def format_tweets_as_df(tweets, start_date, end_date):\n",
    "    df = pd.DataFrame(tweets)\n",
    "    \n",
    "    # add timestamp column\n",
    "    df['month'] = df['date'].apply(lambda x : date(x.year, x.month, 1))\n",
    "    \n",
    "    # drop NAs\n",
    "    df = df.dropna()\n",
    "\n",
    "    # drop duplicates\n",
    "    df = df.drop_duplicates()\n",
    "    \n",
    "    # drop values outside of queried range\n",
    "    df = df[df['date'] >= start_date]\n",
    "    df = df[df['date'] <= end_date]\n",
    "    \n",
    "    return df"
   ]
  }
 ],
 "metadata": {
  "kernelspec": {
   "display_name": "Python 3",
   "language": "python",
   "name": "python3"
  },
  "language_info": {
   "codemirror_mode": {
    "name": "ipython",
    "version": 3
   },
   "file_extension": ".py",
   "mimetype": "text/x-python",
   "name": "python",
   "nbconvert_exporter": "python",
   "pygments_lexer": "ipython3",
   "version": "3.6.2"
  }
 },
 "nbformat": 4,
 "nbformat_minor": 2
}
