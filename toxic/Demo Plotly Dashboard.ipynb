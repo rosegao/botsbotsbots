{
 "cells": [
  {
   "cell_type": "markdown",
   "metadata": {},
   "source": [
    "# Plotly"
   ]
  },
  {
   "cell_type": "code",
   "execution_count": 10,
   "metadata": {
    "collapsed": true
   },
   "outputs": [],
   "source": [
    "import pandas as pd\n",
    "import numpy as np\n",
    "import matplotlib.pyplot as plt\n",
    "import seaborn as sns\n",
    "%matplotlib inline\n",
    "\n",
    "import plotly\n",
    "import plotly.graph_objs as go\n",
    "import plotly.plotly as py\n",
    "import plotly.dashboard_objs as dashboard\n",
    "import IPython.display\n",
    "from IPython.display import Image"
   ]
  },
  {
   "cell_type": "code",
   "execution_count": 11,
   "metadata": {
    "collapsed": true
   },
   "outputs": [],
   "source": [
    "filename = 'classified_tweets/Andrea/Hillary2016'"
   ]
  },
  {
   "cell_type": "code",
   "execution_count": 12,
   "metadata": {
    "collapsed": true
   },
   "outputs": [],
   "source": [
    "plotly.tools.set_credentials_file(username='rose.gao6', api_key='9ivalbyhazaM1JEEaHaZ')"
   ]
  },
  {
   "cell_type": "code",
   "execution_count": 16,
   "metadata": {},
   "outputs": [
    {
     "data": {
      "text/plain": [
       "'https://plot.ly/~rose.gao6/34/tweet-toxicity-dashboard/'"
      ]
     },
     "execution_count": 16,
     "metadata": {},
     "output_type": "execute_result"
    }
   ],
   "source": [
    "def main():\n",
    "    df = df_processing(filename)\n",
    "    urls = create_traces(df)\n",
    "    fileIds = get_fileIds(urls)\n",
    "    boxes = create_boxes(fileIds)\n",
    "    demo_dashboard = create_dashboard(boxes)\n",
    "    py.dashboard_ops.upload(demo_dashboard, 'Tweet Toxicity Dashboard')"
   ]
  },
  {
   "cell_type": "code",
   "execution_count": 9,
   "metadata": {
    "collapsed": true
   },
   "outputs": [],
   "source": [
    "def df_processing(filename):\n",
    "    df = pd.read_csv(filename, encoding = \"ISO-8859-1\")\n",
    "    df = df.drop('Unnamed: 0', 1)\n",
    "    df = df.dropna()\n",
    "    return df"
   ]
  },
  {
   "cell_type": "code",
   "execution_count": 3,
   "metadata": {
    "collapsed": true
   },
   "outputs": [],
   "source": [
    "def create_traces(df):\n",
    "    trace1 = go.Scatter(x=df['date'], y=df['toxic'], marker={'color': 'blue', 'symbol': 104, 'size': \"5\"}, \n",
    "                        mode=\"markers+lines\", name='1st Trace')\n",
    "    data=go.Data([trace1])\n",
    "    url_1 = py.plot(data, filename='first_plot', sharing='public', auto_open=False)\n",
    "    \n",
    "    trace2 = go.Scatter(x=df['date'], y=df['severe_toxic'], marker={'color': 'purple', 'symbol': 104, 'size': \"5\"}, \n",
    "                    mode=\"markers+lines\", name='2nd Trace')\n",
    "    data=go.Data([trace2])\n",
    "    url_2 = py.plot(data, filename='second_plot', sharing='public', auto_open=False)\n",
    "    \n",
    "    trace3 = go.Scatter(x=df['date'], y=df['obscene'], marker={'color': 'orange', 'symbol': 104, 'size': \"5\"}, \n",
    "                    mode=\"markers+lines\", name='3rd Trace')\n",
    "    data=go.Data([trace3])\n",
    "    url_3 = py.plot(data, filename='third_plot', sharing='public', auto_open=False)\n",
    "    \n",
    "    trace4 = go.Scatter(x=df['date'], y=df['threat'], marker={'color': 'green', 'symbol': 104, 'size': \"5\"}, \n",
    "                    mode=\"markers+lines\", name='4th Trace')\n",
    "    data=go.Data([trace4])\n",
    "    url_4 = py.plot(data, filename='fourth_plot', sharing='public', auto_open=False)\n",
    "    \n",
    "    trace5 = go.Scatter(x=df['date'], y=df['insult'], marker={'color': 'red', 'symbol': 104, 'size': \"5\"}, \n",
    "                    mode=\"markers+lines\", name='5th Trace')                                        \n",
    "    data=go.Data([trace5])\n",
    "    url_5 = py.plot(data, filename='fifth_plot', sharing='public', auto_open=False)\n",
    "    \n",
    "    trace6 = go.Scatter(x=df['date'], y=df['identity_hate'], marker={'color': 'blue', 'symbol': 104, 'size': \"5\"}, \n",
    "                    mode=\"markers+lines\", name='6th Trace')                                 \n",
    "    data=go.Data([trace6])\n",
    "    url_6 = py.plot(data, filename='sixth_plot', sharing='public', auto_open=False)\n",
    "    \n",
    "    urls = [url_1, url_2, url_3, url_4, url_5, url_6]\n",
    "    return urls"
   ]
  },
  {
   "cell_type": "code",
   "execution_count": 4,
   "metadata": {
    "collapsed": true
   },
   "outputs": [],
   "source": [
    "def parse_fileId(url):\n",
    "    '''\n",
    "    Derive fileID of plot from plot's url\n",
    "    '''\n",
    "    split = url.split(\"/\")\n",
    "    username = split[-2][1:]\n",
    "    number = split[-1]\n",
    "    return username + \":\" + number"
   ]
  },
  {
   "cell_type": "code",
   "execution_count": 5,
   "metadata": {
    "collapsed": true
   },
   "outputs": [],
   "source": [
    "def get_fileIds(urls):\n",
    "    fileIds = []\n",
    "    for i in urls:\n",
    "        fileIds.append(parse_fileId(i))\n",
    "        \n",
    "    return fileIds"
   ]
  },
  {
   "cell_type": "code",
   "execution_count": 6,
   "metadata": {
    "collapsed": true
   },
   "outputs": [],
   "source": [
    "def create_boxes(fileIds):\n",
    "    box_1 = {\n",
    "        'type': 'box',\n",
    "        'boxType': 'plot',\n",
    "        'fileId': fileIds[0],\n",
    "        'title': 'Toxic Plot'\n",
    "    }\n",
    "\n",
    "    box_2 = {\n",
    "        'type': 'box',\n",
    "        'boxType': 'plot',\n",
    "        'fileId': fileIds[1],\n",
    "        'title': 'Severe Toxic Plot'\n",
    "    }\n",
    "\n",
    "    box_3 = {\n",
    "        'type': 'box',\n",
    "        'boxType': 'plot',\n",
    "        'fileId': fileIds[2],\n",
    "        'title': 'Obscene Plot'\n",
    "    }\n",
    "\n",
    "    box_4 = {\n",
    "        'type': 'box',\n",
    "        'boxType': 'plot',\n",
    "        'fileId': fileIds[3],\n",
    "        'title': 'Threat Plot'\n",
    "    }\n",
    "\n",
    "    box_5 = {\n",
    "        'type': 'box',\n",
    "        'boxType': 'plot',\n",
    "        'fileId': fileIds[4],\n",
    "        'title': 'Insult Plot'\n",
    "    }\n",
    "\n",
    "    box_6 = {\n",
    "        'type': 'box',\n",
    "        'boxType': 'plot',\n",
    "        'fileId': fileIds[5],\n",
    "        'title': 'Identity Hate Plot'\n",
    "    }\n",
    "    \n",
    "    boxes = [box_1, box_2, box_3, box_4, box_5, box_6]\n",
    "    return boxes"
   ]
  },
  {
   "cell_type": "code",
   "execution_count": 15,
   "metadata": {
    "collapsed": true
   },
   "outputs": [],
   "source": [
    "def create_dashboard(boxes):\n",
    "    # create dashboard\n",
    "    demo_dashboard = dashboard.Dashboard()\n",
    "    \n",
    "    # name dashboard\n",
    "    demo_dashboard['settings']['title'] = 'Tweet Toxicity Dashboard'\n",
    "\n",
    "    # unpack boxes\n",
    "    box_1, box_2, box_3, box_4, box_5, box_6 = boxes\n",
    "    \n",
    "    # insert boxes\n",
    "    demo_dashboard.insert(box_1)\n",
    "    demo_dashboard.insert(box_2, 'right', 1)\n",
    "    demo_dashboard.insert(box_3, 'below', 1)\n",
    "    demo_dashboard.insert(box_4, 'below', 3)\n",
    "    demo_dashboard.insert(box_5, 'below', 2)\n",
    "    demo_dashboard.insert(box_6, 'below', 5)\n",
    "    \n",
    "    return demo_dashboard"
   ]
  },
  {
   "cell_type": "code",
   "execution_count": null,
   "metadata": {
    "collapsed": true
   },
   "outputs": [],
   "source": []
  }
 ],
 "metadata": {
  "kernelspec": {
   "display_name": "Python 3",
   "language": "python",
   "name": "python3"
  },
  "language_info": {
   "codemirror_mode": {
    "name": "ipython",
    "version": 3
   },
   "file_extension": ".py",
   "mimetype": "text/x-python",
   "name": "python",
   "nbconvert_exporter": "python",
   "pygments_lexer": "ipython3",
   "version": "3.6.2"
  }
 },
 "nbformat": 4,
 "nbformat_minor": 2
}
