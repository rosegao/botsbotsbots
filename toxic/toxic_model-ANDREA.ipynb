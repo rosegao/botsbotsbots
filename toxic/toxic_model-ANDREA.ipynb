{
 "cells": [
  {
   "cell_type": "markdown",
   "metadata": {},
   "source": [
    "# Predict Tweet Toxicity"
   ]
  },
  {
   "cell_type": "code",
   "execution_count": 18,
   "metadata": {},
   "outputs": [
    {
     "name": "stdout",
     "output_type": "stream",
     "text": [
      "Using matplotlib backend: MacOSX\n"
     ]
    }
   ],
   "source": [
    "import pandas as pd\n",
    "import pickle\n",
    "from sklearn.feature_extraction.text import TfidfVectorizer\n",
    "from sklearn.linear_model import LogisticRegression\n",
    "from scipy.sparse import hstack\n",
    "%matplotlib"
   ]
  },
  {
   "cell_type": "code",
   "execution_count": 2,
   "metadata": {
    "collapsed": true
   },
   "outputs": [],
   "source": [
    "filename = \"twitter_data/andrea_scraped/Hillary2016\""
   ]
  },
  {
   "cell_type": "code",
   "execution_count": 3,
   "metadata": {},
   "outputs": [],
   "source": [
    "df = pd.read_csv(filename, encoding = \"ISO-8859-1\",\n",
    "                 names = ['date', 'fullname', 'id', 'likes', 'replies', \n",
    "                            'retweets', 'text', 'url', 'user', 'month'])\n",
    "\n",
    "df = df.drop_duplicates()\n",
    "df = df.dropna()\n",
    "target_columns = ['toxic', 'severe_toxic', 'obscene', 'threat', 'insult', 'identity_hate']\n"
   ]
  },
  {
   "cell_type": "markdown",
   "metadata": {},
   "source": [
    "### Vectorize tweets and predict toxicity with model"
   ]
  },
  {
   "cell_type": "code",
   "execution_count": 4,
   "metadata": {
    "collapsed": true
   },
   "outputs": [],
   "source": [
    "# Load vectorizers\n",
    "word_vectorizer = pickle.load(open(\"models/word_vectorizer.pickle\", \"rb\" ))\n",
    "char_vectorizer = pickle.load(open(\"models/char_vectorizer.pickle\", \"rb\" ))"
   ]
  },
  {
   "cell_type": "code",
   "execution_count": 5,
   "metadata": {},
   "outputs": [],
   "source": [
    "# Vectorize tweets\n",
    "tweet_word_features = word_vectorizer.transform(df['text'])\n",
    "tweet_char_features = char_vectorizer.transform(df['text'])\n",
    "tweet_features = hstack([tweet_word_features, tweet_char_features])"
   ]
  },
  {
   "cell_type": "code",
   "execution_count": 6,
   "metadata": {},
   "outputs": [],
   "source": [
    "# Load models\n",
    "loaded_models = {}\n",
    "for col in target_columns:\n",
    "    loaded_models[col] = pickle.load(open('models/model_{}.sav'.format(col), \"rb\" ))"
   ]
  },
  {
   "cell_type": "code",
   "execution_count": 7,
   "metadata": {
    "collapsed": true
   },
   "outputs": [],
   "source": [
    "# Run models\n",
    "for col in target_columns:\n",
    "    df[col] = loaded_models[col].predict_proba(tweet_features)[:, 1]"
   ]
  },
  {
   "cell_type": "code",
   "execution_count": 8,
   "metadata": {},
   "outputs": [
    {
     "data": {
      "text/html": [
       "<div>\n",
       "<style>\n",
       "    .dataframe thead tr:only-child th {\n",
       "        text-align: right;\n",
       "    }\n",
       "\n",
       "    .dataframe thead th {\n",
       "        text-align: left;\n",
       "    }\n",
       "\n",
       "    .dataframe tbody tr th {\n",
       "        vertical-align: top;\n",
       "    }\n",
       "</style>\n",
       "<table border=\"1\" class=\"dataframe\">\n",
       "  <thead>\n",
       "    <tr style=\"text-align: right;\">\n",
       "      <th></th>\n",
       "      <th>date</th>\n",
       "      <th>fullname</th>\n",
       "      <th>id</th>\n",
       "      <th>likes</th>\n",
       "      <th>replies</th>\n",
       "      <th>retweets</th>\n",
       "      <th>text</th>\n",
       "      <th>url</th>\n",
       "      <th>user</th>\n",
       "      <th>month</th>\n",
       "      <th>toxic</th>\n",
       "      <th>severe_toxic</th>\n",
       "      <th>obscene</th>\n",
       "      <th>threat</th>\n",
       "      <th>insult</th>\n",
       "      <th>identity_hate</th>\n",
       "    </tr>\n",
       "  </thead>\n",
       "  <tbody>\n",
       "    <tr>\n",
       "      <th>0</th>\n",
       "      <td>2016-01-11 21:14:18</td>\n",
       "      <td>Hillary 4 President</td>\n",
       "      <td>686657407896961025</td>\n",
       "      <td>1.0</td>\n",
       "      <td>0.0</td>\n",
       "      <td>4.0</td>\n",
       "      <td>So true\\n\\n--\\nDonate $5 to the Hillary campai...</td>\n",
       "      <td>/HillaryNews/status/686657407896961025</td>\n",
       "      <td>HillaryNews</td>\n",
       "      <td>2016-01-01</td>\n",
       "      <td>0.000988</td>\n",
       "      <td>0.002470</td>\n",
       "      <td>0.001376</td>\n",
       "      <td>0.000043</td>\n",
       "      <td>0.000911</td>\n",
       "      <td>0.000020</td>\n",
       "    </tr>\n",
       "    <tr>\n",
       "      <th>1</th>\n",
       "      <td>2016-01-11 23:05:38</td>\n",
       "      <td>sarah hayse</td>\n",
       "      <td>686685426845925376</td>\n",
       "      <td>5.0</td>\n",
       "      <td>1.0</td>\n",
       "      <td>3.0</td>\n",
       "      <td>If you vote for Hillary Clinton just because s...</td>\n",
       "      <td>/sarchx23/status/686685426845925376</td>\n",
       "      <td>sarchx23</td>\n",
       "      <td>2016-01-01</td>\n",
       "      <td>0.008489</td>\n",
       "      <td>0.000680</td>\n",
       "      <td>0.001027</td>\n",
       "      <td>0.000022</td>\n",
       "      <td>0.000087</td>\n",
       "      <td>0.000188</td>\n",
       "    </tr>\n",
       "    <tr>\n",
       "      <th>2</th>\n",
       "      <td>2016-01-11 22:14:15</td>\n",
       "      <td>Sam</td>\n",
       "      <td>686672494590169088</td>\n",
       "      <td>147.0</td>\n",
       "      <td>8.0</td>\n",
       "      <td>161.0</td>\n",
       "      <td>#Veterans Band Together &amp; Make Massive Move to...</td>\n",
       "      <td>/ArizonaSheepdog/status/686672494590169088</td>\n",
       "      <td>ArizonaSheepdog</td>\n",
       "      <td>2016-01-01</td>\n",
       "      <td>0.000206</td>\n",
       "      <td>0.001398</td>\n",
       "      <td>0.000139</td>\n",
       "      <td>0.000032</td>\n",
       "      <td>0.000034</td>\n",
       "      <td>0.000056</td>\n",
       "    </tr>\n",
       "    <tr>\n",
       "      <th>3</th>\n",
       "      <td>2016-01-07 23:30:54</td>\n",
       "      <td>Hillary for Iowa</td>\n",
       "      <td>685242233361059841</td>\n",
       "      <td>2269.0</td>\n",
       "      <td>402.0</td>\n",
       "      <td>1880.0</td>\n",
       "      <td>Retweet if you agree with @billclinton: Hillar...</td>\n",
       "      <td>/HillaryforIA/status/685242233361059841</td>\n",
       "      <td>HillaryforIA</td>\n",
       "      <td>2016-01-01</td>\n",
       "      <td>0.000272</td>\n",
       "      <td>0.002800</td>\n",
       "      <td>0.000413</td>\n",
       "      <td>0.000043</td>\n",
       "      <td>0.000076</td>\n",
       "      <td>0.000052</td>\n",
       "    </tr>\n",
       "    <tr>\n",
       "      <th>4</th>\n",
       "      <td>2016-01-10 22:37:18</td>\n",
       "      <td>Robyn</td>\n",
       "      <td>686315907891605504</td>\n",
       "      <td>1506.0</td>\n",
       "      <td>5.0</td>\n",
       "      <td>952.0</td>\n",
       "      <td>\"Hillary Clinton &amp; Donald Trump drop out of pr...</td>\n",
       "      <td>/lilmsragerr/status/686315907891605504</td>\n",
       "      <td>lilmsragerr</td>\n",
       "      <td>2016-01-01</td>\n",
       "      <td>0.000424</td>\n",
       "      <td>0.001486</td>\n",
       "      <td>0.000310</td>\n",
       "      <td>0.000015</td>\n",
       "      <td>0.000271</td>\n",
       "      <td>0.000072</td>\n",
       "    </tr>\n",
       "  </tbody>\n",
       "</table>\n",
       "</div>"
      ],
      "text/plain": [
       "                  date             fullname                  id   likes  \\\n",
       "0  2016-01-11 21:14:18  Hillary 4 President  686657407896961025     1.0   \n",
       "1  2016-01-11 23:05:38          sarah hayse  686685426845925376     5.0   \n",
       "2  2016-01-11 22:14:15                  Sam  686672494590169088   147.0   \n",
       "3  2016-01-07 23:30:54     Hillary for Iowa  685242233361059841  2269.0   \n",
       "4  2016-01-10 22:37:18                Robyn  686315907891605504  1506.0   \n",
       "\n",
       "   replies  retweets                                               text  \\\n",
       "0      0.0       4.0  So true\\n\\n--\\nDonate $5 to the Hillary campai...   \n",
       "1      1.0       3.0  If you vote for Hillary Clinton just because s...   \n",
       "2      8.0     161.0  #Veterans Band Together & Make Massive Move to...   \n",
       "3    402.0    1880.0  Retweet if you agree with @billclinton: Hillar...   \n",
       "4      5.0     952.0  \"Hillary Clinton & Donald Trump drop out of pr...   \n",
       "\n",
       "                                          url             user       month  \\\n",
       "0      /HillaryNews/status/686657407896961025      HillaryNews  2016-01-01   \n",
       "1         /sarchx23/status/686685426845925376         sarchx23  2016-01-01   \n",
       "2  /ArizonaSheepdog/status/686672494590169088  ArizonaSheepdog  2016-01-01   \n",
       "3     /HillaryforIA/status/685242233361059841     HillaryforIA  2016-01-01   \n",
       "4      /lilmsragerr/status/686315907891605504      lilmsragerr  2016-01-01   \n",
       "\n",
       "      toxic  severe_toxic   obscene    threat    insult  identity_hate  \n",
       "0  0.000988      0.002470  0.001376  0.000043  0.000911       0.000020  \n",
       "1  0.008489      0.000680  0.001027  0.000022  0.000087       0.000188  \n",
       "2  0.000206      0.001398  0.000139  0.000032  0.000034       0.000056  \n",
       "3  0.000272      0.002800  0.000413  0.000043  0.000076       0.000052  \n",
       "4  0.000424      0.001486  0.000310  0.000015  0.000271       0.000072  "
      ]
     },
     "execution_count": 8,
     "metadata": {},
     "output_type": "execute_result"
    }
   ],
   "source": [
    "df.head()"
   ]
  },
  {
   "cell_type": "code",
   "execution_count": 9,
   "metadata": {
    "collapsed": true
   },
   "outputs": [],
   "source": [
    "df['classification'] = df[target_columns].idxmax(axis=1)"
   ]
  },
  {
   "cell_type": "code",
   "execution_count": 10,
   "metadata": {},
   "outputs": [
    {
     "data": {
      "text/html": [
       "<div>\n",
       "<style>\n",
       "    .dataframe thead tr:only-child th {\n",
       "        text-align: right;\n",
       "    }\n",
       "\n",
       "    .dataframe thead th {\n",
       "        text-align: left;\n",
       "    }\n",
       "\n",
       "    .dataframe tbody tr th {\n",
       "        vertical-align: top;\n",
       "    }\n",
       "</style>\n",
       "<table border=\"1\" class=\"dataframe\">\n",
       "  <thead>\n",
       "    <tr style=\"text-align: right;\">\n",
       "      <th></th>\n",
       "      <th>date</th>\n",
       "      <th>fullname</th>\n",
       "      <th>id</th>\n",
       "      <th>likes</th>\n",
       "      <th>replies</th>\n",
       "      <th>retweets</th>\n",
       "      <th>text</th>\n",
       "      <th>url</th>\n",
       "      <th>user</th>\n",
       "      <th>month</th>\n",
       "      <th>toxic</th>\n",
       "      <th>severe_toxic</th>\n",
       "      <th>obscene</th>\n",
       "      <th>threat</th>\n",
       "      <th>insult</th>\n",
       "      <th>identity_hate</th>\n",
       "      <th>classification</th>\n",
       "    </tr>\n",
       "  </thead>\n",
       "  <tbody>\n",
       "    <tr>\n",
       "      <th>0</th>\n",
       "      <td>2016-01-11 21:14:18</td>\n",
       "      <td>Hillary 4 President</td>\n",
       "      <td>686657407896961025</td>\n",
       "      <td>1.0</td>\n",
       "      <td>0.0</td>\n",
       "      <td>4.0</td>\n",
       "      <td>So true\\n\\n--\\nDonate $5 to the Hillary campai...</td>\n",
       "      <td>/HillaryNews/status/686657407896961025</td>\n",
       "      <td>HillaryNews</td>\n",
       "      <td>2016-01-01</td>\n",
       "      <td>0.000988</td>\n",
       "      <td>0.002470</td>\n",
       "      <td>0.001376</td>\n",
       "      <td>0.000043</td>\n",
       "      <td>0.000911</td>\n",
       "      <td>0.000020</td>\n",
       "      <td>severe_toxic</td>\n",
       "    </tr>\n",
       "    <tr>\n",
       "      <th>1</th>\n",
       "      <td>2016-01-11 23:05:38</td>\n",
       "      <td>sarah hayse</td>\n",
       "      <td>686685426845925376</td>\n",
       "      <td>5.0</td>\n",
       "      <td>1.0</td>\n",
       "      <td>3.0</td>\n",
       "      <td>If you vote for Hillary Clinton just because s...</td>\n",
       "      <td>/sarchx23/status/686685426845925376</td>\n",
       "      <td>sarchx23</td>\n",
       "      <td>2016-01-01</td>\n",
       "      <td>0.008489</td>\n",
       "      <td>0.000680</td>\n",
       "      <td>0.001027</td>\n",
       "      <td>0.000022</td>\n",
       "      <td>0.000087</td>\n",
       "      <td>0.000188</td>\n",
       "      <td>toxic</td>\n",
       "    </tr>\n",
       "    <tr>\n",
       "      <th>2</th>\n",
       "      <td>2016-01-11 22:14:15</td>\n",
       "      <td>Sam</td>\n",
       "      <td>686672494590169088</td>\n",
       "      <td>147.0</td>\n",
       "      <td>8.0</td>\n",
       "      <td>161.0</td>\n",
       "      <td>#Veterans Band Together &amp; Make Massive Move to...</td>\n",
       "      <td>/ArizonaSheepdog/status/686672494590169088</td>\n",
       "      <td>ArizonaSheepdog</td>\n",
       "      <td>2016-01-01</td>\n",
       "      <td>0.000206</td>\n",
       "      <td>0.001398</td>\n",
       "      <td>0.000139</td>\n",
       "      <td>0.000032</td>\n",
       "      <td>0.000034</td>\n",
       "      <td>0.000056</td>\n",
       "      <td>severe_toxic</td>\n",
       "    </tr>\n",
       "    <tr>\n",
       "      <th>3</th>\n",
       "      <td>2016-01-07 23:30:54</td>\n",
       "      <td>Hillary for Iowa</td>\n",
       "      <td>685242233361059841</td>\n",
       "      <td>2269.0</td>\n",
       "      <td>402.0</td>\n",
       "      <td>1880.0</td>\n",
       "      <td>Retweet if you agree with @billclinton: Hillar...</td>\n",
       "      <td>/HillaryforIA/status/685242233361059841</td>\n",
       "      <td>HillaryforIA</td>\n",
       "      <td>2016-01-01</td>\n",
       "      <td>0.000272</td>\n",
       "      <td>0.002800</td>\n",
       "      <td>0.000413</td>\n",
       "      <td>0.000043</td>\n",
       "      <td>0.000076</td>\n",
       "      <td>0.000052</td>\n",
       "      <td>severe_toxic</td>\n",
       "    </tr>\n",
       "    <tr>\n",
       "      <th>4</th>\n",
       "      <td>2016-01-10 22:37:18</td>\n",
       "      <td>Robyn</td>\n",
       "      <td>686315907891605504</td>\n",
       "      <td>1506.0</td>\n",
       "      <td>5.0</td>\n",
       "      <td>952.0</td>\n",
       "      <td>\"Hillary Clinton &amp; Donald Trump drop out of pr...</td>\n",
       "      <td>/lilmsragerr/status/686315907891605504</td>\n",
       "      <td>lilmsragerr</td>\n",
       "      <td>2016-01-01</td>\n",
       "      <td>0.000424</td>\n",
       "      <td>0.001486</td>\n",
       "      <td>0.000310</td>\n",
       "      <td>0.000015</td>\n",
       "      <td>0.000271</td>\n",
       "      <td>0.000072</td>\n",
       "      <td>severe_toxic</td>\n",
       "    </tr>\n",
       "  </tbody>\n",
       "</table>\n",
       "</div>"
      ],
      "text/plain": [
       "                  date             fullname                  id   likes  \\\n",
       "0  2016-01-11 21:14:18  Hillary 4 President  686657407896961025     1.0   \n",
       "1  2016-01-11 23:05:38          sarah hayse  686685426845925376     5.0   \n",
       "2  2016-01-11 22:14:15                  Sam  686672494590169088   147.0   \n",
       "3  2016-01-07 23:30:54     Hillary for Iowa  685242233361059841  2269.0   \n",
       "4  2016-01-10 22:37:18                Robyn  686315907891605504  1506.0   \n",
       "\n",
       "   replies  retweets                                               text  \\\n",
       "0      0.0       4.0  So true\\n\\n--\\nDonate $5 to the Hillary campai...   \n",
       "1      1.0       3.0  If you vote for Hillary Clinton just because s...   \n",
       "2      8.0     161.0  #Veterans Band Together & Make Massive Move to...   \n",
       "3    402.0    1880.0  Retweet if you agree with @billclinton: Hillar...   \n",
       "4      5.0     952.0  \"Hillary Clinton & Donald Trump drop out of pr...   \n",
       "\n",
       "                                          url             user       month  \\\n",
       "0      /HillaryNews/status/686657407896961025      HillaryNews  2016-01-01   \n",
       "1         /sarchx23/status/686685426845925376         sarchx23  2016-01-01   \n",
       "2  /ArizonaSheepdog/status/686672494590169088  ArizonaSheepdog  2016-01-01   \n",
       "3     /HillaryforIA/status/685242233361059841     HillaryforIA  2016-01-01   \n",
       "4      /lilmsragerr/status/686315907891605504      lilmsragerr  2016-01-01   \n",
       "\n",
       "      toxic  severe_toxic   obscene    threat    insult  identity_hate  \\\n",
       "0  0.000988      0.002470  0.001376  0.000043  0.000911       0.000020   \n",
       "1  0.008489      0.000680  0.001027  0.000022  0.000087       0.000188   \n",
       "2  0.000206      0.001398  0.000139  0.000032  0.000034       0.000056   \n",
       "3  0.000272      0.002800  0.000413  0.000043  0.000076       0.000052   \n",
       "4  0.000424      0.001486  0.000310  0.000015  0.000271       0.000072   \n",
       "\n",
       "  classification  \n",
       "0   severe_toxic  \n",
       "1          toxic  \n",
       "2   severe_toxic  \n",
       "3   severe_toxic  \n",
       "4   severe_toxic  "
      ]
     },
     "execution_count": 10,
     "metadata": {},
     "output_type": "execute_result"
    }
   ],
   "source": [
    "df.head()"
   ]
  },
  {
   "cell_type": "code",
   "execution_count": 11,
   "metadata": {},
   "outputs": [],
   "source": [
    "# export df\n",
    "export_filename = \"classified/Andrea/Hillary2016\"\n",
    "df.to_csv(export_filename)"
   ]
  },
  {
   "cell_type": "markdown",
   "metadata": {},
   "source": [
    "### Visualizations"
   ]
  },
  {
   "cell_type": "code",
   "execution_count": 20,
   "metadata": {},
   "outputs": [
    {
     "data": {
      "text/plain": [
       "<matplotlib.axes._subplots.AxesSubplot at 0x1a14d50470>"
      ]
     },
     "execution_count": 20,
     "metadata": {},
     "output_type": "execute_result"
    }
   ],
   "source": [
    "# visualize obscenity\n",
    "df.groupby('month')['obscene'].mean().plot()"
   ]
  },
  {
   "cell_type": "code",
   "execution_count": 13,
   "metadata": {},
   "outputs": [
    {
     "data": {
      "text/plain": [
       "<matplotlib.axes._subplots.AxesSubplot at 0x1a13e0bd30>"
      ]
     },
     "execution_count": 13,
     "metadata": {},
     "output_type": "execute_result"
    }
   ],
   "source": [
    "df['likes'] = df['likes'].astype(float)\n",
    "\n",
    "# normalizing identity hate by tweet popularity\n",
    "df['popular_obscene'] = df['obscene']*df['likes']\n",
    "df.groupby('date')['popular_obscene'].mean().plot()"
   ]
  },
  {
   "cell_type": "code",
   "execution_count": 14,
   "metadata": {},
   "outputs": [
    {
     "data": {
      "text/plain": [
       "<matplotlib.axes._subplots.AxesSubplot at 0x1a13e0bd30>"
      ]
     },
     "execution_count": 14,
     "metadata": {},
     "output_type": "execute_result"
    }
   ],
   "source": [
    "# normalizing identity hate by number of popular tweets\n",
    "(df.groupby('date')['popular_obscene'].sum() / df.groupby('date')['likes'].sum()).plot()"
   ]
  },
  {
   "cell_type": "code",
   "execution_count": 15,
   "metadata": {},
   "outputs": [
    {
     "data": {
      "text/plain": [
       "<matplotlib.axes._subplots.AxesSubplot at 0x1a13e0bd30>"
      ]
     },
     "execution_count": 15,
     "metadata": {},
     "output_type": "execute_result"
    }
   ],
   "source": [
    "# normalizing popular tweets by number of popular tweets\n",
    "(df.groupby('date')['popular_obscene'].sum() / df.groupby('date')['likes'].count()).plot()"
   ]
  },
  {
   "cell_type": "code",
   "execution_count": null,
   "metadata": {
    "collapsed": true
   },
   "outputs": [],
   "source": []
  }
 ],
 "metadata": {
  "kernelspec": {
   "display_name": "Python 3",
   "language": "python",
   "name": "python3"
  },
  "language_info": {
   "codemirror_mode": {
    "name": "ipython",
    "version": 3
   },
   "file_extension": ".py",
   "mimetype": "text/x-python",
   "name": "python",
   "nbconvert_exporter": "python",
   "pygments_lexer": "ipython3",
   "version": "3.6.2"
  }
 },
 "nbformat": 4,
 "nbformat_minor": 2
}
