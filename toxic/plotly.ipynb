{
 "cells": [
  {
   "cell_type": "code",
   "execution_count": 9,
   "metadata": {
    "collapsed": true
   },
   "outputs": [],
   "source": [
    "import pandas as pd\n",
    "import numpy as np\n",
    "import matplotlib.pyplot as plt\n",
    "import seaborn as sns\n",
    "%matplotlib inline"
   ]
  },
  {
   "cell_type": "code",
   "execution_count": 10,
   "metadata": {
    "collapsed": true
   },
   "outputs": [],
   "source": [
    "df = pd.read_csv(\"classified_tweets\", encoding = \"ISO-8859-1\")"
   ]
  },
  {
   "cell_type": "code",
   "execution_count": 11,
   "metadata": {
    "collapsed": true
   },
   "outputs": [],
   "source": [
    "df = df.drop('Unnamed: 0', 1)"
   ]
  },
  {
   "cell_type": "code",
   "execution_count": 12,
   "metadata": {},
   "outputs": [
    {
     "data": {
      "text/html": [
       "<div>\n",
       "<style>\n",
       "    .dataframe thead tr:only-child th {\n",
       "        text-align: right;\n",
       "    }\n",
       "\n",
       "    .dataframe thead th {\n",
       "        text-align: left;\n",
       "    }\n",
       "\n",
       "    .dataframe tbody tr th {\n",
       "        vertical-align: top;\n",
       "    }\n",
       "</style>\n",
       "<table border=\"1\" class=\"dataframe\">\n",
       "  <thead>\n",
       "    <tr style=\"text-align: right;\">\n",
       "      <th></th>\n",
       "      <th>date</th>\n",
       "      <th>fullname</th>\n",
       "      <th>id</th>\n",
       "      <th>likes</th>\n",
       "      <th>replies</th>\n",
       "      <th>retweets</th>\n",
       "      <th>text</th>\n",
       "      <th>url</th>\n",
       "      <th>user</th>\n",
       "      <th>month</th>\n",
       "      <th>toxic</th>\n",
       "      <th>severe_toxic</th>\n",
       "      <th>obscene</th>\n",
       "      <th>threat</th>\n",
       "      <th>insult</th>\n",
       "      <th>identity_hate</th>\n",
       "    </tr>\n",
       "  </thead>\n",
       "  <tbody>\n",
       "    <tr>\n",
       "      <th>0</th>\n",
       "      <td>2016-01-01 23:59:59</td>\n",
       "      <td>John Sherlock</td>\n",
       "      <td>683075226960187392</td>\n",
       "      <td>1</td>\n",
       "      <td>0</td>\n",
       "      <td>0</td>\n",
       "      <td>\"America is great. Trump is disgusting.\" #Rose...</td>\n",
       "      <td>/JohnCSherlock/status/683075226960187392</td>\n",
       "      <td>JohnCSherlock</td>\n",
       "      <td>2016-01-01</td>\n",
       "      <td>0.009020</td>\n",
       "      <td>0.025724</td>\n",
       "      <td>0.648488</td>\n",
       "      <td>0.000106</td>\n",
       "      <td>0.471055</td>\n",
       "      <td>0.006577</td>\n",
       "    </tr>\n",
       "    <tr>\n",
       "      <th>1</th>\n",
       "      <td>2016-01-01 23:59:58</td>\n",
       "      <td>B. Justice</td>\n",
       "      <td>683075224036847616</td>\n",
       "      <td>0</td>\n",
       "      <td>0</td>\n",
       "      <td>0</td>\n",
       "      <td>@realDonaldTrump @marie7777777777 Are Trump's ...</td>\n",
       "      <td>/zefirotorna/status/683075224036847616</td>\n",
       "      <td>zefirotorna</td>\n",
       "      <td>2016-01-01</td>\n",
       "      <td>0.077417</td>\n",
       "      <td>0.092537</td>\n",
       "      <td>0.025625</td>\n",
       "      <td>0.000043</td>\n",
       "      <td>0.009766</td>\n",
       "      <td>0.015535</td>\n",
       "    </tr>\n",
       "    <tr>\n",
       "      <th>2</th>\n",
       "      <td>2016-01-01 23:47:22</td>\n",
       "      <td>ABC News</td>\n",
       "      <td>683072049661620225</td>\n",
       "      <td>344</td>\n",
       "      <td>166</td>\n",
       "      <td>704</td>\n",
       "      <td>Terror group Al-Shabaab releases recruitment v...</td>\n",
       "      <td>/ABC/status/683072049661620225</td>\n",
       "      <td>ABC</td>\n",
       "      <td>2016-01-01</td>\n",
       "      <td>0.903216</td>\n",
       "      <td>0.002278</td>\n",
       "      <td>0.577434</td>\n",
       "      <td>0.000426</td>\n",
       "      <td>0.065666</td>\n",
       "      <td>0.001665</td>\n",
       "    </tr>\n",
       "    <tr>\n",
       "      <th>3</th>\n",
       "      <td>2016-01-01 18:04:12</td>\n",
       "      <td>Philip Lewis</td>\n",
       "      <td>682985689441525766</td>\n",
       "      <td>224</td>\n",
       "      <td>2</td>\n",
       "      <td>355</td>\n",
       "      <td>\"Your President, Donald Trump.\" https://twitte...</td>\n",
       "      <td>/Phil_Lewis_/status/682985689441525766</td>\n",
       "      <td>Phil_Lewis_</td>\n",
       "      <td>2016-01-01</td>\n",
       "      <td>0.007798</td>\n",
       "      <td>0.006834</td>\n",
       "      <td>0.040321</td>\n",
       "      <td>0.014832</td>\n",
       "      <td>0.697343</td>\n",
       "      <td>0.325266</td>\n",
       "    </tr>\n",
       "    <tr>\n",
       "      <th>4</th>\n",
       "      <td>2016-01-01 23:59:56</td>\n",
       "      <td>Breitbart News</td>\n",
       "      <td>683075211755962368</td>\n",
       "      <td>71</td>\n",
       "      <td>59</td>\n",
       "      <td>161</td>\n",
       "      <td>Marco Rubio Campaign Donor Behind Anti-Trump S...</td>\n",
       "      <td>/BreitbartNews/status/683075211755962368</td>\n",
       "      <td>BreitbartNews</td>\n",
       "      <td>2016-01-01</td>\n",
       "      <td>0.176804</td>\n",
       "      <td>0.172153</td>\n",
       "      <td>0.010024</td>\n",
       "      <td>0.004011</td>\n",
       "      <td>0.024378</td>\n",
       "      <td>0.070761</td>\n",
       "    </tr>\n",
       "  </tbody>\n",
       "</table>\n",
       "</div>"
      ],
      "text/plain": [
       "                  date        fullname                  id  likes  replies  \\\n",
       "0  2016-01-01 23:59:59   John Sherlock  683075226960187392      1        0   \n",
       "1  2016-01-01 23:59:58      B. Justice  683075224036847616      0        0   \n",
       "2  2016-01-01 23:47:22        ABC News  683072049661620225    344      166   \n",
       "3  2016-01-01 18:04:12    Philip Lewis  682985689441525766    224        2   \n",
       "4  2016-01-01 23:59:56  Breitbart News  683075211755962368     71       59   \n",
       "\n",
       "   retweets                                               text  \\\n",
       "0         0  \"America is great. Trump is disgusting.\" #Rose...   \n",
       "1         0  @realDonaldTrump @marie7777777777 Are Trump's ...   \n",
       "2       704  Terror group Al-Shabaab releases recruitment v...   \n",
       "3       355  \"Your President, Donald Trump.\" https://twitte...   \n",
       "4       161  Marco Rubio Campaign Donor Behind Anti-Trump S...   \n",
       "\n",
       "                                        url           user       month  \\\n",
       "0  /JohnCSherlock/status/683075226960187392  JohnCSherlock  2016-01-01   \n",
       "1    /zefirotorna/status/683075224036847616    zefirotorna  2016-01-01   \n",
       "2            /ABC/status/683072049661620225            ABC  2016-01-01   \n",
       "3    /Phil_Lewis_/status/682985689441525766    Phil_Lewis_  2016-01-01   \n",
       "4  /BreitbartNews/status/683075211755962368  BreitbartNews  2016-01-01   \n",
       "\n",
       "      toxic  severe_toxic   obscene    threat    insult  identity_hate  \n",
       "0  0.009020      0.025724  0.648488  0.000106  0.471055       0.006577  \n",
       "1  0.077417      0.092537  0.025625  0.000043  0.009766       0.015535  \n",
       "2  0.903216      0.002278  0.577434  0.000426  0.065666       0.001665  \n",
       "3  0.007798      0.006834  0.040321  0.014832  0.697343       0.325266  \n",
       "4  0.176804      0.172153  0.010024  0.004011  0.024378       0.070761  "
      ]
     },
     "execution_count": 12,
     "metadata": {},
     "output_type": "execute_result"
    }
   ],
   "source": [
    "df.head()"
   ]
  },
  {
   "cell_type": "code",
   "execution_count": 102,
   "metadata": {
    "collapsed": true
   },
   "outputs": [],
   "source": [
    "target_columns = ['toxic', 'severe_toxic', 'obscene', 'threat', 'insult', 'identity_hate']"
   ]
  },
  {
   "cell_type": "markdown",
   "metadata": {},
   "source": [
    "### Plotly"
   ]
  },
  {
   "cell_type": "code",
   "execution_count": 107,
   "metadata": {},
   "outputs": [
    {
     "data": {
      "text/plain": [
       "['toxic', 'severe_toxic', 'obscene', 'threat', 'insult', 'identity_hate']"
      ]
     },
     "execution_count": 107,
     "metadata": {},
     "output_type": "execute_result"
    }
   ],
   "source": [
    "target_columns"
   ]
  },
  {
   "cell_type": "code",
   "execution_count": 1,
   "metadata": {
    "collapsed": true
   },
   "outputs": [],
   "source": [
    "import plotly\n",
    "import plotly.graph_objs as go\n",
    "import plotly.plotly as py"
   ]
  },
  {
   "cell_type": "code",
   "execution_count": 2,
   "metadata": {
    "collapsed": true
   },
   "outputs": [],
   "source": [
    "plotly.tools.set_credentials_file(username='rose.gao6', api_key='9ivalbyhazaM1JEEaHaZ')"
   ]
  },
  {
   "cell_type": "code",
   "execution_count": 108,
   "metadata": {},
   "outputs": [
    {
     "data": {
      "text/plain": [
       "'https://plot.ly/~rose.gao6/14'"
      ]
     },
     "execution_count": 108,
     "metadata": {},
     "output_type": "execute_result"
    }
   ],
   "source": [
    "trace1 = go.Scatter(x=df['date'], y=df['toxic'], marker={'color': 'blue', 'symbol': 104, 'size': \"5\"}, \n",
    "                    mode=\"markers+lines\", name='1st Trace')\n",
    "                                               \n",
    "data=go.Data([trace1])\n",
    "layout=go.Layout(title=\"Toxic Plot\", xaxis={'title':'Date'}, yaxis={'title':'Toxicity'})\n",
    "figure=go.Figure(data=data,layout=layout)\n",
    "url_1 = py.plot(data, filename='first_plot', sharing='public', auto_open=False)\n",
    "py.iplot(figure, filename='toxic_1')\n",
    "\n",
    "url_1"
   ]
  },
  {
   "cell_type": "code",
   "execution_count": 109,
   "metadata": {
    "scrolled": false
   },
   "outputs": [
    {
     "data": {
      "text/plain": [
       "'https://plot.ly/~rose.gao6/16'"
      ]
     },
     "execution_count": 109,
     "metadata": {},
     "output_type": "execute_result"
    }
   ],
   "source": [
    "trace2 = go.Scatter(x=df['date'], y=df['severe_toxic'], marker={'color': 'purple', 'symbol': 104, 'size': \"5\"}, \n",
    "                    mode=\"markers+lines\", name='2nd Trace')\n",
    "                                               \n",
    "data=go.Data([trace2])\n",
    "layout=go.Layout(title=\"Severe Toxic Plot\", xaxis={'title':'Date'}, yaxis={'title':'Severe Toxicity'})\n",
    "figure=go.Figure(data=data,layout=layout)\n",
    "url_2 = py.plot(data, filename='second_plot', sharing='public', auto_open=False)\n",
    "py.iplot(figure, filename='severe_toxic_1')\n",
    "\n",
    "url_2"
   ]
  },
  {
   "cell_type": "code",
   "execution_count": 110,
   "metadata": {},
   "outputs": [
    {
     "data": {
      "text/plain": [
       "'https://plot.ly/~rose.gao6/20'"
      ]
     },
     "execution_count": 110,
     "metadata": {},
     "output_type": "execute_result"
    }
   ],
   "source": [
    "trace3 = go.Scatter(x=df['date'], y=df['obscene'], marker={'color': 'purple', 'symbol': 104, 'size': \"5\"}, \n",
    "                    mode=\"markers+lines\", name='3rd Trace')\n",
    "                                               \n",
    "data=go.Data([trace3])\n",
    "layout=go.Layout(title=\"Obscene Plot\", xaxis={'title':'Date'}, yaxis={'title':'Obscenity'})\n",
    "figure=go.Figure(data=data,layout=layout)\n",
    "url_3 = py.plot(data, filename='third_plot', sharing='public', auto_open=False)\n",
    "py.iplot(figure, filename='obscene_1')\n",
    "\n",
    "url_3"
   ]
  },
  {
   "cell_type": "code",
   "execution_count": 111,
   "metadata": {},
   "outputs": [
    {
     "data": {
      "text/plain": [
       "'https://plot.ly/~rose.gao6/22'"
      ]
     },
     "execution_count": 111,
     "metadata": {},
     "output_type": "execute_result"
    }
   ],
   "source": [
    "trace4 = go.Scatter(x=df['date'], y=df['threat'], marker={'color': 'purple', 'symbol': 104, 'size': \"5\"}, \n",
    "                    mode=\"markers+lines\", name='4th Trace')\n",
    "                                               \n",
    "data=go.Data([trace4])\n",
    "layout=go.Layout(title=\"Threat Plot\", xaxis={'title':'Date'}, yaxis={'title':'Threat'})\n",
    "figure=go.Figure(data=data,layout=layout)\n",
    "url_4 = py.plot(data, filename='fourth_plot', sharing='public', auto_open=False)\n",
    "py.iplot(figure, filename='threat_1')\n",
    "\n",
    "url_4"
   ]
  },
  {
   "cell_type": "code",
   "execution_count": 112,
   "metadata": {},
   "outputs": [
    {
     "data": {
      "text/plain": [
       "'https://plot.ly/~rose.gao6/26'"
      ]
     },
     "execution_count": 112,
     "metadata": {},
     "output_type": "execute_result"
    }
   ],
   "source": [
    "trace5 = go.Scatter(x=df['date'], y=df['insult'], marker={'color': 'purple', 'symbol': 104, 'size': \"5\"}, \n",
    "                    mode=\"markers+lines\", name='5th Trace')\n",
    "                                               \n",
    "data=go.Data([trace5])\n",
    "layout=go.Layout(title=\"Insult Plot\", xaxis={'title':'Date'}, yaxis={'title':'Insult'})\n",
    "figure=go.Figure(data=data,layout=layout)\n",
    "url_5 = py.plot(data, filename='fifth_plot', sharing='public', auto_open=False)\n",
    "py.iplot(figure, filename='insult_1')\n",
    "\n",
    "url_5"
   ]
  },
  {
   "cell_type": "code",
   "execution_count": 113,
   "metadata": {},
   "outputs": [
    {
     "data": {
      "text/plain": [
       "'https://plot.ly/~rose.gao6/30'"
      ]
     },
     "execution_count": 113,
     "metadata": {},
     "output_type": "execute_result"
    }
   ],
   "source": [
    "trace6 = go.Scatter(x=df['date'], y=df['identity_hate'], marker={'color': 'purple', 'symbol': 104, 'size': \"5\"}, \n",
    "                    mode=\"markers+lines\", name='6th Trace')\n",
    "                                               \n",
    "data=go.Data([trace6])\n",
    "layout=go.Layout(title=\"Identity Hate Plot\", xaxis={'title':'Date'}, yaxis={'title':'Identity Hate'})\n",
    "figure=go.Figure(data=data,layout=layout)\n",
    "url_6 = py.plot(data, filename='sixth_plot', sharing='public', auto_open=False)\n",
    "py.iplot(figure, filename='identity_hate_1')\n",
    "\n",
    "url_6"
   ]
  },
  {
   "cell_type": "code",
   "execution_count": 114,
   "metadata": {
    "collapsed": true
   },
   "outputs": [],
   "source": [
    "def get_fileId(url):\n",
    "    '''\n",
    "    Derive fileID of plot from plot's url\n",
    "    '''\n",
    "    split = url.split(\"/\")\n",
    "    username = split[-2][1:]\n",
    "    number = split[-1]\n",
    "    return username + \":\" + number"
   ]
  },
  {
   "cell_type": "code",
   "execution_count": 115,
   "metadata": {},
   "outputs": [],
   "source": [
    "import plotly.dashboard_objs as dashboard\n",
    "import IPython.display\n",
    "from IPython.display import Image\n",
    "\n",
    "my_dboard = dashboard.Dashboard()"
   ]
  },
  {
   "cell_type": "code",
   "execution_count": 121,
   "metadata": {
    "collapsed": true
   },
   "outputs": [],
   "source": [
    "box_1_fileId = get_fileId(url_1)\n",
    "box_2_fileId = get_fileId(url_2)\n",
    "box_3_fileId = get_fileId(url_3)\n",
    "box_4_fileId = get_fileId(url_4)\n",
    "box_5_fileId = get_fileId(url_5)\n",
    "box_6_fileId = get_fileId(url_6)"
   ]
  },
  {
   "cell_type": "code",
   "execution_count": 122,
   "metadata": {},
   "outputs": [],
   "source": [
    "box_1 = {\n",
    "    'type': 'box',\n",
    "    'boxType': 'plot',\n",
    "    'fileId': box_1_fileId,\n",
    "    'title': 'Toxic Plot'\n",
    "}\n",
    " \n",
    "box_2 = {\n",
    "    'type': 'box',\n",
    "    'boxType': 'plot',\n",
    "    'fileId': box_2_fileId,\n",
    "    'title': 'Severe Toxic Plot'\n",
    "}\n",
    "\n",
    "box_3 = {\n",
    "    'type': 'box',\n",
    "    'boxType': 'plot',\n",
    "    'fileId': box_3_fileId,\n",
    "    'title': 'Obscene Plot'\n",
    "}\n",
    "\n",
    "box_4 = {\n",
    "    'type': 'box',\n",
    "    'boxType': 'plot',\n",
    "    'fileId': box_4_fileId,\n",
    "    'title': 'Threat Plot'\n",
    "}\n",
    "\n",
    "box_5 = {\n",
    "    'type': 'box',\n",
    "    'boxType': 'plot',\n",
    "    'fileId': box_5_fileId,\n",
    "    'title': 'Insult Plot'\n",
    "}\n",
    "\n",
    "box_6 = {\n",
    "    'type': 'box',\n",
    "    'boxType': 'plot',\n",
    "    'fileId': box_6_fileId,\n",
    "    'title': 'Identity Hate Plot'\n",
    "}"
   ]
  },
  {
   "cell_type": "code",
   "execution_count": 123,
   "metadata": {
    "collapsed": true
   },
   "outputs": [],
   "source": [
    "my_dboard.insert(box_1)\n",
    "my_dboard.insert(box_4, 'below', 1)\n",
    "\n",
    "my_dboard.insert(box_2, 'right', 1)\n",
    "my_dboard.insert(box_3, 'right', 2)\n",
    "\n",
    "my_dboard.insert(box_5, 'right', 4)\n",
    "my_dboard.insert(box_6, 'right', 5)"
   ]
  },
  {
   "cell_type": "code",
   "execution_count": 124,
   "metadata": {},
   "outputs": [
    {
     "data": {
      "text/html": [
       "\n",
       "<!DOCTYPE HTML>\n",
       "<html>\n",
       "  <head>\n",
       "    <style>\n",
       "      body {\n",
       "        margin: 0px;\n",
       "        padding: 0px;\n",
       "      }\n",
       "    </style>\n",
       "  </head>\n",
       "  <body>\n",
       "    <canvas id=\"myCanvas\" width=\"400\" height=\"400\"></canvas>\n",
       "    <script>\n",
       "      var canvas = document.getElementById('myCanvas');\n",
       "      var context = canvas.getContext('2d');\n",
       "      <!-- Dashboard -->\n",
       "      context.beginPath();\n",
       "      context.rect(0, 0, 400, 400);\n",
       "      context.lineWidth = 2;\n",
       "      context.strokeStyle = 'black';\n",
       "      context.stroke();\n",
       "     <!-- Draw some lines in -->\n",
       "          context.beginPath();\n",
       "          context.rect(0, 200.0, 400, 1);\n",
       "          context.lineWidth = 1;\n",
       "          context.strokeStyle = 'black';\n",
       "          context.stroke();\n",
       "    <!-- Draw some lines in -->\n",
       "          context.beginPath();\n",
       "          context.rect(200.0, 0, 1, 200.0);\n",
       "          context.lineWidth = 1;\n",
       "          context.strokeStyle = 'black';\n",
       "          context.stroke();\n",
       "    <!-- Draw some lines in -->\n",
       "          context.beginPath();\n",
       "          context.rect(200.0, 200.0, 1, 200.0);\n",
       "          context.lineWidth = 1;\n",
       "          context.strokeStyle = 'black';\n",
       "          context.stroke();\n",
       "    <!-- Insert box numbers -->\n",
       "          context.font = '10pt Times New Roman';\n",
       "          context.textAlign = 'center';\n",
       "          context.fillText(1, 0 + 0.5*200.0, 0 + 0.5*200.0);\n",
       "    <!-- Draw some lines in -->\n",
       "          context.beginPath();\n",
       "          context.rect(300.0, 0, 1, 200.0);\n",
       "          context.lineWidth = 1;\n",
       "          context.strokeStyle = 'black';\n",
       "          context.stroke();\n",
       "    <!-- Insert box numbers -->\n",
       "          context.font = '10pt Times New Roman';\n",
       "          context.textAlign = 'center';\n",
       "          context.fillText(4, 0 + 0.5*200.0, 200.0 + 0.5*200.0);\n",
       "    <!-- Draw some lines in -->\n",
       "          context.beginPath();\n",
       "          context.rect(300.0, 200.0, 1, 200.0);\n",
       "          context.lineWidth = 1;\n",
       "          context.strokeStyle = 'black';\n",
       "          context.stroke();\n",
       "    <!-- Insert box numbers -->\n",
       "          context.font = '10pt Times New Roman';\n",
       "          context.textAlign = 'center';\n",
       "          context.fillText(2, 200.0 + 0.5*100.0, 0 + 0.5*200.0);\n",
       "    <!-- Insert box numbers -->\n",
       "          context.font = '10pt Times New Roman';\n",
       "          context.textAlign = 'center';\n",
       "          context.fillText(3, 300.0 + 0.5*100.0, 0 + 0.5*200.0);\n",
       "    <!-- Insert box numbers -->\n",
       "          context.font = '10pt Times New Roman';\n",
       "          context.textAlign = 'center';\n",
       "          context.fillText(5, 200.0 + 0.5*100.0, 200.0 + 0.5*200.0);\n",
       "    <!-- Insert box numbers -->\n",
       "          context.font = '10pt Times New Roman';\n",
       "          context.textAlign = 'center';\n",
       "          context.fillText(6, 300.0 + 0.5*100.0, 200.0 + 0.5*200.0);\n",
       "     </script>\n",
       "  </body>\n",
       "</html>\n"
      ],
      "text/plain": [
       "<IPython.core.display.HTML object>"
      ]
     },
     "execution_count": 124,
     "metadata": {},
     "output_type": "execute_result"
    }
   ],
   "source": [
    "my_dboard.get_preview()"
   ]
  },
  {
   "cell_type": "code",
   "execution_count": 125,
   "metadata": {},
   "outputs": [
    {
     "data": {
      "text/plain": [
       "'https://plot.ly/~rose.gao6/13/untitled-dashboard/'"
      ]
     },
     "execution_count": 125,
     "metadata": {},
     "output_type": "execute_result"
    }
   ],
   "source": [
    "py.dashboard_ops.upload(my_dboard, 'botsbotsbots Tweet Toxicity Dashboard')"
   ]
  },
  {
   "cell_type": "code",
   "execution_count": null,
   "metadata": {
    "collapsed": true
   },
   "outputs": [],
   "source": []
  }
 ],
 "metadata": {
  "kernelspec": {
   "display_name": "Python 3",
   "language": "python",
   "name": "python3"
  },
  "language_info": {
   "codemirror_mode": {
    "name": "ipython",
    "version": 3
   },
   "file_extension": ".py",
   "mimetype": "text/x-python",
   "name": "python",
   "nbconvert_exporter": "python",
   "pygments_lexer": "ipython3",
   "version": "3.6.2"
  }
 },
 "nbformat": 4,
 "nbformat_minor": 2
}
