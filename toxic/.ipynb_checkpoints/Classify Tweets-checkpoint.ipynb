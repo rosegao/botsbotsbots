{
 "cells": [
  {
   "cell_type": "markdown",
   "metadata": {},
   "source": [
    "# Predict Tweet Toxicity"
   ]
  },
  {
   "cell_type": "code",
   "execution_count": 19,
   "metadata": {},
   "outputs": [],
   "source": [
    "import pandas as pd\n",
    "import pickle\n",
    "from sklearn.feature_extraction.text import TfidfVectorizer\n",
    "from sklearn.linear_model import LogisticRegression\n",
    "from scipy.sparse import hstack\n",
    "%matplotlib inline"
   ]
  },
  {
   "cell_type": "code",
   "execution_count": 2,
   "metadata": {
    "collapsed": true
   },
   "outputs": [],
   "source": [
    "input_filename = \"classified/FINAL_DATA/guncontrol\""
   ]
  },
  {
   "cell_type": "code",
   "execution_count": 3,
   "metadata": {
    "collapsed": true
   },
   "outputs": [],
   "source": [
    "df = pd.read_csv(input_filename, encoding = \"ISO-8859-1\")\n",
    "#                  usecols = ['date', 'fullname', 'id', 'likes', 'replies', \n",
    "#                             'retweets', 'text', 'url', 'user', 'month'])"
   ]
  },
  {
   "cell_type": "code",
   "execution_count": 4,
   "metadata": {
    "collapsed": true
   },
   "outputs": [],
   "source": [
    "# drop NAs\n",
    "df = df.dropna()\n",
    "\n",
    "# drop duplicates\n",
    "df = df.drop_duplicates()"
   ]
  },
  {
   "cell_type": "code",
   "execution_count": 5,
   "metadata": {},
   "outputs": [
    {
     "data": {
      "text/html": [
       "<div>\n",
       "<style>\n",
       "    .dataframe thead tr:only-child th {\n",
       "        text-align: right;\n",
       "    }\n",
       "\n",
       "    .dataframe thead th {\n",
       "        text-align: left;\n",
       "    }\n",
       "\n",
       "    .dataframe tbody tr th {\n",
       "        vertical-align: top;\n",
       "    }\n",
       "</style>\n",
       "<table border=\"1\" class=\"dataframe\">\n",
       "  <thead>\n",
       "    <tr style=\"text-align: right;\">\n",
       "      <th></th>\n",
       "      <th>Unnamed: 0</th>\n",
       "      <th>date</th>\n",
       "      <th>fullname</th>\n",
       "      <th>id</th>\n",
       "      <th>likes</th>\n",
       "      <th>replies</th>\n",
       "      <th>retweets</th>\n",
       "      <th>text</th>\n",
       "      <th>url</th>\n",
       "      <th>user</th>\n",
       "      <th>month</th>\n",
       "      <th>toxic</th>\n",
       "      <th>severe_toxic</th>\n",
       "      <th>obscene</th>\n",
       "      <th>threat</th>\n",
       "      <th>insult</th>\n",
       "      <th>identity_hate</th>\n",
       "      <th>classification</th>\n",
       "      <th>max_value</th>\n",
       "    </tr>\n",
       "  </thead>\n",
       "  <tbody>\n",
       "    <tr>\n",
       "      <th>0</th>\n",
       "      <td>0</td>\n",
       "      <td>2016-07-03 23:59:49</td>\n",
       "      <td>Deplorable RAB 3</td>\n",
       "      <td>749754550500880384</td>\n",
       "      <td>2.0</td>\n",
       "      <td>1.0</td>\n",
       "      <td>2.0</td>\n",
       "      <td>2nd Amendment is all about ability to resist T...</td>\n",
       "      <td>/beautifulsavag2/status/749754550500880384</td>\n",
       "      <td>beautifulsavag2</td>\n",
       "      <td>2016-07-01</td>\n",
       "      <td>0.001436</td>\n",
       "      <td>0.000209</td>\n",
       "      <td>0.000532</td>\n",
       "      <td>0.000019</td>\n",
       "      <td>0.000504</td>\n",
       "      <td>0.000043</td>\n",
       "      <td>toxic</td>\n",
       "      <td>0.001436</td>\n",
       "    </tr>\n",
       "    <tr>\n",
       "      <th>1</th>\n",
       "      <td>1</td>\n",
       "      <td>2016-07-03 23:59:44</td>\n",
       "      <td>jordan</td>\n",
       "      <td>749754530628120576</td>\n",
       "      <td>0.0</td>\n",
       "      <td>0.0</td>\n",
       "      <td>0.0</td>\n",
       "      <td>also, I'm for gun control. don't get that twis...</td>\n",
       "      <td>/stolenxone/status/749754530628120576</td>\n",
       "      <td>stolenxone</td>\n",
       "      <td>2016-07-01</td>\n",
       "      <td>0.000957</td>\n",
       "      <td>0.001355</td>\n",
       "      <td>0.001799</td>\n",
       "      <td>0.000024</td>\n",
       "      <td>0.007046</td>\n",
       "      <td>0.000072</td>\n",
       "      <td>insult</td>\n",
       "      <td>0.007046</td>\n",
       "    </tr>\n",
       "    <tr>\n",
       "      <th>2</th>\n",
       "      <td>2</td>\n",
       "      <td>2016-07-03 23:59:27</td>\n",
       "      <td>Sir Mix-a-Little</td>\n",
       "      <td>749754459933306880</td>\n",
       "      <td>1.0</td>\n",
       "      <td>0.0</td>\n",
       "      <td>0.0</td>\n",
       "      <td>Or perhaps \"more gun control\" means an outrigh...</td>\n",
       "      <td>/IRDropBear/status/749754459933306880</td>\n",
       "      <td>IRDropBear</td>\n",
       "      <td>2016-07-01</td>\n",
       "      <td>0.004751</td>\n",
       "      <td>0.000166</td>\n",
       "      <td>0.001748</td>\n",
       "      <td>0.000028</td>\n",
       "      <td>0.004403</td>\n",
       "      <td>0.000137</td>\n",
       "      <td>toxic</td>\n",
       "      <td>0.004751</td>\n",
       "    </tr>\n",
       "    <tr>\n",
       "      <th>3</th>\n",
       "      <td>3</td>\n",
       "      <td>2016-07-03 23:59:25</td>\n",
       "      <td>Joe FreedomLoverÃÂ Ã°ÂÂÂºÃ°ÂÂÂ¸</td>\n",
       "      <td>749754451292856324</td>\n",
       "      <td>0.0</td>\n",
       "      <td>0.0</td>\n",
       "      <td>0.0</td>\n",
       "      <td>Pennsylvania cities prepare to sidestep the la...</td>\n",
       "      <td>/JoeFreedomLove/status/749754451292856324</td>\n",
       "      <td>JoeFreedomLove</td>\n",
       "      <td>2016-07-01</td>\n",
       "      <td>0.020613</td>\n",
       "      <td>0.000051</td>\n",
       "      <td>0.000128</td>\n",
       "      <td>0.000030</td>\n",
       "      <td>0.000099</td>\n",
       "      <td>0.000064</td>\n",
       "      <td>toxic</td>\n",
       "      <td>0.020613</td>\n",
       "    </tr>\n",
       "    <tr>\n",
       "      <th>4</th>\n",
       "      <td>4</td>\n",
       "      <td>2016-07-03 23:58:23</td>\n",
       "      <td>salma ÃÂ Ã°ÂÂÂÃÂ Ã°ÂÂÂÃÂ Ã°ÂÂÂ</td>\n",
       "      <td>749754190524809216</td>\n",
       "      <td>1.0</td>\n",
       "      <td>0.0</td>\n",
       "      <td>0.0</td>\n",
       "      <td>If a third world country has gun control, I th...</td>\n",
       "      <td>/SDoulaki/status/749754190524809216</td>\n",
       "      <td>SDoulaki</td>\n",
       "      <td>2016-07-01</td>\n",
       "      <td>0.001124</td>\n",
       "      <td>0.001908</td>\n",
       "      <td>0.000254</td>\n",
       "      <td>0.000049</td>\n",
       "      <td>0.000746</td>\n",
       "      <td>0.000007</td>\n",
       "      <td>severe_toxic</td>\n",
       "      <td>0.001908</td>\n",
       "    </tr>\n",
       "  </tbody>\n",
       "</table>\n",
       "</div>"
      ],
      "text/plain": [
       "   Unnamed: 0                 date  \\\n",
       "0           0  2016-07-03 23:59:49   \n",
       "1           1  2016-07-03 23:59:44   \n",
       "2           2  2016-07-03 23:59:27   \n",
       "3           3  2016-07-03 23:59:25   \n",
       "4           4  2016-07-03 23:58:23   \n",
       "\n",
       "                                     fullname                  id  likes  \\\n",
       "0                            Deplorable RAB 3  749754550500880384    2.0   \n",
       "1                                      jordan  749754530628120576    0.0   \n",
       "2                            Sir Mix-a-Little  749754459933306880    1.0   \n",
       "3        Joe FreedomLoverÃÂ Ã°ÂÂÂºÃ°ÂÂÂ¸  749754451292856324    0.0   \n",
       "4  salma ÃÂ Ã°ÂÂÂÃÂ Ã°ÂÂÂÃÂ Ã°ÂÂÂ  749754190524809216    1.0   \n",
       "\n",
       "   replies  retweets                                               text  \\\n",
       "0      1.0       2.0  2nd Amendment is all about ability to resist T...   \n",
       "1      0.0       0.0  also, I'm for gun control. don't get that twis...   \n",
       "2      0.0       0.0  Or perhaps \"more gun control\" means an outrigh...   \n",
       "3      0.0       0.0  Pennsylvania cities prepare to sidestep the la...   \n",
       "4      0.0       0.0  If a third world country has gun control, I th...   \n",
       "\n",
       "                                          url             user       month  \\\n",
       "0  /beautifulsavag2/status/749754550500880384  beautifulsavag2  2016-07-01   \n",
       "1       /stolenxone/status/749754530628120576       stolenxone  2016-07-01   \n",
       "2       /IRDropBear/status/749754459933306880       IRDropBear  2016-07-01   \n",
       "3   /JoeFreedomLove/status/749754451292856324   JoeFreedomLove  2016-07-01   \n",
       "4         /SDoulaki/status/749754190524809216         SDoulaki  2016-07-01   \n",
       "\n",
       "      toxic  severe_toxic   obscene    threat    insult  identity_hate  \\\n",
       "0  0.001436      0.000209  0.000532  0.000019  0.000504       0.000043   \n",
       "1  0.000957      0.001355  0.001799  0.000024  0.007046       0.000072   \n",
       "2  0.004751      0.000166  0.001748  0.000028  0.004403       0.000137   \n",
       "3  0.020613      0.000051  0.000128  0.000030  0.000099       0.000064   \n",
       "4  0.001124      0.001908  0.000254  0.000049  0.000746       0.000007   \n",
       "\n",
       "  classification  max_value  \n",
       "0          toxic   0.001436  \n",
       "1         insult   0.007046  \n",
       "2          toxic   0.004751  \n",
       "3          toxic   0.020613  \n",
       "4   severe_toxic   0.001908  "
      ]
     },
     "execution_count": 5,
     "metadata": {},
     "output_type": "execute_result"
    }
   ],
   "source": [
    "df.head()"
   ]
  },
  {
   "cell_type": "markdown",
   "metadata": {},
   "source": [
    "### Vectorize tweets and predict toxicity with model"
   ]
  },
  {
   "cell_type": "code",
   "execution_count": 6,
   "metadata": {},
   "outputs": [],
   "source": [
    "# Load vectorizers\n",
    "# word_vectorizer = pickle.load(open(\"models/word_vectorizer.pickle\", \"rb\" ))\n",
    "# ngram_vectorizer = pickle.load(open(\"models/ngram_vectorizer.pickle\", \"rb\" ))"
   ]
  },
  {
   "cell_type": "code",
   "execution_count": 7,
   "metadata": {
    "collapsed": true
   },
   "outputs": [],
   "source": [
    "# Vectorize tweets\n",
    "# tweet_word_features = word_vectorizer.transform(df['text'])\n",
    "# tweet_char_features = char_vectorizer.transform(df['text'])\n",
    "# tweet_features = hstack([tweet_word_features, tweet_char_features])"
   ]
  },
  {
   "cell_type": "code",
   "execution_count": 8,
   "metadata": {
    "collapsed": true
   },
   "outputs": [],
   "source": [
    "# target_columns = ['toxic', 'severe_toxic', 'obscene', 'threat', 'insult', 'identity_hate']"
   ]
  },
  {
   "cell_type": "code",
   "execution_count": 9,
   "metadata": {
    "collapsed": true
   },
   "outputs": [],
   "source": [
    "# Load models\n",
    "# loaded_models = {}\n",
    "# for col in target_columns:\n",
    "#     loaded_models[col] = pickle.load(open('models/model_{}.sav'.format(col), \"rb\" ))"
   ]
  },
  {
   "cell_type": "code",
   "execution_count": 10,
   "metadata": {
    "collapsed": true
   },
   "outputs": [],
   "source": [
    "# Run models\n",
    "# for col in target_columns:\n",
    "#     df[col] = loaded_models[col].predict_proba(tweet_features)[:, 1]"
   ]
  },
  {
   "cell_type": "code",
   "execution_count": 11,
   "metadata": {},
   "outputs": [],
   "source": [
    "# df['classification'] = df[target_columns].idxmax(axis=1)\n",
    "# df['max_value'] = df[target_columns].max(axis=1)"
   ]
  },
  {
   "cell_type": "code",
   "execution_count": 12,
   "metadata": {
    "collapsed": true
   },
   "outputs": [],
   "source": [
    "# # export df\n",
    "# export_filename = \"classified_data/classified_something_tweets\"\n",
    "# df.to_csv(export_filename)"
   ]
  },
  {
   "cell_type": "markdown",
   "metadata": {},
   "source": [
    "### Visualizations"
   ]
  },
  {
   "cell_type": "code",
   "execution_count": 20,
   "metadata": {
    "collapsed": true
   },
   "outputs": [],
   "source": [
    "df['day'] = [d[:10] for d in df['date']]"
   ]
  },
  {
   "cell_type": "code",
   "execution_count": 21,
   "metadata": {},
   "outputs": [
    {
     "data": {
      "text/plain": [
       "<matplotlib.axes._subplots.AxesSubplot at 0x112ecf2b0>"
      ]
     },
     "execution_count": 21,
     "metadata": {},
     "output_type": "execute_result"
    },
    {
     "data": {
      "image/png": "[encoded data removed]",
      "text/plain": [
       "<matplotlib.figure.Figure at 0x112ed6908>"
      ]
     },
     "metadata": {},
     "output_type": "display_data"
    }
   ],
   "source": [
    "# visualize obscenity\n",
    "df.groupby('date')['obscene'].mean().plot()"
   ]
  },
  {
   "cell_type": "code",
   "execution_count": 24,
   "metadata": {},
   "outputs": [
    {
     "data": {
      "text/plain": [
       "<matplotlib.axes._subplots.AxesSubplot at 0x113343be0>"
      ]
     },
     "execution_count": 24,
     "metadata": {},
     "output_type": "execute_result"
    },
    {
     "data": {
      "image/png": "[encoded data removed]",
      "text/plain": [
       "<matplotlib.figure.Figure at 0x1133967b8>"
      ]
     },
     "metadata": {},
     "output_type": "display_data"
    }
   ],
   "source": [
    "df['likes'] = df['likes'].astype(float)\n",
    "\n",
    "# normalizing identity hate by tweet popularity\n",
    "df['popular_toxic'] = df['toxic']*df['likes']\n",
    "df.groupby('month')['popular_toxic'].mean().plot()"
   ]
  },
  {
   "cell_type": "code",
   "execution_count": null,
   "metadata": {
    "collapsed": true
   },
   "outputs": [],
   "source": []
  },
  {
   "cell_type": "code",
   "execution_count": 16,
   "metadata": {},
   "outputs": [
    {
     "data": {
      "text/plain": [
       "<matplotlib.axes._subplots.AxesSubplot at 0x10fe15630>"
      ]
     },
     "execution_count": 16,
     "metadata": {},
     "output_type": "execute_result"
    }
   ],
   "source": [
    "# normalizing identity hate by number of popular tweets\n",
    "(df.groupby('day')['popular_obscene'].sum() / df.groupby('date')['likes'].sum()).plot()"
   ]
  },
  {
   "cell_type": "code",
   "execution_count": 17,
   "metadata": {},
   "outputs": [
    {
     "data": {
      "text/plain": [
       "<matplotlib.axes._subplots.AxesSubplot at 0x10fe15630>"
      ]
     },
     "execution_count": 17,
     "metadata": {},
     "output_type": "execute_result"
    }
   ],
   "source": [
    "(df.groupby('day')['popular_obscene'].sum() / df.groupby('day')['likes'].count()).plot()"
   ]
  },
  {
   "cell_type": "code",
   "execution_count": null,
   "metadata": {},
   "outputs": [],
   "source": []
  },
  {
   "cell_type": "code",
   "execution_count": null,
   "metadata": {
    "collapsed": true
   },
   "outputs": [],
   "source": []
  }
 ],
 "metadata": {
  "kernelspec": {
   "display_name": "Python 3",
   "language": "python",
   "name": "python3"
  },
  "language_info": {
   "codemirror_mode": {
    "name": "ipython",
    "version": 3
   },
   "file_extension": ".py",
   "mimetype": "text/x-python",
   "name": "python",
   "nbconvert_exporter": "python",
   "pygments_lexer": "ipython3",
   "version": "3.6.2"
  }
 },
 "nbformat": 4,
 "nbformat_minor": 2
}
