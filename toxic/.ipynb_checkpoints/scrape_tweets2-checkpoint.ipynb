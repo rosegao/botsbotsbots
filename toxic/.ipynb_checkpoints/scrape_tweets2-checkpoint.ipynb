{
 "cells": [
  {
   "cell_type": "markdown",
   "metadata": {},
   "source": [
    "## Get Tweets"
   ]
  },
  {
   "cell_type": "code",
   "execution_count": 68,
   "metadata": {
    "collapsed": true
   },
   "outputs": [],
   "source": [
    "from twitterscraper import query_tweets\n",
    "from datetime import timedelta, date\n",
    "import pandas as pd\n",
    "import csv\n",
    "%matplotlib inline"
   ]
  },
  {
   "cell_type": "code",
   "execution_count": 3,
   "metadata": {
    "collapsed": true
   },
   "outputs": [],
   "source": [
    "def twitter_query_over_time(query, limit_per_day, start_date, end_date):\n",
    "    \n",
    "    # create dates between start_date and end_date\n",
    "    dates = [start_date + timedelta(days = x) for x in range((end_date - start_date).days + 1)]\n",
    "    \n",
    "    queries = []    \n",
    "    # enumerate through all pairs of dates until the second last day/last day pair\n",
    "    for i, date in enumerate(dates[:-1]):\n",
    "        query = query_tweets(query = query, limit = limit_per_day, \n",
    "                             begindate = dates[i], enddate = dates[i+1], \n",
    "                             poolsize=20, lang='en')\n",
    "        queries.extend(query)\n",
    "    \n",
    "    return queries"
   ]
  },
  {
   "cell_type": "markdown",
   "metadata": {},
   "source": [
    "### Query about Trump"
   ]
  },
  {
   "cell_type": "code",
   "execution_count": 39,
   "metadata": {
    "collapsed": true
   },
   "outputs": [],
   "source": [
    "query = 'Trump'\n",
    "limit_per_day = 500\n",
    "start_date = date(2016, 1, 1)\n",
    "end_date = date(2016, 5, 1)\n",
    "\n",
    "queries = twitter_query_over_time(query, limit_per_day, start_date, end_date)"
   ]
  },
  {
   "cell_type": "code",
   "execution_count": 40,
   "metadata": {},
   "outputs": [],
   "source": [
    "tweets = []\n",
    "for tweet in queries:\n",
    "    tweets.append({'date': tweet.timestamp, 'text': tweet.text, \n",
    "                   'fullname': tweet.fullname, 'id': tweet.id, \n",
    "                   'likes': tweet.likes, 'replies': tweet.replies,\n",
    "                   'retweets': tweet.retweets, 'url': tweet.url,\n",
    "                   'user': tweet.user})"
   ]
  },
  {
   "cell_type": "markdown",
   "metadata": {},
   "source": [
    "## Pre-process Tweets"
   ]
  },
  {
   "cell_type": "code",
   "execution_count": 41,
   "metadata": {},
   "outputs": [],
   "source": [
    "df = pd.DataFrame(tweets)"
   ]
  },
  {
   "cell_type": "code",
   "execution_count": 42,
   "metadata": {},
   "outputs": [
    {
     "data": {
      "text/plain": [
       "603"
      ]
     },
     "execution_count": 42,
     "metadata": {},
     "output_type": "execute_result"
    }
   ],
   "source": [
    "len(df)"
   ]
  },
  {
   "cell_type": "code",
   "execution_count": 43,
   "metadata": {
    "collapsed": true
   },
   "outputs": [],
   "source": [
    "# add timestamp column\n",
    "df['month'] = df['date'].apply(lambda x : date(x.year, x.month, 1))"
   ]
  },
  {
   "cell_type": "code",
   "execution_count": 44,
   "metadata": {
    "collapsed": true
   },
   "outputs": [],
   "source": [
    "# drop NAs\n",
    "df = df.dropna()"
   ]
  },
  {
   "cell_type": "code",
   "execution_count": 45,
   "metadata": {
    "collapsed": true
   },
   "outputs": [],
   "source": [
    "# drop duplicates\n",
    "df = df.drop_duplicates()"
   ]
  },
  {
   "cell_type": "code",
   "execution_count": 62,
   "metadata": {},
   "outputs": [],
   "source": [
    "# drop values outside of queried range\n",
    "df = df[df['date'] >= start_date]\n",
    "df = df[df['date'] <= end_date]"
   ]
  },
  {
   "cell_type": "code",
   "execution_count": 63,
   "metadata": {},
   "outputs": [
    {
     "data": {
      "text/plain": [
       "582"
      ]
     },
     "execution_count": 63,
     "metadata": {},
     "output_type": "execute_result"
    }
   ],
   "source": [
    "len(df)"
   ]
  },
  {
   "cell_type": "markdown",
   "metadata": {},
   "source": [
    "### Check that tweets look normal, ready for export"
   ]
  },
  {
   "cell_type": "code",
   "execution_count": 64,
   "metadata": {
    "scrolled": false
   },
   "outputs": [
    {
     "data": {
      "text/html": [
       "<div>\n",
       "<style>\n",
       "    .dataframe thead tr:only-child th {\n",
       "        text-align: right;\n",
       "    }\n",
       "\n",
       "    .dataframe thead th {\n",
       "        text-align: left;\n",
       "    }\n",
       "\n",
       "    .dataframe tbody tr th {\n",
       "        vertical-align: top;\n",
       "    }\n",
       "</style>\n",
       "<table border=\"1\" class=\"dataframe\">\n",
       "  <thead>\n",
       "    <tr style=\"text-align: right;\">\n",
       "      <th></th>\n",
       "      <th>date</th>\n",
       "      <th>fullname</th>\n",
       "      <th>id</th>\n",
       "      <th>likes</th>\n",
       "      <th>replies</th>\n",
       "      <th>retweets</th>\n",
       "      <th>text</th>\n",
       "      <th>url</th>\n",
       "      <th>user</th>\n",
       "      <th>month</th>\n",
       "    </tr>\n",
       "  </thead>\n",
       "  <tbody>\n",
       "    <tr>\n",
       "      <th>6</th>\n",
       "      <td>2016-01-01 18:04:12</td>\n",
       "      <td>Philip Lewis</td>\n",
       "      <td>682985689441525766</td>\n",
       "      <td>224</td>\n",
       "      <td>2</td>\n",
       "      <td>355</td>\n",
       "      <td>\"Your President, Donald Trump.\" https://twitte...</td>\n",
       "      <td>/Phil_Lewis_/status/682985689441525766</td>\n",
       "      <td>Phil_Lewis_</td>\n",
       "      <td>2016-01-01</td>\n",
       "    </tr>\n",
       "    <tr>\n",
       "      <th>12</th>\n",
       "      <td>2016-01-01 18:05:36</td>\n",
       "      <td>Ben Welsh</td>\n",
       "      <td>682986043839127552</td>\n",
       "      <td>765</td>\n",
       "      <td>71</td>\n",
       "      <td>732</td>\n",
       "      <td>Anti @realDonaldTrump skywriting above the #Ro...</td>\n",
       "      <td>/palewire/status/682986043839127552</td>\n",
       "      <td>palewire</td>\n",
       "      <td>2016-01-01</td>\n",
       "    </tr>\n",
       "    <tr>\n",
       "      <th>13</th>\n",
       "      <td>2016-01-01 19:22:39</td>\n",
       "      <td>KTLA</td>\n",
       "      <td>683005431094984704</td>\n",
       "      <td>1220</td>\n",
       "      <td>28</td>\n",
       "      <td>1031</td>\n",
       "      <td>\"America is great. Trump is disgusting\": skywr...</td>\n",
       "      <td>/KTLA/status/683005431094984704</td>\n",
       "      <td>KTLA</td>\n",
       "      <td>2016-01-01</td>\n",
       "    </tr>\n",
       "    <tr>\n",
       "      <th>587</th>\n",
       "      <td>2016-01-01 19:35:12</td>\n",
       "      <td>SheaMoisture UK</td>\n",
       "      <td>683008590987264000</td>\n",
       "      <td>120</td>\n",
       "      <td>406</td>\n",
       "      <td>780</td>\n",
       "      <td>It’s #FreebieFriday! Simply RT &amp; follow to spr...</td>\n",
       "      <td>/SheaMoistureUK/status/683008590987264000</td>\n",
       "      <td>SheaMoistureUK</td>\n",
       "      <td>2016-01-01</td>\n",
       "    </tr>\n",
       "    <tr>\n",
       "      <th>10</th>\n",
       "      <td>2016-01-01 23:08:18</td>\n",
       "      <td>Donald J. Trump</td>\n",
       "      <td>683062220490715136</td>\n",
       "      <td>3288</td>\n",
       "      <td>187</td>\n",
       "      <td>845</td>\n",
       "      <td>\"@MEMEoryHead: I'm one of your biggest fans Mr...</td>\n",
       "      <td>/realDonaldTrump/status/683062220490715136</td>\n",
       "      <td>realDonaldTrump</td>\n",
       "      <td>2016-01-01</td>\n",
       "    </tr>\n",
       "  </tbody>\n",
       "</table>\n",
       "</div>"
      ],
      "text/plain": [
       "                   date         fullname                  id likes replies  \\\n",
       "6   2016-01-01 18:04:12     Philip Lewis  682985689441525766   224       2   \n",
       "12  2016-01-01 18:05:36        Ben Welsh  682986043839127552   765      71   \n",
       "13  2016-01-01 19:22:39             KTLA  683005431094984704  1220      28   \n",
       "587 2016-01-01 19:35:12  SheaMoisture UK  683008590987264000   120     406   \n",
       "10  2016-01-01 23:08:18  Donald J. Trump  683062220490715136  3288     187   \n",
       "\n",
       "    retweets                                               text  \\\n",
       "6        355  \"Your President, Donald Trump.\" https://twitte...   \n",
       "12       732  Anti @realDonaldTrump skywriting above the #Ro...   \n",
       "13      1031  \"America is great. Trump is disgusting\": skywr...   \n",
       "587      780  It’s #FreebieFriday! Simply RT & follow to spr...   \n",
       "10       845  \"@MEMEoryHead: I'm one of your biggest fans Mr...   \n",
       "\n",
       "                                            url             user       month  \n",
       "6        /Phil_Lewis_/status/682985689441525766      Phil_Lewis_  2016-01-01  \n",
       "12          /palewire/status/682986043839127552         palewire  2016-01-01  \n",
       "13              /KTLA/status/683005431094984704             KTLA  2016-01-01  \n",
       "587   /SheaMoistureUK/status/683008590987264000   SheaMoistureUK  2016-01-01  \n",
       "10   /realDonaldTrump/status/683062220490715136  realDonaldTrump  2016-01-01  "
      ]
     },
     "execution_count": 64,
     "metadata": {},
     "output_type": "execute_result"
    }
   ],
   "source": [
    "df.sort_values('date').head()"
   ]
  },
  {
   "cell_type": "code",
   "execution_count": 65,
   "metadata": {
    "scrolled": true
   },
   "outputs": [
    {
     "data": {
      "text/plain": [
       "<matplotlib.axes._subplots.AxesSubplot at 0x2f49dac4208>"
      ]
     },
     "execution_count": 65,
     "metadata": {},
     "output_type": "execute_result"
    },
    {
     "data": {
      "image/png": "[encoded data removed]",
      "text/plain": [
       "<matplotlib.figure.Figure at 0x2f49db25400>"
      ]
     },
     "metadata": {},
     "output_type": "display_data"
    }
   ],
   "source": [
    "df.groupby('date')['text'].count().cumsum().plot()"
   ]
  },
  {
   "cell_type": "code",
   "execution_count": 71,
   "metadata": {},
   "outputs": [],
   "source": [
    "df.to_csv('twitter_data/scraped_tweets')"
   ]
  },
  {
   "cell_type": "code",
   "execution_count": null,
   "metadata": {
    "collapsed": true
   },
   "outputs": [],
   "source": []
  }
 ],
 "metadata": {
  "kernelspec": {
   "display_name": "Python 3",
   "language": "python",
   "name": "python3"
  },
  "language_info": {
   "codemirror_mode": {
    "name": "ipython",
    "version": 3
   },
   "file_extension": ".py",
   "mimetype": "text/x-python",
   "name": "python",
   "nbconvert_exporter": "python",
   "pygments_lexer": "ipython3",
   "version": "3.6.2"
  }
 },
 "nbformat": 4,
 "nbformat_minor": 2
}
